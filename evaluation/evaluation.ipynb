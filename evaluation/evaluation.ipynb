{
 "cells": [
  {
   "cell_type": "code",
   "execution_count": 76,
   "metadata": {},
   "outputs": [],
   "source": [
    "import pandas as pd\n",
    "import seaborn as sns\n",
    "from pandas import DataFrame\n",
    "from preprocessors import final_value"
   ]
  },
  {
   "cell_type": "code",
   "execution_count": 77,
   "metadata": {},
   "outputs": [],
   "source": [
    "store_sizes = pd.read_csv(\"/research_data/sommer2020cadr/combined.csv\")"
   ]
  },
  {
   "cell_type": "code",
   "execution_count": 78,
   "metadata": {},
   "outputs": [
    {
     "data": {
      "text/html": [
       "<div>\n",
       "<style scoped>\n",
       "    .dataframe tbody tr th:only-of-type {\n",
       "        vertical-align: middle;\n",
       "    }\n",
       "\n",
       "    .dataframe tbody tr th {\n",
       "        vertical-align: top;\n",
       "    }\n",
       "\n",
       "    .dataframe thead th {\n",
       "        text-align: right;\n",
       "    }\n",
       "</style>\n",
       "<table border=\"1\" class=\"dataframe\">\n",
       "  <thead>\n",
       "    <tr style=\"text-align: right;\">\n",
       "      <th></th>\n",
       "      <th>Unnamed: 0</th>\n",
       "      <th>routing</th>\n",
       "      <th>node</th>\n",
       "      <th>timestamp</th>\n",
       "      <th>size</th>\n",
       "      <th>node_type</th>\n",
       "    </tr>\n",
       "  </thead>\n",
       "  <tbody>\n",
       "    <tr>\n",
       "      <th>60</th>\n",
       "      <td>60</td>\n",
       "      <td>epidemic</td>\n",
       "      <td>n50</td>\n",
       "      <td>1583934609</td>\n",
       "      <td>277</td>\n",
       "      <td>sensor</td>\n",
       "    </tr>\n",
       "    <tr>\n",
       "      <th>105</th>\n",
       "      <td>44</td>\n",
       "      <td>epidemic</td>\n",
       "      <td>n46</td>\n",
       "      <td>1583933647</td>\n",
       "      <td>214</td>\n",
       "      <td>sensor</td>\n",
       "    </tr>\n",
       "    <tr>\n",
       "      <th>166</th>\n",
       "      <td>60</td>\n",
       "      <td>epidemic</td>\n",
       "      <td>n45</td>\n",
       "      <td>1583934608</td>\n",
       "      <td>276</td>\n",
       "      <td>sensor</td>\n",
       "    </tr>\n",
       "    <tr>\n",
       "      <th>227</th>\n",
       "      <td>60</td>\n",
       "      <td>epidemic</td>\n",
       "      <td>n44</td>\n",
       "      <td>1583934608</td>\n",
       "      <td>278</td>\n",
       "      <td>sensor</td>\n",
       "    </tr>\n",
       "    <tr>\n",
       "      <th>288</th>\n",
       "      <td>60</td>\n",
       "      <td>epidemic</td>\n",
       "      <td>n40</td>\n",
       "      <td>1583934608</td>\n",
       "      <td>98</td>\n",
       "      <td>sensor</td>\n",
       "    </tr>\n",
       "    <tr>\n",
       "      <th>...</th>\n",
       "      <td>...</td>\n",
       "      <td>...</td>\n",
       "      <td>...</td>\n",
       "      <td>...</td>\n",
       "      <td>...</td>\n",
       "      <td>...</td>\n",
       "    </tr>\n",
       "    <tr>\n",
       "      <th>5024</th>\n",
       "      <td>60</td>\n",
       "      <td>context</td>\n",
       "      <td>n45</td>\n",
       "      <td>1583939432</td>\n",
       "      <td>10</td>\n",
       "      <td>sensor</td>\n",
       "    </tr>\n",
       "    <tr>\n",
       "      <th>5085</th>\n",
       "      <td>60</td>\n",
       "      <td>context</td>\n",
       "      <td>n50</td>\n",
       "      <td>1583939433</td>\n",
       "      <td>31</td>\n",
       "      <td>sensor</td>\n",
       "    </tr>\n",
       "    <tr>\n",
       "      <th>5093</th>\n",
       "      <td>7</td>\n",
       "      <td>context</td>\n",
       "      <td>n6</td>\n",
       "      <td>1583936249</td>\n",
       "      <td>3</td>\n",
       "      <td>visitor</td>\n",
       "    </tr>\n",
       "    <tr>\n",
       "      <th>5137</th>\n",
       "      <td>43</td>\n",
       "      <td>context</td>\n",
       "      <td>n3</td>\n",
       "      <td>1583938411</td>\n",
       "      <td>2</td>\n",
       "      <td>visitor</td>\n",
       "    </tr>\n",
       "    <tr>\n",
       "      <th>5172</th>\n",
       "      <td>34</td>\n",
       "      <td>context</td>\n",
       "      <td>n2</td>\n",
       "      <td>1583937870</td>\n",
       "      <td>3</td>\n",
       "      <td>visitor</td>\n",
       "    </tr>\n",
       "  </tbody>\n",
       "</table>\n",
       "<p>100 rows × 6 columns</p>\n",
       "</div>"
      ],
      "text/plain": [
       "      Unnamed: 0   routing node   timestamp  size node_type\n",
       "60            60  epidemic  n50  1583934609   277    sensor\n",
       "105           44  epidemic  n46  1583933647   214    sensor\n",
       "166           60  epidemic  n45  1583934608   276    sensor\n",
       "227           60  epidemic  n44  1583934608   278    sensor\n",
       "288           60  epidemic  n40  1583934608    98    sensor\n",
       "...          ...       ...  ...         ...   ...       ...\n",
       "5024          60   context  n45  1583939432    10    sensor\n",
       "5085          60   context  n50  1583939433    31    sensor\n",
       "5093           7   context   n6  1583936249     3   visitor\n",
       "5137          43   context   n3  1583938411     2   visitor\n",
       "5172          34   context   n2  1583937870     3   visitor\n",
       "\n",
       "[100 rows x 6 columns]"
      ]
     },
     "execution_count": 78,
     "metadata": {},
     "output_type": "execute_result"
    }
   ],
   "source": [
    "# split data into different dataframes for each routing algorithm \n",
    "epidemic = store_sizes.loc[store_sizes[\"routing\"] == \"epidemic\"]\n",
    "context = store_sizes.loc[store_sizes[\"routing\"] == \"context\"]\n",
    "\n",
    "# extract the final measurements\n",
    "final_sizes_epidemic = final_value(epidemic)\n",
    "final_sizes_context = final_value(context)\n",
    "\n",
    "final_sizes_combined = pandas.concat([final_sizes_epidemic, final_sizes_context])\n",
    "final_sizes_combined"
   ]
  },
  {
   "cell_type": "code",
   "execution_count": 79,
   "metadata": {},
   "outputs": [
    {
     "data": {
      "text/html": [
       "<div>\n",
       "<style scoped>\n",
       "    .dataframe tbody tr th:only-of-type {\n",
       "        vertical-align: middle;\n",
       "    }\n",
       "\n",
       "    .dataframe tbody tr th {\n",
       "        vertical-align: top;\n",
       "    }\n",
       "\n",
       "    .dataframe thead th {\n",
       "        text-align: right;\n",
       "    }\n",
       "</style>\n",
       "<table border=\"1\" class=\"dataframe\">\n",
       "  <thead>\n",
       "    <tr style=\"text-align: right;\">\n",
       "      <th></th>\n",
       "      <th>Unnamed: 0</th>\n",
       "      <th>timestamp</th>\n",
       "      <th>size</th>\n",
       "    </tr>\n",
       "  </thead>\n",
       "  <tbody>\n",
       "    <tr>\n",
       "      <th>count</th>\n",
       "      <td>50.000000</td>\n",
       "      <td>5.000000e+01</td>\n",
       "      <td>50.000000</td>\n",
       "    </tr>\n",
       "    <tr>\n",
       "      <th>mean</th>\n",
       "      <td>52.840000</td>\n",
       "      <td>1.583934e+09</td>\n",
       "      <td>202.320000</td>\n",
       "    </tr>\n",
       "    <tr>\n",
       "      <th>std</th>\n",
       "      <td>17.385615</td>\n",
       "      <td>1.044569e+03</td>\n",
       "      <td>105.097708</td>\n",
       "    </tr>\n",
       "    <tr>\n",
       "      <th>min</th>\n",
       "      <td>2.000000</td>\n",
       "      <td>1.583931e+09</td>\n",
       "      <td>0.000000</td>\n",
       "    </tr>\n",
       "    <tr>\n",
       "      <th>25%</th>\n",
       "      <td>60.000000</td>\n",
       "      <td>1.583935e+09</td>\n",
       "      <td>95.000000</td>\n",
       "    </tr>\n",
       "    <tr>\n",
       "      <th>50%</th>\n",
       "      <td>60.000000</td>\n",
       "      <td>1.583935e+09</td>\n",
       "      <td>276.000000</td>\n",
       "    </tr>\n",
       "    <tr>\n",
       "      <th>75%</th>\n",
       "      <td>60.000000</td>\n",
       "      <td>1.583935e+09</td>\n",
       "      <td>278.000000</td>\n",
       "    </tr>\n",
       "    <tr>\n",
       "      <th>max</th>\n",
       "      <td>60.000000</td>\n",
       "      <td>1.583935e+09</td>\n",
       "      <td>278.000000</td>\n",
       "    </tr>\n",
       "  </tbody>\n",
       "</table>\n",
       "</div>"
      ],
      "text/plain": [
       "       Unnamed: 0     timestamp        size\n",
       "count   50.000000  5.000000e+01   50.000000\n",
       "mean    52.840000  1.583934e+09  202.320000\n",
       "std     17.385615  1.044569e+03  105.097708\n",
       "min      2.000000  1.583931e+09    0.000000\n",
       "25%     60.000000  1.583935e+09   95.000000\n",
       "50%     60.000000  1.583935e+09  276.000000\n",
       "75%     60.000000  1.583935e+09  278.000000\n",
       "max     60.000000  1.583935e+09  278.000000"
      ]
     },
     "execution_count": 79,
     "metadata": {},
     "output_type": "execute_result"
    }
   ],
   "source": [
    "# descriptive stats for epidemic run\n",
    "final_sizes_epidemic.describe()"
   ]
  },
  {
   "cell_type": "code",
   "execution_count": 80,
   "metadata": {},
   "outputs": [
    {
     "data": {
      "text/html": [
       "<div>\n",
       "<style scoped>\n",
       "    .dataframe tbody tr th:only-of-type {\n",
       "        vertical-align: middle;\n",
       "    }\n",
       "\n",
       "    .dataframe tbody tr th {\n",
       "        vertical-align: top;\n",
       "    }\n",
       "\n",
       "    .dataframe thead th {\n",
       "        text-align: right;\n",
       "    }\n",
       "</style>\n",
       "<table border=\"1\" class=\"dataframe\">\n",
       "  <thead>\n",
       "    <tr style=\"text-align: right;\">\n",
       "      <th></th>\n",
       "      <th>Unnamed: 0</th>\n",
       "      <th>timestamp</th>\n",
       "      <th>size</th>\n",
       "    </tr>\n",
       "  </thead>\n",
       "  <tbody>\n",
       "    <tr>\n",
       "      <th>count</th>\n",
       "      <td>50.00000</td>\n",
       "      <td>5.000000e+01</td>\n",
       "      <td>50.000000</td>\n",
       "    </tr>\n",
       "    <tr>\n",
       "      <th>mean</th>\n",
       "      <td>48.62000</td>\n",
       "      <td>1.583939e+09</td>\n",
       "      <td>18.240000</td>\n",
       "    </tr>\n",
       "    <tr>\n",
       "      <th>std</th>\n",
       "      <td>21.09153</td>\n",
       "      <td>1.266715e+03</td>\n",
       "      <td>17.242046</td>\n",
       "    </tr>\n",
       "    <tr>\n",
       "      <th>min</th>\n",
       "      <td>2.00000</td>\n",
       "      <td>1.583936e+09</td>\n",
       "      <td>1.000000</td>\n",
       "    </tr>\n",
       "    <tr>\n",
       "      <th>25%</th>\n",
       "      <td>48.75000</td>\n",
       "      <td>1.583939e+09</td>\n",
       "      <td>4.250000</td>\n",
       "    </tr>\n",
       "    <tr>\n",
       "      <th>50%</th>\n",
       "      <td>60.00000</td>\n",
       "      <td>1.583939e+09</td>\n",
       "      <td>10.000000</td>\n",
       "    </tr>\n",
       "    <tr>\n",
       "      <th>75%</th>\n",
       "      <td>60.00000</td>\n",
       "      <td>1.583939e+09</td>\n",
       "      <td>31.000000</td>\n",
       "    </tr>\n",
       "    <tr>\n",
       "      <th>max</th>\n",
       "      <td>60.00000</td>\n",
       "      <td>1.583939e+09</td>\n",
       "      <td>61.000000</td>\n",
       "    </tr>\n",
       "  </tbody>\n",
       "</table>\n",
       "</div>"
      ],
      "text/plain": [
       "       Unnamed: 0     timestamp       size\n",
       "count    50.00000  5.000000e+01  50.000000\n",
       "mean     48.62000  1.583939e+09  18.240000\n",
       "std      21.09153  1.266715e+03  17.242046\n",
       "min       2.00000  1.583936e+09   1.000000\n",
       "25%      48.75000  1.583939e+09   4.250000\n",
       "50%      60.00000  1.583939e+09  10.000000\n",
       "75%      60.00000  1.583939e+09  31.000000\n",
       "max      60.00000  1.583939e+09  61.000000"
      ]
     },
     "execution_count": 80,
     "metadata": {},
     "output_type": "execute_result"
    }
   ],
   "source": [
    "# descriptive stats for context run\n",
    "final_sizes_context.describe()"
   ]
  },
  {
   "cell_type": "code",
   "execution_count": 81,
   "metadata": {},
   "outputs": [
    {
     "data": {
      "image/png": "[encoded data removed]",
      "text/plain": [
       "<Figure size 432x288 with 1 Axes>"
      ]
     },
     "metadata": {},
     "output_type": "display_data"
    }
   ],
   "source": [
    "# plot store sizes of all simulation runs\n",
    "sns.set(style=\"whitegrid\")\n",
    "bp = sns.boxplot(x=\"routing\", y=\"size\", data=final_sizes_combined)"
   ]
  },
  {
   "cell_type": "code",
   "execution_count": 84,
   "metadata": {},
   "outputs": [
    {
     "data": {
      "image/png": "[encoded data removed]",
      "text/plain": [
       "<Figure size 432x288 with 1 Axes>"
      ]
     },
     "metadata": {},
     "output_type": "display_data"
    }
   ],
   "source": [
    "# plot store sizes of all simulation runs witch comparion between node types\n",
    "sns.set(style=\"whitegrid\")\n",
    "bp = sns.boxplot(x=\"routing\", y=\"size\", hue=\"node_type\", data=final_sizes_combined)"
   ]
  },
  {
   "cell_type": "code",
   "execution_count": 82,
   "metadata": {},
   "outputs": [
    {
     "data": {
      "image/png": "[encoded data removed]",
      "text/plain": [
       "<Figure size 432x288 with 1 Axes>"
      ]
     },
     "metadata": {},
     "output_type": "display_data"
    }
   ],
   "source": [
    "# plot store sizes of node types for epidemic\n",
    "sns.set(style=\"whitegrid\")\n",
    "bp = sns.boxplot(x=\"node_type\", y=\"size\", data=final_sizes_epidemic)"
   ]
  },
  {
   "cell_type": "code",
   "execution_count": 83,
   "metadata": {},
   "outputs": [
    {
     "data": {
      "image/png": "[encoded data removed]",
      "text/plain": [
       "<Figure size 432x288 with 1 Axes>"
      ]
     },
     "metadata": {},
     "output_type": "display_data"
    }
   ],
   "source": [
    "# plot store sizes of node types for context\n",
    "sns.set(style=\"whitegrid\")\n",
    "bp = sns.boxplot(x=\"node_type\", y=\"size\", data=final_sizes_context)"
   ]
  }
 ],
 "metadata": {
  "kernelspec": {
   "display_name": "Python 3",
   "language": "python",
   "name": "python3"
  },
  "language_info": {
   "codemirror_mode": {
    "name": "ipython",
    "version": 3
   },
   "file_extension": ".py",
   "mimetype": "text/x-python",
   "name": "python",
   "nbconvert_exporter": "python",
   "pygments_lexer": "ipython3",
   "version": "3.8.2"
  }
 },
 "nbformat": 4,
 "nbformat_minor": 2
}
