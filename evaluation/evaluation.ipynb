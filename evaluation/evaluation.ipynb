{
 "cells": [
  {
   "cell_type": "code",
   "execution_count": 49,
   "metadata": {},
   "outputs": [],
   "source": [
    "import pandas as pd\n",
    "import seaborn as sns\n",
    "import matplotlib.pyplot as plt\n",
    "from pandas import DataFrame\n",
    "from preprocessors import final_value"
   ]
  },
  {
   "cell_type": "code",
   "execution_count": 2,
   "metadata": {},
   "outputs": [],
   "source": [
    "store_sizes = pd.read_csv(\"/research_data/sommer2020cadr/combined.csv\")"
   ]
  },
  {
   "cell_type": "code",
   "execution_count": 3,
   "metadata": {},
   "outputs": [
    {
     "data": {
      "text/html": [
       "<div>\n",
       "<style scoped>\n",
       "    .dataframe tbody tr th:only-of-type {\n",
       "        vertical-align: middle;\n",
       "    }\n",
       "\n",
       "    .dataframe tbody tr th {\n",
       "        vertical-align: top;\n",
       "    }\n",
       "\n",
       "    .dataframe thead th {\n",
       "        text-align: right;\n",
       "    }\n",
       "</style>\n",
       "<table border=\"1\" class=\"dataframe\">\n",
       "  <thead>\n",
       "    <tr style=\"text-align: right;\">\n",
       "      <th></th>\n",
       "      <th>Unnamed: 0</th>\n",
       "      <th>routing</th>\n",
       "      <th>node</th>\n",
       "      <th>timestamp</th>\n",
       "      <th>size</th>\n",
       "      <th>node_type</th>\n",
       "    </tr>\n",
       "  </thead>\n",
       "  <tbody>\n",
       "    <tr>\n",
       "      <th>60</th>\n",
       "      <td>60</td>\n",
       "      <td>epidemic</td>\n",
       "      <td>n50</td>\n",
       "      <td>1583934609</td>\n",
       "      <td>277</td>\n",
       "      <td>sensor</td>\n",
       "    </tr>\n",
       "    <tr>\n",
       "      <th>105</th>\n",
       "      <td>44</td>\n",
       "      <td>epidemic</td>\n",
       "      <td>n46</td>\n",
       "      <td>1583933647</td>\n",
       "      <td>214</td>\n",
       "      <td>sensor</td>\n",
       "    </tr>\n",
       "    <tr>\n",
       "      <th>166</th>\n",
       "      <td>60</td>\n",
       "      <td>epidemic</td>\n",
       "      <td>n45</td>\n",
       "      <td>1583934608</td>\n",
       "      <td>276</td>\n",
       "      <td>sensor</td>\n",
       "    </tr>\n",
       "    <tr>\n",
       "      <th>227</th>\n",
       "      <td>60</td>\n",
       "      <td>epidemic</td>\n",
       "      <td>n44</td>\n",
       "      <td>1583934608</td>\n",
       "      <td>278</td>\n",
       "      <td>sensor</td>\n",
       "    </tr>\n",
       "    <tr>\n",
       "      <th>288</th>\n",
       "      <td>60</td>\n",
       "      <td>epidemic</td>\n",
       "      <td>n40</td>\n",
       "      <td>1583934608</td>\n",
       "      <td>98</td>\n",
       "      <td>sensor</td>\n",
       "    </tr>\n",
       "    <tr>\n",
       "      <th>...</th>\n",
       "      <td>...</td>\n",
       "      <td>...</td>\n",
       "      <td>...</td>\n",
       "      <td>...</td>\n",
       "      <td>...</td>\n",
       "      <td>...</td>\n",
       "    </tr>\n",
       "    <tr>\n",
       "      <th>10395</th>\n",
       "      <td>60</td>\n",
       "      <td>prophet</td>\n",
       "      <td>n45</td>\n",
       "      <td>1584111188</td>\n",
       "      <td>10</td>\n",
       "      <td>sensor</td>\n",
       "    </tr>\n",
       "    <tr>\n",
       "      <th>10456</th>\n",
       "      <td>60</td>\n",
       "      <td>prophet</td>\n",
       "      <td>n50</td>\n",
       "      <td>1584111188</td>\n",
       "      <td>11</td>\n",
       "      <td>sensor</td>\n",
       "    </tr>\n",
       "    <tr>\n",
       "      <th>10470</th>\n",
       "      <td>13</td>\n",
       "      <td>prophet</td>\n",
       "      <td>n6</td>\n",
       "      <td>1584108365</td>\n",
       "      <td>0</td>\n",
       "      <td>visitor</td>\n",
       "    </tr>\n",
       "    <tr>\n",
       "      <th>10531</th>\n",
       "      <td>60</td>\n",
       "      <td>prophet</td>\n",
       "      <td>n3</td>\n",
       "      <td>1584111187</td>\n",
       "      <td>0</td>\n",
       "      <td>visitor</td>\n",
       "    </tr>\n",
       "    <tr>\n",
       "      <th>10544</th>\n",
       "      <td>12</td>\n",
       "      <td>prophet</td>\n",
       "      <td>n2</td>\n",
       "      <td>1584108305</td>\n",
       "      <td>0</td>\n",
       "      <td>visitor</td>\n",
       "    </tr>\n",
       "  </tbody>\n",
       "</table>\n",
       "<p>200 rows × 6 columns</p>\n",
       "</div>"
      ],
      "text/plain": [
       "       Unnamed: 0   routing node   timestamp  size node_type\n",
       "60             60  epidemic  n50  1583934609   277    sensor\n",
       "105            44  epidemic  n46  1583933647   214    sensor\n",
       "166            60  epidemic  n45  1583934608   276    sensor\n",
       "227            60  epidemic  n44  1583934608   278    sensor\n",
       "288            60  epidemic  n40  1583934608    98    sensor\n",
       "...           ...       ...  ...         ...   ...       ...\n",
       "10395          60   prophet  n45  1584111188    10    sensor\n",
       "10456          60   prophet  n50  1584111188    11    sensor\n",
       "10470          13   prophet   n6  1584108365     0   visitor\n",
       "10531          60   prophet   n3  1584111187     0   visitor\n",
       "10544          12   prophet   n2  1584108305     0   visitor\n",
       "\n",
       "[200 rows x 6 columns]"
      ]
     },
     "execution_count": 3,
     "metadata": {},
     "output_type": "execute_result"
    }
   ],
   "source": [
    "# split data into different dataframes for each routing algorithm \n",
    "epidemic = store_sizes.loc[store_sizes[\"routing\"] == \"epidemic\"]\n",
    "context = store_sizes.loc[store_sizes[\"routing\"] == \"context\"]\n",
    "spray = store_sizes.loc[store_sizes[\"routing\"] == \"binary_spray\"]\n",
    "prophet = store_sizes.loc[store_sizes[\"routing\"] == \"prophet\"]\n",
    "\n",
    "# extract the final measurements\n",
    "final_sizes_epidemic = final_value(epidemic)\n",
    "final_sizes_context = final_value(context)\n",
    "final_sizes_spray = final_value(spray)\n",
    "final_sizes_prophet = final_value(prophet)\n",
    "\n",
    "final_sizes_combined = pd.concat([final_sizes_epidemic, \n",
    "                                  final_sizes_context, \n",
    "                                  final_sizes_spray, \n",
    "                                  final_sizes_prophet])\n",
    "final_sizes_combined"
   ]
  },
  {
   "cell_type": "code",
   "execution_count": 4,
   "metadata": {},
   "outputs": [
    {
     "data": {
      "text/plain": [
       "count     50.000000\n",
       "mean     202.320000\n",
       "std      105.097708\n",
       "min        0.000000\n",
       "25%       95.000000\n",
       "50%      276.000000\n",
       "75%      278.000000\n",
       "max      278.000000\n",
       "Name: size, dtype: float64"
      ]
     },
     "execution_count": 4,
     "metadata": {},
     "output_type": "execute_result"
    }
   ],
   "source": [
    "# descriptive stats for epidemic run\n",
    "final_sizes_epidemic[\"size\"].describe()"
   ]
  },
  {
   "cell_type": "code",
   "execution_count": 5,
   "metadata": {},
   "outputs": [
    {
     "data": {
      "text/plain": [
       "count    50.000000\n",
       "mean     18.240000\n",
       "std      17.242046\n",
       "min       1.000000\n",
       "25%       4.250000\n",
       "50%      10.000000\n",
       "75%      31.000000\n",
       "max      61.000000\n",
       "Name: size, dtype: float64"
      ]
     },
     "execution_count": 5,
     "metadata": {},
     "output_type": "execute_result"
    }
   ],
   "source": [
    "# descriptive stats for context run\n",
    "final_sizes_context[\"size\"].describe()"
   ]
  },
  {
   "cell_type": "code",
   "execution_count": 6,
   "metadata": {},
   "outputs": [
    {
     "data": {
      "text/plain": [
       "count    50.000000\n",
       "mean     21.160000\n",
       "std      11.245607\n",
       "min       0.000000\n",
       "25%      12.250000\n",
       "50%      22.500000\n",
       "75%      30.750000\n",
       "max      46.000000\n",
       "Name: size, dtype: float64"
      ]
     },
     "execution_count": 6,
     "metadata": {},
     "output_type": "execute_result"
    }
   ],
   "source": [
    "# descriptive stats for binary_spray run\n",
    "final_sizes_spray[\"size\"].describe()"
   ]
  },
  {
   "cell_type": "code",
   "execution_count": 7,
   "metadata": {},
   "outputs": [
    {
     "data": {
      "text/plain": [
       "count    50.000000\n",
       "mean      6.340000\n",
       "std       5.336092\n",
       "min       0.000000\n",
       "25%       0.000000\n",
       "50%       9.000000\n",
       "75%      11.000000\n",
       "max      14.000000\n",
       "Name: size, dtype: float64"
      ]
     },
     "execution_count": 7,
     "metadata": {},
     "output_type": "execute_result"
    }
   ],
   "source": [
    "# descriptive stats for prophet run\n",
    "final_sizes_prophet[\"size\"].describe()"
   ]
  },
  {
   "cell_type": "code",
   "execution_count": 8,
   "metadata": {},
   "outputs": [
    {
     "data": {
      "image/png": "[encoded data removed]",
      "text/plain": [
       "<Figure size 432x288 with 1 Axes>"
      ]
     },
     "metadata": {},
     "output_type": "display_data"
    }
   ],
   "source": [
    "# plot store sizes of all simulation runs\n",
    "sns.set(style=\"whitegrid\")\n",
    "bp = sns.boxplot(x=\"routing\", y=\"size\", data=final_sizes_combined)\n",
    "bp.set(xlabel=\"routing algorithm\", ylabel=\"# of bundles in store\")\n",
    "bp.figure.savefig(\"figures/size_boxplot_all.pdf\", format=\"pdf\")"
   ]
  },
  {
   "cell_type": "code",
   "execution_count": 9,
   "metadata": {},
   "outputs": [
    {
     "data": {
      "image/png": "[encoded data removed]",
      "text/plain": [
       "<Figure size 432x288 with 1 Axes>"
      ]
     },
     "metadata": {},
     "output_type": "display_data"
    }
   ],
   "source": [
    "# plot store sizes of all simulation runs witch comparion between node types\n",
    "sns.set(style=\"whitegrid\")\n",
    "bp = sns.boxplot(x=\"routing\", y=\"size\", hue=\"node_type\", data=final_sizes_combined)"
   ]
  },
  {
   "cell_type": "code",
   "execution_count": 10,
   "metadata": {},
   "outputs": [
    {
     "data": {
      "image/png": "[encoded data removed]",
      "text/plain": [
       "<Figure size 432x288 with 1 Axes>"
      ]
     },
     "metadata": {},
     "output_type": "display_data"
    }
   ],
   "source": [
    "# plot store sizes of node types for epidemic\n",
    "sns.set(style=\"whitegrid\")\n",
    "bp = sns.boxplot(x=\"node_type\", y=\"size\", data=final_sizes_epidemic)\n",
    "bp.set(xlabel=\"node type\", ylabel=\"# of bundles in store\", title=\"Epidemic Routing\")\n",
    "bp.figure.savefig(\"figures/size_boxplot_epidemic.pdf\", format=\"pdf\")"
   ]
  },
  {
   "cell_type": "code",
   "execution_count": 11,
   "metadata": {},
   "outputs": [
    {
     "data": {
      "image/png": "[encoded data removed]",
      "text/plain": [
       "<Figure size 432x288 with 1 Axes>"
      ]
     },
     "metadata": {},
     "output_type": "display_data"
    }
   ],
   "source": [
    "# plot store sizes of node types for context\n",
    "sns.set(style=\"whitegrid\")\n",
    "bp = sns.boxplot(x=\"node_type\", y=\"size\", data=final_sizes_context)\n",
    "bp.set(xlabel=\"node type\", ylabel=\"# of bundles in store\", title=\"Cadr\")\n",
    "bp.figure.savefig(\"figures/size_boxplot_context.pdf\", format=\"pdf\")"
   ]
  },
  {
   "cell_type": "code",
   "execution_count": 12,
   "metadata": {},
   "outputs": [
    {
     "data": {
      "image/png": "[encoded data removed]",
      "text/plain": [
       "<Figure size 432x288 with 1 Axes>"
      ]
     },
     "metadata": {},
     "output_type": "display_data"
    }
   ],
   "source": [
    "# plot store sizes of node types for binary_spray\n",
    "sns.set(style=\"whitegrid\")\n",
    "bp = sns.boxplot(x=\"node_type\", y=\"size\", data=final_sizes_spray)\n",
    "bp.set(xlabel=\"node type\", ylabel=\"# of bundles in store\", title=\"Spray & Wait\")\n",
    "bp.figure.savefig(\"figures/size_boxplot_spray.pdf\", format=\"pdf\")"
   ]
  },
  {
   "cell_type": "code",
   "execution_count": 13,
   "metadata": {},
   "outputs": [
    {
     "data": {
      "image/png": "[encoded data removed]",
      "text/plain": [
       "<Figure size 432x288 with 1 Axes>"
      ]
     },
     "metadata": {},
     "output_type": "display_data"
    }
   ],
   "source": [
    "# plot store sizes of node types for prophet\n",
    "sns.set(style=\"whitegrid\")\n",
    "bp = sns.boxplot(x=\"node_type\", y=\"size\", data=final_sizes_prophet)\n",
    "bp.set(xlabel=\"node type\", ylabel=\"# of bundles in store\", title=\"PROPHET\")\n",
    "bp.figure.savefig(\"figures/size_boxplot_prophet.pdf\", format=\"pdf\")"
   ]
  },
  {
   "cell_type": "code",
   "execution_count": 14,
   "metadata": {},
   "outputs": [],
   "source": [
    "bundle_runtimes_context = pd.read_csv(\"/research_data/sommer2020cadr/bundle_runtimes_context.csv\")\n",
    "bundle_runtimes_epidemic = pd.read_csv(\"/research_data/sommer2020cadr/bundle_runtimes_epidemic.csv\")\n",
    "bundle_runtimes_prophet = pd.read_csv(\"/research_data/sommer2020cadr/bundle_runtimes_prophet.csv\")\n",
    "bundle_runtimes_spray = pd.read_csv(\"/research_data/sommer2020cadr/bundle_runtimes_spray.csv\")\n",
    "bundle_runtimes_complete = pd.concat([\n",
    "    bundle_runtimes_context,\n",
    "    bundle_runtimes_epidemic,\n",
    "    bundle_runtimes_prophet,\n",
    "    bundle_runtimes_spray\n",
    "])"
   ]
  },
  {
   "cell_type": "code",
   "execution_count": 15,
   "metadata": {},
   "outputs": [
    {
     "data": {
      "text/plain": [
       "[Text(0, 0.5, 'delivery time (ms)'), Text(0.5, 0, 'routing algorithm')]"
      ]
     },
     "execution_count": 15,
     "metadata": {},
     "output_type": "execute_result"
    },
    {
     "data": {
      "image/png": "[encoded data removed]",
      "text/plain": [
       "<Figure size 432x288 with 1 Axes>"
      ]
     },
     "metadata": {},
     "output_type": "display_data"
    }
   ],
   "source": [
    "sns.set(style=\"whitegrid\")\n",
    "bp = sns.boxplot(x=\"routing\", y=\"runtime\", data=bundle_runtimes_complete)\n",
    "bp.set(xlabel=\"routing algorithm\", ylabel=\"delivery time (ms)\")"
   ]
  },
  {
   "cell_type": "code",
   "execution_count": 60,
   "metadata": {},
   "outputs": [
    {
     "data": {
      "image/png": "[encoded data removed]",
      "text/plain": [
       "<Figure size 432x288 with 1 Axes>"
      ]
     },
     "metadata": {},
     "output_type": "display_data"
    }
   ],
   "source": [
    "sns.set(style=\"whitegrid\")\n",
    "bp = sns.distplot(bundle_runtimes_context[\"runtime\"], kde=False, rug=True)\n",
    "bp.set(xlabel=\"delivery time (ms)\", title=\"Cadr\")\n",
    "bp.figure.savefig(\"figures/delivery_time_cadr.pdf\", format=\"pdf\")"
   ]
  },
  {
   "cell_type": "code",
   "execution_count": 17,
   "metadata": {},
   "outputs": [
    {
     "data": {
      "image/png": "[encoded data removed]",
      "text/plain": [
       "<Figure size 432x288 with 1 Axes>"
      ]
     },
     "metadata": {},
     "output_type": "display_data"
    }
   ],
   "source": [
    "sns.set(style=\"whitegrid\")\n",
    "bp = sns.distplot(bundle_runtimes_epidemic[\"runtime\"], kde=False, rug=True)\n",
    "bp.set(xlabel=\"delivery time (ms)\", title=\"Epidemic Routing\")\n",
    "bp.figure.savefig(\"figures/delivery_time_epidemic.pdf\", format=\"pdf\")"
   ]
  },
  {
   "cell_type": "code",
   "execution_count": 18,
   "metadata": {},
   "outputs": [
    {
     "data": {
      "image/png": "[encoded data removed]",
      "text/plain": [
       "<Figure size 432x288 with 1 Axes>"
      ]
     },
     "metadata": {},
     "output_type": "display_data"
    }
   ],
   "source": [
    "# When trying to plot this, a bunch of errors occur\n",
    "sns.set(style=\"whitegrid\")\n",
    "bp = sns.distplot(bundle_runtimes_prophet[\"runtime\"], kde=False, rug=True)\n",
    "bp.set(xlabel=\"delivery time (ms)\", title=\"PROPHET\")\n",
    "bp.figure.savefig(\"figures/delivery_time_prophet.pdf\", format=\"pdf\")"
   ]
  },
  {
   "cell_type": "code",
   "execution_count": 19,
   "metadata": {},
   "outputs": [
    {
     "data": {
      "image/png": "[encoded data removed]",
      "text/plain": [
       "<Figure size 432x288 with 1 Axes>"
      ]
     },
     "metadata": {},
     "output_type": "display_data"
    }
   ],
   "source": [
    "sns.set(style=\"whitegrid\")\n",
    "bp = sns.distplot(bundle_runtimes_spray[\"runtime\"], kde=False, rug=True)\n",
    "bp.set(xlabel=\"delivery time (ms)\", title=\"Spray & Wait\")\n",
    "bp.figure.savefig(\"figures/delivery_time_spray.pdf\", format=\"pdf\")"
   ]
  },
  {
   "cell_type": "code",
   "execution_count": 70,
   "metadata": {},
   "outputs": [
    {
     "data": {
      "image/png": "[encoded data removed]",
      "text/plain": [
       "<Figure size 504x504 with 4 Axes>"
      ]
     },
     "metadata": {},
     "output_type": "display_data"
    }
   ],
   "source": [
    "# now, this isn't particularly helpful...\n",
    "f, axes = plt.subplots(2, 2, figsize=(7, 7), sharex=True)\n",
    "sns.distplot(bundle_runtimes_epidemic[\"runtime\"], kde=False, rug=True, ax=axes[0, 0])\n",
    "sns.distplot(bundle_runtimes_spray[\"runtime\"], kde=False, rug=True, ax=axes[0, 1])\n",
    "sns.distplot(bundle_runtimes_prophet[\"runtime\"], kde=False, rug=True, ax=axes[1, 0])\n",
    "sns.distplot(bundle_runtimes_context[\"runtime\"], kde=False, rug=True, ax=axes[1, 1])\n",
    "axes[0, 0].set_title(\"Epidemic\")\n",
    "axes[0, 1].set_title(\"Spray & Wait\")\n",
    "axes[1, 0].set_title(\"PROPHET\")\n",
    "axes[1, 1].set_title(\"CADR\")\n",
    "plt.setp(axes, yticks=[], xlabel=\"delivery time (ms)\")\n",
    "plt.tight_layout()"
   ]
  },
  {
   "cell_type": "code",
   "execution_count": 69,
   "metadata": {},
   "outputs": [
    {
     "data": {
      "image/png": "[encoded data removed]",
      "text/plain": [
       "<Figure size 504x504 with 4 Axes>"
      ]
     },
     "metadata": {},
     "output_type": "display_data"
    }
   ],
   "source": [
    "# and neither is this...\n",
    "f, axes = plt.subplots(2, 2, figsize=(7, 7), sharex=True)\n",
    "sns.distplot(bundle_runtimes_epidemic[\"runtime\"], kde=False, rug=True, ax=axes[0, 0])\n",
    "sns.distplot(bundle_runtimes_spray[\"runtime\"], kde=False, rug=True, ax=axes[0, 1])\n",
    "sns.distplot(bundle_runtimes_prophet[\"runtime\"], kde=False, rug=True, ax=axes[1, 0])\n",
    "sns.distplot(bundle_runtimes_context[\"runtime\"], kde=False, rug=True, ax=axes[1, 1])\n",
    "axes[0, 0].set_title(\"Epidemic\")\n",
    "axes[0, 1].set_title(\"Spray & Wait\")\n",
    "axes[1, 0].set_title(\"PROPHET\")\n",
    "axes[1, 1].set_title(\"CADR\")\n",
    "plt.setp(axes, yticks=[], xscale=\"log\", xlabel=\"delivery time (ms)\")\n",
    "plt.tight_layout()"
   ]
  },
  {
   "cell_type": "code",
   "execution_count": 20,
   "metadata": {},
   "outputs": [
    {
     "data": {
      "text/plain": [
       "count    3.890000e+02\n",
       "mean     3.649657e+05\n",
       "std      6.498610e+05\n",
       "min      0.000000e+00\n",
       "25%      1.000000e+00\n",
       "50%      1.200000e+01\n",
       "75%      5.047200e+05\n",
       "max      2.995687e+06\n",
       "Name: runtime, dtype: float64"
      ]
     },
     "execution_count": 20,
     "metadata": {},
     "output_type": "execute_result"
    }
   ],
   "source": [
    "bundle_runtimes_context[\"runtime\"].describe()"
   ]
  },
  {
   "cell_type": "code",
   "execution_count": 21,
   "metadata": {},
   "outputs": [
    {
     "data": {
      "text/plain": [
       "count      288.000000\n",
       "mean      1097.743056\n",
       "std       5688.025786\n",
       "min          1.000000\n",
       "25%         12.000000\n",
       "50%         13.000000\n",
       "75%         24.000000\n",
       "max      47791.000000\n",
       "Name: runtime, dtype: float64"
      ]
     },
     "execution_count": 21,
     "metadata": {},
     "output_type": "execute_result"
    }
   ],
   "source": [
    "bundle_runtimes_epidemic[\"runtime\"].describe()"
   ]
  },
  {
   "cell_type": "code",
   "execution_count": 22,
   "metadata": {},
   "outputs": [
    {
     "data": {
      "text/plain": [
       "count    78.000000\n",
       "mean      1.371795\n",
       "std       2.180843\n",
       "min       0.000000\n",
       "25%       1.000000\n",
       "50%       1.000000\n",
       "75%       1.000000\n",
       "max      20.000000\n",
       "Name: runtime, dtype: float64"
      ]
     },
     "execution_count": 22,
     "metadata": {},
     "output_type": "execute_result"
    }
   ],
   "source": [
    "bundle_runtimes_prophet[\"runtime\"].describe()"
   ]
  },
  {
   "cell_type": "code",
   "execution_count": 23,
   "metadata": {},
   "outputs": [
    {
     "data": {
      "text/plain": [
       "count      235.000000\n",
       "mean      2857.961702\n",
       "std       5900.732196\n",
       "min          8.000000\n",
       "25%          9.000000\n",
       "50%         18.000000\n",
       "75%       2530.000000\n",
       "max      45716.000000\n",
       "Name: runtime, dtype: float64"
      ]
     },
     "execution_count": 23,
     "metadata": {},
     "output_type": "execute_result"
    }
   ],
   "source": [
    "bundle_runtimes_spray[\"runtime\"].describe()"
   ]
  },
  {
   "cell_type": "code",
   "execution_count": 24,
   "metadata": {},
   "outputs": [],
   "source": [
    "missing_context = pd.read_csv(\"/research_data/sommer2020cadr/missing_bundles_context.csv\")\n",
    "missing_epidemic = pd.read_csv(\"/research_data/sommer2020cadr/missing_bundles_epidemic.csv\")\n",
    "missing_prophet = pd.read_csv(\"/research_data/sommer2020cadr/missing_bundles_prophet.csv\")\n",
    "missing_spray = pd.read_csv(\"/research_data/sommer2020cadr/missing_bundles_spray.csv\")\n",
    "total_bundes = pd.read_csv(\"/research_data/sommer2020cadr/bundles_filtered.csv\")"
   ]
  },
  {
   "cell_type": "code",
   "execution_count": 25,
   "metadata": {},
   "outputs": [
    {
     "data": {
      "text/plain": [
       "0.48263027295285355"
      ]
     },
     "execution_count": 25,
     "metadata": {},
     "output_type": "execute_result"
    }
   ],
   "source": [
    "delivery_ratio_context = 1.0 - (missing_context[\"bundle\"].count()/total_bundes.loc[total_bundes[\"routing\"]==\"context\"][\"bundles\"][0])\n",
    "delivery_ratio_context"
   ]
  },
  {
   "cell_type": "code",
   "execution_count": 26,
   "metadata": {},
   "outputs": [
    {
     "data": {
      "text/plain": [
       "0.02645999303469592"
      ]
     },
     "execution_count": 26,
     "metadata": {},
     "output_type": "execute_result"
    }
   ],
   "source": [
    "delivery_ratio_context/final_sizes_context[\"size\"].mean()"
   ]
  },
  {
   "cell_type": "code",
   "execution_count": 27,
   "metadata": {},
   "outputs": [
    {
     "data": {
      "text/plain": [
       "0.9381107491856677"
      ]
     },
     "execution_count": 27,
     "metadata": {},
     "output_type": "execute_result"
    }
   ],
   "source": [
    "delivery_ratio_epidemic = 1.0 - (missing_epidemic[\"bundle\"].count()/total_bundes.loc[total_bundes[\"routing\"]==\"epidemic\"][\"bundles\"][1])\n",
    "delivery_ratio_epidemic"
   ]
  },
  {
   "cell_type": "code",
   "execution_count": 28,
   "metadata": {},
   "outputs": [
    {
     "data": {
      "text/plain": [
       "0.004636767245876175"
      ]
     },
     "execution_count": 28,
     "metadata": {},
     "output_type": "execute_result"
    }
   ],
   "source": [
    "delivery_ratio_epidemic/final_sizes_epidemic[\"size\"].mean()"
   ]
  },
  {
   "cell_type": "code",
   "execution_count": 29,
   "metadata": {},
   "outputs": [
    {
     "data": {
      "text/plain": [
       "0.09341317365269464"
      ]
     },
     "execution_count": 29,
     "metadata": {},
     "output_type": "execute_result"
    }
   ],
   "source": [
    "delivery_ratio_prophet = 1.0 - (missing_prophet[\"bundle\"].count()/total_bundes.loc[total_bundes[\"routing\"]==\"prophet\"][\"bundles\"][2])\n",
    "delivery_ratio_prophet"
   ]
  },
  {
   "cell_type": "code",
   "execution_count": 30,
   "metadata": {},
   "outputs": [
    {
     "data": {
      "text/plain": [
       "0.014733939061939217"
      ]
     },
     "execution_count": 30,
     "metadata": {},
     "output_type": "execute_result"
    }
   ],
   "source": [
    "delivery_ratio_prophet/final_sizes_prophet[\"size\"].mean()"
   ]
  },
  {
   "cell_type": "code",
   "execution_count": 31,
   "metadata": {},
   "outputs": [
    {
     "data": {
      "text/plain": [
       "0.7389937106918238"
      ]
     },
     "execution_count": 31,
     "metadata": {},
     "output_type": "execute_result"
    }
   ],
   "source": [
    "delivery_ratio_spray = 1.0 - (missing_spray[\"bundle\"].count()/total_bundes.loc[total_bundes[\"routing\"]==\"spray\"][\"bundles\"][3])\n",
    "delivery_ratio_spray"
   ]
  },
  {
   "cell_type": "code",
   "execution_count": 32,
   "metadata": {},
   "outputs": [
    {
     "data": {
      "text/plain": [
       "0.034924088406986006"
      ]
     },
     "execution_count": 32,
     "metadata": {},
     "output_type": "execute_result"
    }
   ],
   "source": [
    "delivery_ratio_spray/final_sizes_spray[\"size\"].mean()"
   ]
  },
  {
   "cell_type": "code",
   "execution_count": 33,
   "metadata": {},
   "outputs": [
    {
     "data": {
      "text/html": [
       "<div>\n",
       "<style scoped>\n",
       "    .dataframe tbody tr th:only-of-type {\n",
       "        vertical-align: middle;\n",
       "    }\n",
       "\n",
       "    .dataframe tbody tr th {\n",
       "        vertical-align: top;\n",
       "    }\n",
       "\n",
       "    .dataframe thead th {\n",
       "        text-align: right;\n",
       "    }\n",
       "</style>\n",
       "<table border=\"1\" class=\"dataframe\">\n",
       "  <thead>\n",
       "    <tr style=\"text-align: right;\">\n",
       "      <th></th>\n",
       "      <th>routing</th>\n",
       "      <th>node</th>\n",
       "      <th>type</th>\n",
       "      <th>time</th>\n",
       "    </tr>\n",
       "  </thead>\n",
       "  <tbody>\n",
       "    <tr>\n",
       "      <th>0</th>\n",
       "      <td>epidemic</td>\n",
       "      <td>n48</td>\n",
       "      <td>sensor</td>\n",
       "      <td>2</td>\n",
       "    </tr>\n",
       "    <tr>\n",
       "      <th>1</th>\n",
       "      <td>epidemic</td>\n",
       "      <td>n48</td>\n",
       "      <td>sensor</td>\n",
       "      <td>3</td>\n",
       "    </tr>\n",
       "    <tr>\n",
       "      <th>2</th>\n",
       "      <td>epidemic</td>\n",
       "      <td>n48</td>\n",
       "      <td>sensor</td>\n",
       "      <td>3</td>\n",
       "    </tr>\n",
       "    <tr>\n",
       "      <th>3</th>\n",
       "      <td>epidemic</td>\n",
       "      <td>n48</td>\n",
       "      <td>sensor</td>\n",
       "      <td>2</td>\n",
       "    </tr>\n",
       "    <tr>\n",
       "      <th>4</th>\n",
       "      <td>epidemic</td>\n",
       "      <td>n48</td>\n",
       "      <td>sensor</td>\n",
       "      <td>2</td>\n",
       "    </tr>\n",
       "    <tr>\n",
       "      <th>...</th>\n",
       "      <td>...</td>\n",
       "      <td>...</td>\n",
       "      <td>...</td>\n",
       "      <td>...</td>\n",
       "    </tr>\n",
       "    <tr>\n",
       "      <th>401687</th>\n",
       "      <td>spray</td>\n",
       "      <td>n2</td>\n",
       "      <td>visitor</td>\n",
       "      <td>1</td>\n",
       "    </tr>\n",
       "    <tr>\n",
       "      <th>401688</th>\n",
       "      <td>spray</td>\n",
       "      <td>n2</td>\n",
       "      <td>visitor</td>\n",
       "      <td>1</td>\n",
       "    </tr>\n",
       "    <tr>\n",
       "      <th>401689</th>\n",
       "      <td>spray</td>\n",
       "      <td>n2</td>\n",
       "      <td>visitor</td>\n",
       "      <td>1</td>\n",
       "    </tr>\n",
       "    <tr>\n",
       "      <th>401690</th>\n",
       "      <td>spray</td>\n",
       "      <td>n2</td>\n",
       "      <td>visitor</td>\n",
       "      <td>1</td>\n",
       "    </tr>\n",
       "    <tr>\n",
       "      <th>401691</th>\n",
       "      <td>spray</td>\n",
       "      <td>n2</td>\n",
       "      <td>visitor</td>\n",
       "      <td>1</td>\n",
       "    </tr>\n",
       "  </tbody>\n",
       "</table>\n",
       "<p>401692 rows × 4 columns</p>\n",
       "</div>"
      ],
      "text/plain": [
       "         routing node     type  time\n",
       "0       epidemic  n48   sensor     2\n",
       "1       epidemic  n48   sensor     3\n",
       "2       epidemic  n48   sensor     3\n",
       "3       epidemic  n48   sensor     2\n",
       "4       epidemic  n48   sensor     2\n",
       "...          ...  ...      ...   ...\n",
       "401687     spray   n2  visitor     1\n",
       "401688     spray   n2  visitor     1\n",
       "401689     spray   n2  visitor     1\n",
       "401690     spray   n2  visitor     1\n",
       "401691     spray   n2  visitor     1\n",
       "\n",
       "[401692 rows x 4 columns]"
      ]
     },
     "execution_count": 33,
     "metadata": {},
     "output_type": "execute_result"
    }
   ],
   "source": [
    "bundle_processing_times = pd.read_csv(\"/research_data/sommer2020cadr/selection_compute.csv\")\n",
    "bundle_processing_times"
   ]
  },
  {
   "cell_type": "code",
   "execution_count": 34,
   "metadata": {},
   "outputs": [
    {
     "data": {
      "image/png": "[encoded data removed]",
      "text/plain": [
       "<Figure size 432x288 with 1 Axes>"
      ]
     },
     "metadata": {},
     "output_type": "display_data"
    }
   ],
   "source": [
    "sns.set(style=\"whitegrid\")\n",
    "bp = sns.boxplot(x=\"routing\", y=\"time\", data=bundle_processing_times)\n",
    "# well this isn't particularly helpful..."
   ]
  },
  {
   "cell_type": "code",
   "execution_count": 35,
   "metadata": {},
   "outputs": [
    {
     "data": {
      "text/plain": [
       "count    41582.000000\n",
       "mean         2.302390\n",
       "std         29.840264\n",
       "min          0.000000\n",
       "25%          2.000000\n",
       "50%          2.000000\n",
       "75%          2.000000\n",
       "max       5002.000000\n",
       "Name: time, dtype: float64"
      ]
     },
     "execution_count": 35,
     "metadata": {},
     "output_type": "execute_result"
    }
   ],
   "source": [
    "bundle_processing_times_epidemic = bundle_processing_times.loc[bundle_processing_times[\"routing\"] == \"epidemic\"]\n",
    "bundle_processing_times_epidemic[\"time\"].describe()"
   ]
  },
  {
   "cell_type": "code",
   "execution_count": 36,
   "metadata": {},
   "outputs": [
    {
     "data": {
      "text/plain": [
       "count    179867.000000\n",
       "mean          5.477692\n",
       "std          91.869402\n",
       "min           0.000000\n",
       "25%           1.000000\n",
       "50%           1.000000\n",
       "75%           1.000000\n",
       "max        6001.000000\n",
       "Name: time, dtype: float64"
      ]
     },
     "execution_count": 36,
     "metadata": {},
     "output_type": "execute_result"
    }
   ],
   "source": [
    "bundle_processing_times_spray = bundle_processing_times.loc[bundle_processing_times[\"routing\"] == \"spray\"]\n",
    "bundle_processing_times_spray[\"time\"].describe()"
   ]
  },
  {
   "cell_type": "code",
   "execution_count": 37,
   "metadata": {},
   "outputs": [
    {
     "data": {
      "text/plain": [
       "count    59380.000000\n",
       "mean         4.372785\n",
       "std         73.714937\n",
       "min          0.000000\n",
       "25%          1.000000\n",
       "50%          1.000000\n",
       "75%          2.000000\n",
       "max       5556.000000\n",
       "Name: time, dtype: float64"
      ]
     },
     "execution_count": 37,
     "metadata": {},
     "output_type": "execute_result"
    }
   ],
   "source": [
    "bundle_processing_times_prophet = bundle_processing_times.loc[bundle_processing_times[\"routing\"] == \"prophet\"]\n",
    "bundle_processing_times_prophet[\"time\"].describe()"
   ]
  },
  {
   "cell_type": "code",
   "execution_count": 38,
   "metadata": {},
   "outputs": [
    {
     "data": {
      "text/plain": [
       "count    120863.000000\n",
       "mean         11.628066\n",
       "std         172.063533\n",
       "min           0.000000\n",
       "25%           2.000000\n",
       "50%           2.000000\n",
       "75%           3.000000\n",
       "max        9204.000000\n",
       "Name: time, dtype: float64"
      ]
     },
     "execution_count": 38,
     "metadata": {},
     "output_type": "execute_result"
    }
   ],
   "source": [
    "bundle_processing_times_context = bundle_processing_times.loc[bundle_processing_times[\"routing\"] == \"context\"]\n",
    "bundle_processing_times_context[\"time\"].describe()"
   ]
  },
  {
   "cell_type": "code",
   "execution_count": 39,
   "metadata": {},
   "outputs": [
    {
     "data": {
      "text/html": [
       "<div>\n",
       "<style scoped>\n",
       "    .dataframe tbody tr th:only-of-type {\n",
       "        vertical-align: middle;\n",
       "    }\n",
       "\n",
       "    .dataframe tbody tr th {\n",
       "        vertical-align: top;\n",
       "    }\n",
       "\n",
       "    .dataframe thead th {\n",
       "        text-align: right;\n",
       "    }\n",
       "</style>\n",
       "<table border=\"1\" class=\"dataframe\">\n",
       "  <thead>\n",
       "    <tr style=\"text-align: right;\">\n",
       "      <th></th>\n",
       "      <th>routing</th>\n",
       "      <th>node</th>\n",
       "      <th>type</th>\n",
       "      <th>time</th>\n",
       "    </tr>\n",
       "  </thead>\n",
       "  <tbody>\n",
       "    <tr>\n",
       "      <th>14480</th>\n",
       "      <td>epidemic</td>\n",
       "      <td>n27</td>\n",
       "      <td>sensor</td>\n",
       "      <td>1002</td>\n",
       "    </tr>\n",
       "    <tr>\n",
       "      <th>29316</th>\n",
       "      <td>epidemic</td>\n",
       "      <td>n47</td>\n",
       "      <td>sensor</td>\n",
       "      <td>5002</td>\n",
       "    </tr>\n",
       "    <tr>\n",
       "      <th>30381</th>\n",
       "      <td>epidemic</td>\n",
       "      <td>n49</td>\n",
       "      <td>sensor</td>\n",
       "      <td>3003</td>\n",
       "    </tr>\n",
       "    <tr>\n",
       "      <th>41474</th>\n",
       "      <td>epidemic</td>\n",
       "      <td>n3</td>\n",
       "      <td>visitor</td>\n",
       "      <td>1002</td>\n",
       "    </tr>\n",
       "    <tr>\n",
       "      <th>41576</th>\n",
       "      <td>epidemic</td>\n",
       "      <td>n3</td>\n",
       "      <td>visitor</td>\n",
       "      <td>1002</td>\n",
       "    </tr>\n",
       "    <tr>\n",
       "      <th>...</th>\n",
       "      <td>...</td>\n",
       "      <td>...</td>\n",
       "      <td>...</td>\n",
       "      <td>...</td>\n",
       "    </tr>\n",
       "    <tr>\n",
       "      <th>401656</th>\n",
       "      <td>spray</td>\n",
       "      <td>n2</td>\n",
       "      <td>visitor</td>\n",
       "      <td>2001</td>\n",
       "    </tr>\n",
       "    <tr>\n",
       "      <th>401662</th>\n",
       "      <td>spray</td>\n",
       "      <td>n2</td>\n",
       "      <td>visitor</td>\n",
       "      <td>3000</td>\n",
       "    </tr>\n",
       "    <tr>\n",
       "      <th>401668</th>\n",
       "      <td>spray</td>\n",
       "      <td>n2</td>\n",
       "      <td>visitor</td>\n",
       "      <td>4001</td>\n",
       "    </tr>\n",
       "    <tr>\n",
       "      <th>401674</th>\n",
       "      <td>spray</td>\n",
       "      <td>n2</td>\n",
       "      <td>visitor</td>\n",
       "      <td>1000</td>\n",
       "    </tr>\n",
       "    <tr>\n",
       "      <th>401686</th>\n",
       "      <td>spray</td>\n",
       "      <td>n2</td>\n",
       "      <td>visitor</td>\n",
       "      <td>4002</td>\n",
       "    </tr>\n",
       "  </tbody>\n",
       "</table>\n",
       "<p>1255 rows × 4 columns</p>\n",
       "</div>"
      ],
      "text/plain": [
       "         routing node     type  time\n",
       "14480   epidemic  n27   sensor  1002\n",
       "29316   epidemic  n47   sensor  5002\n",
       "30381   epidemic  n49   sensor  3003\n",
       "41474   epidemic   n3  visitor  1002\n",
       "41576   epidemic   n3  visitor  1002\n",
       "...          ...  ...      ...   ...\n",
       "401656     spray   n2  visitor  2001\n",
       "401662     spray   n2  visitor  3000\n",
       "401668     spray   n2  visitor  4001\n",
       "401674     spray   n2  visitor  1000\n",
       "401686     spray   n2  visitor  4002\n",
       "\n",
       "[1255 rows x 4 columns]"
      ]
     },
     "execution_count": 39,
     "metadata": {},
     "output_type": "execute_result"
    }
   ],
   "source": [
    "bundle_processing_times_large = bundle_processing_times.loc[bundle_processing_times[\"time\"] > 100]\n",
    "bundle_processing_times_large"
   ]
  },
  {
   "cell_type": "code",
   "execution_count": 40,
   "metadata": {},
   "outputs": [
    {
     "data": {
      "text/plain": [
       "count       5.000000\n",
       "mean     2202.200000\n",
       "std      1788.966238\n",
       "min      1002.000000\n",
       "25%      1002.000000\n",
       "50%      1002.000000\n",
       "75%      3003.000000\n",
       "max      5002.000000\n",
       "Name: time, dtype: float64"
      ]
     },
     "execution_count": 40,
     "metadata": {},
     "output_type": "execute_result"
    }
   ],
   "source": [
    "bundle_processing_times_epidemic_large = bundle_processing_times_large.loc[bundle_processing_times_large[\"routing\"] == \"epidemic\"]\n",
    "bundle_processing_times_epidemic_large[\"time\"].describe()"
   ]
  },
  {
   "cell_type": "code",
   "execution_count": 41,
   "metadata": {},
   "outputs": [
    {
     "data": {
      "text/plain": [
       "count     570.000000\n",
       "mean     1432.200000\n",
       "std       788.756198\n",
       "min       376.000000\n",
       "25%      1000.000000\n",
       "50%      1001.000000\n",
       "75%      2000.000000\n",
       "max      6001.000000\n",
       "Name: time, dtype: float64"
      ]
     },
     "execution_count": 41,
     "metadata": {},
     "output_type": "execute_result"
    }
   ],
   "source": [
    "bundle_processing_times_spray_large = bundle_processing_times_large.loc[bundle_processing_times_large[\"routing\"] == \"spray\"]\n",
    "bundle_processing_times_spray_large[\"time\"].describe()"
   ]
  },
  {
   "cell_type": "code",
   "execution_count": 42,
   "metadata": {},
   "outputs": [
    {
     "data": {
      "text/plain": [
       "count     134.000000\n",
       "mean     1332.910448\n",
       "std       802.205376\n",
       "min       138.000000\n",
       "25%      1000.000000\n",
       "50%      1001.000000\n",
       "75%      1002.000000\n",
       "max      5556.000000\n",
       "Name: time, dtype: float64"
      ]
     },
     "execution_count": 42,
     "metadata": {},
     "output_type": "execute_result"
    }
   ],
   "source": [
    "bundle_processing_times_prophet_large = bundle_processing_times_large.loc[bundle_processing_times_large[\"routing\"] == \"prophet\"]\n",
    "bundle_processing_times_prophet_large[\"time\"].describe()"
   ]
  },
  {
   "cell_type": "code",
   "execution_count": 44,
   "metadata": {},
   "outputs": [
    {
     "data": {
      "text/plain": [
       "count     546.000000\n",
       "mean     2110.754579\n",
       "std      1459.762228\n",
       "min       587.000000\n",
       "25%      1001.000000\n",
       "50%      2001.000000\n",
       "75%      3001.000000\n",
       "max      9204.000000\n",
       "Name: time, dtype: float64"
      ]
     },
     "execution_count": 44,
     "metadata": {},
     "output_type": "execute_result"
    }
   ],
   "source": [
    "bundle_processing_times_context_large = bundle_processing_times_large.loc[bundle_processing_times_large[\"routing\"] == \"context\"]\n",
    "bundle_processing_times_context_large[\"time\"].describe()"
   ]
  },
  {
   "cell_type": "code",
   "execution_count": 47,
   "metadata": {},
   "outputs": [
    {
     "data": {
      "text/plain": [
       "<matplotlib.axes._subplots.AxesSubplot at 0x7f92b74408e0>"
      ]
     },
     "execution_count": 47,
     "metadata": {},
     "output_type": "execute_result"
    },
    {
     "data": {
      "image/png": "[encoded data removed]",
      "text/plain": [
       "<Figure size 432x288 with 1 Axes>"
      ]
     },
     "metadata": {},
     "output_type": "display_data"
    }
   ],
   "source": [
    "sns.distplot(bundle_processing_times_epidemic_large[\"time\"], hist=False, rug=True)"
   ]
  }
 ],
 "metadata": {
  "kernelspec": {
   "display_name": "Python 3",
   "language": "python",
   "name": "python3"
  },
  "language_info": {
   "codemirror_mode": {
    "name": "ipython",
    "version": 3
   },
   "file_extension": ".py",
   "mimetype": "text/x-python",
   "name": "python",
   "nbconvert_exporter": "python",
   "pygments_lexer": "ipython3",
   "version": "3.8.2"
  }
 },
 "nbformat": 4,
 "nbformat_minor": 2
}
