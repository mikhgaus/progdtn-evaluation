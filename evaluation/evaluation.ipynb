{
 "cells": [
  {
   "cell_type": "code",
   "execution_count": 1,
   "metadata": {},
   "outputs": [],
   "source": [
    "import pandas as pd\n",
    "import seaborn as sns\n",
    "from pandas import DataFrame\n",
    "from preprocessors import final_value"
   ]
  },
  {
   "cell_type": "code",
   "execution_count": 2,
   "metadata": {},
   "outputs": [],
   "source": [
    "store_sizes = pd.read_csv(\"/research_data/sommer2020cadr/combined.csv\")"
   ]
  },
  {
   "cell_type": "code",
   "execution_count": 11,
   "metadata": {},
   "outputs": [
    {
     "data": {
      "text/html": [
       "<div>\n",
       "<style scoped>\n",
       "    .dataframe tbody tr th:only-of-type {\n",
       "        vertical-align: middle;\n",
       "    }\n",
       "\n",
       "    .dataframe tbody tr th {\n",
       "        vertical-align: top;\n",
       "    }\n",
       "\n",
       "    .dataframe thead th {\n",
       "        text-align: right;\n",
       "    }\n",
       "</style>\n",
       "<table border=\"1\" class=\"dataframe\">\n",
       "  <thead>\n",
       "    <tr style=\"text-align: right;\">\n",
       "      <th></th>\n",
       "      <th>Unnamed: 0</th>\n",
       "      <th>routing</th>\n",
       "      <th>node</th>\n",
       "      <th>timestamp</th>\n",
       "      <th>size</th>\n",
       "      <th>node_type</th>\n",
       "    </tr>\n",
       "  </thead>\n",
       "  <tbody>\n",
       "    <tr>\n",
       "      <th>60</th>\n",
       "      <td>60</td>\n",
       "      <td>epidemic</td>\n",
       "      <td>n50</td>\n",
       "      <td>1583934609</td>\n",
       "      <td>277</td>\n",
       "      <td>sensor</td>\n",
       "    </tr>\n",
       "    <tr>\n",
       "      <th>105</th>\n",
       "      <td>44</td>\n",
       "      <td>epidemic</td>\n",
       "      <td>n46</td>\n",
       "      <td>1583933647</td>\n",
       "      <td>214</td>\n",
       "      <td>sensor</td>\n",
       "    </tr>\n",
       "    <tr>\n",
       "      <th>166</th>\n",
       "      <td>60</td>\n",
       "      <td>epidemic</td>\n",
       "      <td>n45</td>\n",
       "      <td>1583934608</td>\n",
       "      <td>276</td>\n",
       "      <td>sensor</td>\n",
       "    </tr>\n",
       "    <tr>\n",
       "      <th>227</th>\n",
       "      <td>60</td>\n",
       "      <td>epidemic</td>\n",
       "      <td>n44</td>\n",
       "      <td>1583934608</td>\n",
       "      <td>278</td>\n",
       "      <td>sensor</td>\n",
       "    </tr>\n",
       "    <tr>\n",
       "      <th>288</th>\n",
       "      <td>60</td>\n",
       "      <td>epidemic</td>\n",
       "      <td>n40</td>\n",
       "      <td>1583934608</td>\n",
       "      <td>98</td>\n",
       "      <td>sensor</td>\n",
       "    </tr>\n",
       "    <tr>\n",
       "      <th>...</th>\n",
       "      <td>...</td>\n",
       "      <td>...</td>\n",
       "      <td>...</td>\n",
       "      <td>...</td>\n",
       "      <td>...</td>\n",
       "      <td>...</td>\n",
       "    </tr>\n",
       "    <tr>\n",
       "      <th>10395</th>\n",
       "      <td>60</td>\n",
       "      <td>prophet</td>\n",
       "      <td>n45</td>\n",
       "      <td>1584111188</td>\n",
       "      <td>10</td>\n",
       "      <td>sensor</td>\n",
       "    </tr>\n",
       "    <tr>\n",
       "      <th>10456</th>\n",
       "      <td>60</td>\n",
       "      <td>prophet</td>\n",
       "      <td>n50</td>\n",
       "      <td>1584111188</td>\n",
       "      <td>11</td>\n",
       "      <td>sensor</td>\n",
       "    </tr>\n",
       "    <tr>\n",
       "      <th>10470</th>\n",
       "      <td>13</td>\n",
       "      <td>prophet</td>\n",
       "      <td>n6</td>\n",
       "      <td>1584108365</td>\n",
       "      <td>0</td>\n",
       "      <td>visitor</td>\n",
       "    </tr>\n",
       "    <tr>\n",
       "      <th>10531</th>\n",
       "      <td>60</td>\n",
       "      <td>prophet</td>\n",
       "      <td>n3</td>\n",
       "      <td>1584111187</td>\n",
       "      <td>0</td>\n",
       "      <td>visitor</td>\n",
       "    </tr>\n",
       "    <tr>\n",
       "      <th>10544</th>\n",
       "      <td>12</td>\n",
       "      <td>prophet</td>\n",
       "      <td>n2</td>\n",
       "      <td>1584108305</td>\n",
       "      <td>0</td>\n",
       "      <td>visitor</td>\n",
       "    </tr>\n",
       "  </tbody>\n",
       "</table>\n",
       "<p>200 rows × 6 columns</p>\n",
       "</div>"
      ],
      "text/plain": [
       "       Unnamed: 0   routing node   timestamp  size node_type\n",
       "60             60  epidemic  n50  1583934609   277    sensor\n",
       "105            44  epidemic  n46  1583933647   214    sensor\n",
       "166            60  epidemic  n45  1583934608   276    sensor\n",
       "227            60  epidemic  n44  1583934608   278    sensor\n",
       "288            60  epidemic  n40  1583934608    98    sensor\n",
       "...           ...       ...  ...         ...   ...       ...\n",
       "10395          60   prophet  n45  1584111188    10    sensor\n",
       "10456          60   prophet  n50  1584111188    11    sensor\n",
       "10470          13   prophet   n6  1584108365     0   visitor\n",
       "10531          60   prophet   n3  1584111187     0   visitor\n",
       "10544          12   prophet   n2  1584108305     0   visitor\n",
       "\n",
       "[200 rows x 6 columns]"
      ]
     },
     "execution_count": 11,
     "metadata": {},
     "output_type": "execute_result"
    }
   ],
   "source": [
    "# split data into different dataframes for each routing algorithm \n",
    "epidemic = store_sizes.loc[store_sizes[\"routing\"] == \"epidemic\"]\n",
    "context = store_sizes.loc[store_sizes[\"routing\"] == \"context\"]\n",
    "spray = store_sizes.loc[store_sizes[\"routing\"] == \"binary_spray\"]\n",
    "prophet = store_sizes.loc[store_sizes[\"routing\"] == \"prophet\"]\n",
    "\n",
    "# extract the final measurements\n",
    "final_sizes_epidemic = final_value(epidemic)\n",
    "final_sizes_context = final_value(context)\n",
    "final_sizes_spray = final_value(spray)\n",
    "final_sizes_prophet = final_value(prophet)\n",
    "\n",
    "final_sizes_combined = pd.concat([final_sizes_epidemic, \n",
    "                                  final_sizes_context, \n",
    "                                  final_sizes_spray, \n",
    "                                  final_sizes_prophet])\n",
    "final_sizes_combined"
   ]
  },
  {
   "cell_type": "code",
   "execution_count": 5,
   "metadata": {},
   "outputs": [
    {
     "data": {
      "text/plain": [
       "count     50.000000\n",
       "mean     202.320000\n",
       "std      105.097708\n",
       "min        0.000000\n",
       "25%       95.000000\n",
       "50%      276.000000\n",
       "75%      278.000000\n",
       "max      278.000000\n",
       "Name: size, dtype: float64"
      ]
     },
     "execution_count": 5,
     "metadata": {},
     "output_type": "execute_result"
    }
   ],
   "source": [
    "# descriptive stats for epidemic run\n",
    "final_sizes_epidemic[\"size\"].describe()"
   ]
  },
  {
   "cell_type": "code",
   "execution_count": 6,
   "metadata": {},
   "outputs": [
    {
     "data": {
      "text/plain": [
       "count    50.000000\n",
       "mean     18.240000\n",
       "std      17.242046\n",
       "min       1.000000\n",
       "25%       4.250000\n",
       "50%      10.000000\n",
       "75%      31.000000\n",
       "max      61.000000\n",
       "Name: size, dtype: float64"
      ]
     },
     "execution_count": 6,
     "metadata": {},
     "output_type": "execute_result"
    }
   ],
   "source": [
    "# descriptive stats for context run\n",
    "final_sizes_context[\"size\"].describe()"
   ]
  },
  {
   "cell_type": "code",
   "execution_count": 14,
   "metadata": {},
   "outputs": [
    {
     "data": {
      "text/plain": [
       "count    50.000000\n",
       "mean     21.160000\n",
       "std      11.245607\n",
       "min       0.000000\n",
       "25%      12.250000\n",
       "50%      22.500000\n",
       "75%      30.750000\n",
       "max      46.000000\n",
       "Name: size, dtype: float64"
      ]
     },
     "execution_count": 14,
     "metadata": {},
     "output_type": "execute_result"
    }
   ],
   "source": [
    "# descriptive stats for binary_spray run\n",
    "final_sizes_spray[\"size\"].describe()"
   ]
  },
  {
   "cell_type": "code",
   "execution_count": 15,
   "metadata": {},
   "outputs": [
    {
     "data": {
      "text/plain": [
       "count    50.000000\n",
       "mean      6.340000\n",
       "std       5.336092\n",
       "min       0.000000\n",
       "25%       0.000000\n",
       "50%       9.000000\n",
       "75%      11.000000\n",
       "max      14.000000\n",
       "Name: size, dtype: float64"
      ]
     },
     "execution_count": 15,
     "metadata": {},
     "output_type": "execute_result"
    }
   ],
   "source": [
    "# descriptive stats for prophet run\n",
    "final_sizes_prophet[\"size\"].describe()"
   ]
  },
  {
   "cell_type": "code",
   "execution_count": 12,
   "metadata": {},
   "outputs": [
    {
     "data": {
      "image/png": "[encoded data removed]",
      "text/plain": [
       "<Figure size 432x288 with 1 Axes>"
      ]
     },
     "metadata": {},
     "output_type": "display_data"
    }
   ],
   "source": [
    "# plot store sizes of all simulation runs\n",
    "sns.set(style=\"whitegrid\")\n",
    "bp = sns.boxplot(x=\"routing\", y=\"size\", data=final_sizes_combined)"
   ]
  },
  {
   "cell_type": "code",
   "execution_count": 13,
   "metadata": {},
   "outputs": [
    {
     "data": {
      "image/png": "[encoded data removed]",
      "text/plain": [
       "<Figure size 432x288 with 1 Axes>"
      ]
     },
     "metadata": {},
     "output_type": "display_data"
    }
   ],
   "source": [
    "# plot store sizes of all simulation runs witch comparion between node types\n",
    "sns.set(style=\"whitegrid\")\n",
    "bp = sns.boxplot(x=\"routing\", y=\"size\", hue=\"node_type\", data=final_sizes_combined)"
   ]
  },
  {
   "cell_type": "code",
   "execution_count": 9,
   "metadata": {},
   "outputs": [
    {
     "data": {
      "image/png": "[encoded data removed]",
      "text/plain": [
       "<Figure size 432x288 with 1 Axes>"
      ]
     },
     "metadata": {},
     "output_type": "display_data"
    }
   ],
   "source": [
    "# plot store sizes of node types for epidemic\n",
    "sns.set(style=\"whitegrid\")\n",
    "bp = sns.boxplot(x=\"node_type\", y=\"size\", data=final_sizes_epidemic)"
   ]
  },
  {
   "cell_type": "code",
   "execution_count": 10,
   "metadata": {},
   "outputs": [
    {
     "data": {
      "image/png": "[encoded data removed]",
      "text/plain": [
       "<Figure size 432x288 with 1 Axes>"
      ]
     },
     "metadata": {},
     "output_type": "display_data"
    }
   ],
   "source": [
    "# plot store sizes of node types for context\n",
    "sns.set(style=\"whitegrid\")\n",
    "bp = sns.boxplot(x=\"node_type\", y=\"size\", data=final_sizes_context)"
   ]
  },
  {
   "cell_type": "code",
   "execution_count": 16,
   "metadata": {},
   "outputs": [
    {
     "data": {
      "image/png": "[encoded data removed]",
      "text/plain": [
       "<Figure size 432x288 with 1 Axes>"
      ]
     },
     "metadata": {},
     "output_type": "display_data"
    }
   ],
   "source": [
    "# plot store sizes of node types for binary_spray\n",
    "sns.set(style=\"whitegrid\")\n",
    "bp = sns.boxplot(x=\"node_type\", y=\"size\", data=final_sizes_spray)"
   ]
  },
  {
   "cell_type": "code",
   "execution_count": 17,
   "metadata": {},
   "outputs": [
    {
     "data": {
      "image/png": "[encoded data removed]",
      "text/plain": [
       "<Figure size 432x288 with 1 Axes>"
      ]
     },
     "metadata": {},
     "output_type": "display_data"
    }
   ],
   "source": [
    "# plot store sizes of node types for prophet\n",
    "sns.set(style=\"whitegrid\")\n",
    "bp = sns.boxplot(x=\"node_type\", y=\"size\", data=final_sizes_prophet)"
   ]
  }
 ],
 "metadata": {
  "kernelspec": {
   "display_name": "Python 3",
   "language": "python",
   "name": "python3"
  },
  "language_info": {
   "codemirror_mode": {
    "name": "ipython",
    "version": 3
   },
   "file_extension": ".py",
   "mimetype": "text/x-python",
   "name": "python",
   "nbconvert_exporter": "python",
   "pygments_lexer": "ipython3",
   "version": "3.8.2"
  }
 },
 "nbformat": 4,
 "nbformat_minor": 2
}
