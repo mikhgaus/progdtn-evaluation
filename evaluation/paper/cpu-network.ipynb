{
 "cells": [
  {
   "cell_type": "code",
   "execution_count": 102,
   "metadata": {},
   "outputs": [
    {
     "name": "stdout",
     "output_type": "stream",
     "text": [
      "The autoreload extension is already loaded. To reload it, use:\n",
      "  %reload_ext autoreload\n"
     ]
    }
   ],
   "source": [
    "%load_ext autoreload\n",
    "%autoreload 2\n",
    "\n",
    "import pathlib\n",
    "\n",
    "import pandas as pd\n",
    "pd.set_option('display.float_format', lambda x: '%.1f' % x)\n",
    "import scipy.stats\n",
    "import numpy as np\n",
    "\n",
    "import plotly.express as px\n",
    "import plotly.graph_objs as go\n",
    "\n",
    "from data_handlers.network import parse_bwms\n",
    "from data_handlers.procmem import parse_pidstat"
   ]
  },
  {
   "cell_type": "code",
   "execution_count": 14,
   "metadata": {},
   "outputs": [],
   "source": [
    "experiment_path = pathlib.Path(f\"/storage/research_data/sommer2020cadr/maci-docker-compose/maci_data/binary_files/24/\")"
   ]
  },
  {
   "cell_type": "code",
   "execution_count": 209,
   "metadata": {},
   "outputs": [],
   "source": [
    "name_replacement = {\n",
    "    \"epidemic\": \"Epidemic\",\n",
    "    \"cadr_epidemic\": \"ProgDTN Epidemic\",\n",
    "    \"binary_spray\": \"Binary Spray\",\n",
    "    \"cadr_spray\": \"ProgDTN Binary Spray\",\n",
    "    \"prophet\": \"PRoPHET\",\n",
    "    \"dtlsr\": \"DTLSR\",\n",
    "    \"cadr_responders\": \"ProgDTN Emergency\",\n",
    "    \"1000\": \"1kB\",\n",
    "    \"1000000\": \"1MB\",\n",
    "}\n",
    "\n",
    "routing_color_map = {\n",
    "    \"Epidemic\": \"#636EFA\",\n",
    "    \"ProgDTN Epidemic\": \"#EF553B\",\n",
    "    \"Binary Spray\": \"#00CC96\",\n",
    "    \"ProgDTN Binary Spray\": \"#AB63FA\",\n",
    "    \"PRoPHET\": \"#FFA15A\",\n",
    "    \"DTLSR\": \"#FF6692\",\n",
    "    \"ProgDTN Emergency\": \"#19D3F3\"\n",
    "}"
   ]
  },
  {
   "cell_type": "code",
   "execution_count": 110,
   "metadata": {},
   "outputs": [],
   "source": [
    "def mean_confidence_interval(data, confidence=0.95):\n",
    "    if isinstance(data.iloc[0], str):\n",
    "        return data.iloc[0]\n",
    "    \n",
    "    a = 1.0 * np.array(data)\n",
    "    n = len(a)\n",
    "    h = scipy.stats.sem(a) * scipy.stats.t.ppf((1 + confidence) / 2., n-1)\n",
    "    return h\n",
    "\n",
    "def error_band_line(error_y_mode=None, **kwargs):\n",
    "    \"\"\"Extension of `plotly.express.line` to use error bands.\"\"\"\n",
    "    ERROR_MODES = {'bar','band','bars','bands',None}\n",
    "    if error_y_mode not in ERROR_MODES:\n",
    "        raise ValueError(f\"'error_y_mode' must be one of {ERROR_MODES}, received {repr(error_y_mode)}.\")\n",
    "    if error_y_mode in {'bar','bars',None}:\n",
    "        fig = px.line(**kwargs)\n",
    "    elif error_y_mode in {'band','bands'}:\n",
    "        if 'error_y' not in kwargs:\n",
    "            raise ValueError(f\"If you provide argument 'error_y_mode' you must also provide 'error_y'.\")\n",
    "        figure_with_error_bars = px.line(**kwargs)\n",
    "        fig = px.line(**{arg: val for arg,val in kwargs.items() if arg != 'error_y'})\n",
    "        for data in figure_with_error_bars.data:\n",
    "            x = list(data['x'])\n",
    "            y_upper = list(data['y'] + data['error_y']['array'])\n",
    "            y_lower = list(data['y'] - data['error_y']['array'] if data['error_y']['arrayminus'] is None else data['y'] - data['error_y']['arrayminus'])\n",
    "            color = f\"rgba({tuple(int(data['line']['color'].lstrip('#')[i:i+2], 16) for i in (0, 2, 4))},.3)\".replace('((','(').replace('),',',').replace(' ','')\n",
    "            fig.add_trace(\n",
    "                go.Scatter(\n",
    "                    x = x+x[::-1],\n",
    "                    y = y_upper+y_lower[::-1],\n",
    "                    fill = 'toself',\n",
    "                    fillcolor = color,\n",
    "                    line = dict(\n",
    "                        color = 'rgba(255,255,255,0)'\n",
    "                    ),\n",
    "                    hoverinfo = \"skip\",\n",
    "                    showlegend = False,\n",
    "                    legendgroup = data['legendgroup'],\n",
    "                    xaxis = data['xaxis'],\n",
    "                    yaxis = data['yaxis'],\n",
    "                )\n",
    "            )\n",
    "        # Reorder data as said here: https://stackoverflow.com/a/66854398/8849755\n",
    "        reordered_data = []\n",
    "        for i in range(int(len(fig.data)/2)):\n",
    "            reordered_data.append(fig.data[i+int(len(fig.data)/2)])\n",
    "            reordered_data.append(fig.data[i])\n",
    "        fig.data = tuple(reordered_data)\n",
    "    return fig"
   ]
  },
  {
   "cell_type": "code",
   "execution_count": 190,
   "metadata": {
    "tags": []
   },
   "outputs": [
    {
     "name": "stdout",
     "output_type": "stream",
     "text": [
      "Parsing configuarion 1000, 50, binary_spray in /storage/research_data/sommer2020cadr/maci-docker-compose/maci_data/binary_files/24/ids/1047\n",
      "Parsing configuarion 1000, 50, cadr_responders in /storage/research_data/sommer2020cadr/maci-docker-compose/maci_data/binary_files/24/ids/983\n",
      "Parsing configuarion 1000000, 100, prophet in /storage/research_data/sommer2020cadr/maci-docker-compose/maci_data/binary_files/24/ids/1137\n",
      "Parsing configuarion 1000, 10, cadr_spray in /storage/research_data/sommer2020cadr/maci-docker-compose/maci_data/binary_files/24/ids/910\n",
      "Parsing configuarion 1000000, 50, cadr_responders in /storage/research_data/sommer2020cadr/maci-docker-compose/maci_data/binary_files/24/ids/967\n",
      "Parsing configuarion 1000000, 10, binary_spray in /storage/research_data/sommer2020cadr/maci-docker-compose/maci_data/binary_files/24/ids/1075\n",
      "Parsing configuarion 1000, 50, prophet in /storage/research_data/sommer2020cadr/maci-docker-compose/maci_data/binary_files/24/ids/1196\n",
      "Parsing configuarion 1000000, 100, prophet in /storage/research_data/sommer2020cadr/maci-docker-compose/maci_data/binary_files/24/ids/1178\n",
      "Parsing configuarion 1000, 10, cadr_epidemic in /storage/research_data/sommer2020cadr/maci-docker-compose/maci_data/binary_files/24/ids/955\n",
      "Parsing configuarion 1000000, 100, cadr_spray in /storage/research_data/sommer2020cadr/maci-docker-compose/maci_data/binary_files/24/ids/1008\n",
      "Parsing configuarion 1000, 50, epidemic in /storage/research_data/sommer2020cadr/maci-docker-compose/maci_data/binary_files/24/ids/1091\n",
      "Parsing configuarion 1000, 50, dtlsr in /storage/research_data/sommer2020cadr/maci-docker-compose/maci_data/binary_files/24/ids/1153\n",
      "Parsing configuarion 1000000, 50, cadr_epidemic in /storage/research_data/sommer2020cadr/maci-docker-compose/maci_data/binary_files/24/ids/897\n",
      "Parsing configuarion 1000000, 10, cadr_epidemic in /storage/research_data/sommer2020cadr/maci-docker-compose/maci_data/binary_files/24/ids/903\n",
      "Parsing configuarion 1000000, 10, cadr_responders in /storage/research_data/sommer2020cadr/maci-docker-compose/maci_data/binary_files/24/ids/974\n",
      "Parsing configuarion 1000, 50, dtlsr in /storage/research_data/sommer2020cadr/maci-docker-compose/maci_data/binary_files/24/ids/1159\n",
      "Parsing configuarion 1000, 10, cadr_responders in /storage/research_data/sommer2020cadr/maci-docker-compose/maci_data/binary_files/24/ids/1023\n",
      "Parsing configuarion 1000, 10, binary_spray in /storage/research_data/sommer2020cadr/maci-docker-compose/maci_data/binary_files/24/ids/1054\n",
      "Parsing configuarion 1000, 10, cadr_spray in /storage/research_data/sommer2020cadr/maci-docker-compose/maci_data/binary_files/24/ids/909\n",
      "Parsing configuarion 1000, 100, cadr_epidemic in /storage/research_data/sommer2020cadr/maci-docker-compose/maci_data/binary_files/24/ids/946\n",
      "Parsing configuarion 1000000, 50, epidemic in /storage/research_data/sommer2020cadr/maci-docker-compose/maci_data/binary_files/24/ids/1116\n",
      "Parsing configuarion 1000000, 100, prophet in /storage/research_data/sommer2020cadr/maci-docker-compose/maci_data/binary_files/24/ids/1161\n",
      "Parsing configuarion 1000, 100, epidemic in /storage/research_data/sommer2020cadr/maci-docker-compose/maci_data/binary_files/24/ids/1088\n",
      "Parsing configuarion 1000000, 100, binary_spray in /storage/research_data/sommer2020cadr/maci-docker-compose/maci_data/binary_files/24/ids/1066\n",
      "Parsing configuarion 1000000, 50, cadr_spray in /storage/research_data/sommer2020cadr/maci-docker-compose/maci_data/binary_files/24/ids/1011\n",
      "Parsing configuarion 1000000, 50, prophet in /storage/research_data/sommer2020cadr/maci-docker-compose/maci_data/binary_files/24/ids/1185\n",
      "Parsing configuarion 1000000, 100, dtlsr in /storage/research_data/sommer2020cadr/maci-docker-compose/maci_data/binary_files/24/ids/936\n",
      "Parsing configuarion 1000000, 50, dtlsr in /storage/research_data/sommer2020cadr/maci-docker-compose/maci_data/binary_files/24/ids/941\n",
      "Parsing configuarion 1000000, 10, prophet in /storage/research_data/sommer2020cadr/maci-docker-compose/maci_data/binary_files/24/ids/1188\n",
      "Parsing configuarion 1000, 10, prophet in /storage/research_data/sommer2020cadr/maci-docker-compose/maci_data/binary_files/24/ids/1166\n",
      "Parsing configuarion 1000000, 10, epidemic in /storage/research_data/sommer2020cadr/maci-docker-compose/maci_data/binary_files/24/ids/1085\n",
      "Parsing configuarion 1000000, 50, prophet in /storage/research_data/sommer2020cadr/maci-docker-compose/maci_data/binary_files/24/ids/1182\n",
      "Parsing configuarion 1000000, 10, cadr_spray in /storage/research_data/sommer2020cadr/maci-docker-compose/maci_data/binary_files/24/ids/1016\n",
      "Parsing configuarion 1000, 100, binary_spray in /storage/research_data/sommer2020cadr/maci-docker-compose/maci_data/binary_files/24/ids/1061\n",
      "Parsing configuarion 1000, 50, dtlsr in /storage/research_data/sommer2020cadr/maci-docker-compose/maci_data/binary_files/24/ids/1154\n",
      "Parsing configuarion 1000000, 50, cadr_responders in /storage/research_data/sommer2020cadr/maci-docker-compose/maci_data/binary_files/24/ids/973\n",
      "Parsing configuarion 1000000, 100, cadr_epidemic in /storage/research_data/sommer2020cadr/maci-docker-compose/maci_data/binary_files/24/ids/890\n",
      "Parsing configuarion 1000, 10, binary_spray in /storage/research_data/sommer2020cadr/maci-docker-compose/maci_data/binary_files/24/ids/1053\n",
      "Parsing configuarion 1000000, 100, cadr_spray in /storage/research_data/sommer2020cadr/maci-docker-compose/maci_data/binary_files/24/ids/1024\n",
      "Parsing configuarion 1000, 50, cadr_responders in /storage/research_data/sommer2020cadr/maci-docker-compose/maci_data/binary_files/24/ids/979\n",
      "Parsing configuarion 1000, 10, cadr_epidemic in /storage/research_data/sommer2020cadr/maci-docker-compose/maci_data/binary_files/24/ids/958\n",
      "Parsing configuarion 1000, 100, prophet in /storage/research_data/sommer2020cadr/maci-docker-compose/maci_data/binary_files/24/ids/1191\n",
      "Parsing configuarion 1000, 10, cadr_responders in /storage/research_data/sommer2020cadr/maci-docker-compose/maci_data/binary_files/24/ids/1005\n",
      "Parsing configuarion 1000, 100, cadr_epidemic in /storage/research_data/sommer2020cadr/maci-docker-compose/maci_data/binary_files/24/ids/925\n",
      "Parsing configuarion 1000, 50, cadr_epidemic in /storage/research_data/sommer2020cadr/maci-docker-compose/maci_data/binary_files/24/ids/952\n",
      "Parsing configuarion 1000000, 10, epidemic in /storage/research_data/sommer2020cadr/maci-docker-compose/maci_data/binary_files/24/ids/1102\n",
      "Parsing configuarion 1000, 10, epidemic in /storage/research_data/sommer2020cadr/maci-docker-compose/maci_data/binary_files/24/ids/1096\n",
      "Parsing configuarion 1000000, 10, binary_spray in /storage/research_data/sommer2020cadr/maci-docker-compose/maci_data/binary_files/24/ids/1078\n",
      "Parsing configuarion 1000000, 100, cadr_epidemic in /storage/research_data/sommer2020cadr/maci-docker-compose/maci_data/binary_files/24/ids/889\n",
      "Parsing configuarion 1000000, 50, cadr_responders in /storage/research_data/sommer2020cadr/maci-docker-compose/maci_data/binary_files/24/ids/984\n",
      "Parsing configuarion 1000, 100, dtlsr in /storage/research_data/sommer2020cadr/maci-docker-compose/maci_data/binary_files/24/ids/1147\n",
      "Parsing configuarion 1000, 50, cadr_spray in /storage/research_data/sommer2020cadr/maci-docker-compose/maci_data/binary_files/24/ids/964\n",
      "Parsing configuarion 1000000, 10, dtlsr in /storage/research_data/sommer2020cadr/maci-docker-compose/maci_data/binary_files/24/ids/1143\n",
      "Parsing configuarion 1000, 50, cadr_responders in /storage/research_data/sommer2020cadr/maci-docker-compose/maci_data/binary_files/24/ids/980\n",
      "Parsing configuarion 1000000, 50, dtlsr in /storage/research_data/sommer2020cadr/maci-docker-compose/maci_data/binary_files/24/ids/1044\n",
      "Parsing configuarion 1000, 100, dtlsr in /storage/research_data/sommer2020cadr/maci-docker-compose/maci_data/binary_files/24/ids/1149\n",
      "Parsing configuarion 1000, 50, epidemic in /storage/research_data/sommer2020cadr/maci-docker-compose/maci_data/binary_files/24/ids/1092\n",
      "Parsing configuarion 1000, 10, cadr_epidemic in /storage/research_data/sommer2020cadr/maci-docker-compose/maci_data/binary_files/24/ids/956\n",
      "Parsing configuarion 1000000, 100, cadr_responders in /storage/research_data/sommer2020cadr/maci-docker-compose/maci_data/binary_files/24/ids/1001\n",
      "Parsing configuarion 1000, 100, prophet in /storage/research_data/sommer2020cadr/maci-docker-compose/maci_data/binary_files/24/ids/1195\n",
      "Parsing configuarion 1000000, 10, binary_spray in /storage/research_data/sommer2020cadr/maci-docker-compose/maci_data/binary_files/24/ids/1076\n",
      "Parsing configuarion 1000, 10, epidemic in /storage/research_data/sommer2020cadr/maci-docker-compose/maci_data/binary_files/24/ids/1098\n",
      "Parsing configuarion 1000000, 100, cadr_responders in /storage/research_data/sommer2020cadr/maci-docker-compose/maci_data/binary_files/24/ids/993\n",
      "Parsing configuarion 1000, 100, cadr_spray in /storage/research_data/sommer2020cadr/maci-docker-compose/maci_data/binary_files/24/ids/1020\n",
      "Parsing configuarion 1000, 100, cadr_responders in /storage/research_data/sommer2020cadr/maci-docker-compose/maci_data/binary_files/24/ids/977\n",
      "Parsing configuarion 1000000, 100, cadr_epidemic in /storage/research_data/sommer2020cadr/maci-docker-compose/maci_data/binary_files/24/ids/894\n",
      "Parsing configuarion 1000000, 10, cadr_epidemic in /storage/research_data/sommer2020cadr/maci-docker-compose/maci_data/binary_files/24/ids/900\n",
      "Parsing configuarion 1000000, 100, cadr_responders in /storage/research_data/sommer2020cadr/maci-docker-compose/maci_data/binary_files/24/ids/999\n",
      "Parsing configuarion 1000000, 100, prophet in /storage/research_data/sommer2020cadr/maci-docker-compose/maci_data/binary_files/24/ids/1150\n",
      "Parsing configuarion 1000000, 50, cadr_spray in /storage/research_data/sommer2020cadr/maci-docker-compose/maci_data/binary_files/24/ids/1012\n",
      "Parsing configuarion 1000000, 10, prophet in /storage/research_data/sommer2020cadr/maci-docker-compose/maci_data/binary_files/24/ids/1186\n",
      "Parsing configuarion 1000000, 10, dtlsr in /storage/research_data/sommer2020cadr/maci-docker-compose/maci_data/binary_files/24/ids/1065\n",
      "Parsing configuarion 1000000, 100, dtlsr in /storage/research_data/sommer2020cadr/maci-docker-compose/maci_data/binary_files/24/ids/938\n",
      "Parsing configuarion 1000000, 50, prophet in /storage/research_data/sommer2020cadr/maci-docker-compose/maci_data/binary_files/24/ids/1162\n",
      "Parsing configuarion 1000000, 50, binary_spray in /storage/research_data/sommer2020cadr/maci-docker-compose/maci_data/binary_files/24/ids/1081\n",
      "Parsing configuarion 1000000, 50, epidemic in /storage/research_data/sommer2020cadr/maci-docker-compose/maci_data/binary_files/24/ids/1115\n",
      "Parsing configuarion 1000000, 10, cadr_spray in /storage/research_data/sommer2020cadr/maci-docker-compose/maci_data/binary_files/24/ids/1018\n",
      "Parsing configuarion 1000, 100, binary_spray in /storage/research_data/sommer2020cadr/maci-docker-compose/maci_data/binary_files/24/ids/1062\n",
      "Parsing configuarion 1000, 50, prophet in /storage/research_data/sommer2020cadr/maci-docker-compose/maci_data/binary_files/24/ids/1181\n",
      "Parsing configuarion 1000000, 10, cadr_spray in /storage/research_data/sommer2020cadr/maci-docker-compose/maci_data/binary_files/24/ids/1015\n",
      "Parsing configuarion 1000000, 50, epidemic in /storage/research_data/sommer2020cadr/maci-docker-compose/maci_data/binary_files/24/ids/1118\n",
      "Parsing configuarion 1000, 100, cadr_epidemic in /storage/research_data/sommer2020cadr/maci-docker-compose/maci_data/binary_files/24/ids/948\n",
      "Parsing configuarion 1000000, 100, binary_spray in /storage/research_data/sommer2020cadr/maci-docker-compose/maci_data/binary_files/24/ids/1068\n",
      "Parsing configuarion 1000000, 100, epidemic in /storage/research_data/sommer2020cadr/maci-docker-compose/maci_data/binary_files/24/ids/1112\n",
      "Parsing configuarion 1000, 100, epidemic in /storage/research_data/sommer2020cadr/maci-docker-compose/maci_data/binary_files/24/ids/1086\n",
      "Parsing configuarion 1000, 10, prophet in /storage/research_data/sommer2020cadr/maci-docker-compose/maci_data/binary_files/24/ids/1165\n",
      "Parsing configuarion 1000000, 100, dtlsr in /storage/research_data/sommer2020cadr/maci-docker-compose/maci_data/binary_files/24/ids/942\n",
      "Parsing configuarion 1000000, 100, dtlsr in /storage/research_data/sommer2020cadr/maci-docker-compose/maci_data/binary_files/24/ids/935\n",
      "Parsing configuarion 1000000, 10, cadr_epidemic in /storage/research_data/sommer2020cadr/maci-docker-compose/maci_data/binary_files/24/ids/899\n",
      "Parsing configuarion 1000, 10, cadr_responders in /storage/research_data/sommer2020cadr/maci-docker-compose/maci_data/binary_files/24/ids/1027\n",
      "Parsing configuarion 1000, 50, binary_spray in /storage/research_data/sommer2020cadr/maci-docker-compose/maci_data/binary_files/24/ids/1050\n",
      "Parsing configuarion 1000, 50, cadr_spray in /storage/research_data/sommer2020cadr/maci-docker-compose/maci_data/binary_files/24/ids/907\n",
      "Parsing configuarion 1000000, 10, cadr_responders in /storage/research_data/sommer2020cadr/maci-docker-compose/maci_data/binary_files/24/ids/970\n",
      "Parsing configuarion 1000, 10, dtlsr in /storage/research_data/sommer2020cadr/maci-docker-compose/maci_data/binary_files/24/ids/1157\n",
      "Parsing configuarion 1000000, 100, epidemic in /storage/research_data/sommer2020cadr/maci-docker-compose/maci_data/binary_files/24/ids/1120\n",
      "Parsing configuarion 1000000, 10, epidemic in /storage/research_data/sommer2020cadr/maci-docker-compose/maci_data/binary_files/24/ids/1101\n",
      "Parsing configuarion 1000, 50, epidemic in /storage/research_data/sommer2020cadr/maci-docker-compose/maci_data/binary_files/24/ids/1095\n",
      "Parsing configuarion 1000000, 10, prophet in /storage/research_data/sommer2020cadr/maci-docker-compose/maci_data/binary_files/24/ids/1198\n",
      "Parsing configuarion 1000, 50, cadr_epidemic in /storage/research_data/sommer2020cadr/maci-docker-compose/maci_data/binary_files/24/ids/951\n",
      "Parsing configuarion 1000000, 50, binary_spray in /storage/research_data/sommer2020cadr/maci-docker-compose/maci_data/binary_files/24/ids/1071\n",
      "Parsing configuarion 1000, 100, prophet in /storage/research_data/sommer2020cadr/maci-docker-compose/maci_data/binary_files/24/ids/1192\n",
      "Parsing configuarion 1000000, 100, cadr_spray in /storage/research_data/sommer2020cadr/maci-docker-compose/maci_data/binary_files/24/ids/1006\n",
      "Parsing configuarion 1000, 10, cadr_spray in /storage/research_data/sommer2020cadr/maci-docker-compose/maci_data/binary_files/24/ids/914\n",
      "Parsing configuarion 1000000, 50, dtlsr in /storage/research_data/sommer2020cadr/maci-docker-compose/maci_data/binary_files/24/ids/963\n",
      "Parsing configuarion 1000000, 10, dtlsr in /storage/research_data/sommer2020cadr/maci-docker-compose/maci_data/binary_files/24/ids/1144\n",
      "Parsing configuarion 1000, 50, binary_spray in /storage/research_data/sommer2020cadr/maci-docker-compose/maci_data/binary_files/24/ids/1049\n",
      "Parsing configuarion 1000000, 10, cadr_responders in /storage/research_data/sommer2020cadr/maci-docker-compose/maci_data/binary_files/24/ids/969\n",
      "Parsing configuarion 1000000, 10, cadr_epidemic in /storage/research_data/sommer2020cadr/maci-docker-compose/maci_data/binary_files/24/ids/924\n",
      "Parsing configuarion 1000000, 10, epidemic in /storage/research_data/sommer2020cadr/maci-docker-compose/maci_data/binary_files/24/ids/1103\n",
      "Parsing configuarion 1000, 10, epidemic in /storage/research_data/sommer2020cadr/maci-docker-compose/maci_data/binary_files/24/ids/1097\n",
      "Parsing configuarion 1000000, 10, binary_spray in /storage/research_data/sommer2020cadr/maci-docker-compose/maci_data/binary_files/24/ids/1079\n",
      "Parsing configuarion 1000000, 50, binary_spray in /storage/research_data/sommer2020cadr/maci-docker-compose/maci_data/binary_files/24/ids/1073\n",
      "Parsing configuarion 1000000, 10, prophet in /storage/research_data/sommer2020cadr/maci-docker-compose/maci_data/binary_files/24/ids/1190\n",
      "Parsing configuarion 1000, 50, cadr_responders in /storage/research_data/sommer2020cadr/maci-docker-compose/maci_data/binary_files/24/ids/1004\n",
      "Parsing configuarion 1000, 100, dtlsr in /storage/research_data/sommer2020cadr/maci-docker-compose/maci_data/binary_files/24/ids/1146\n",
      "Parsing configuarion 1000000, 100, cadr_responders in /storage/research_data/sommer2020cadr/maci-docker-compose/maci_data/binary_files/24/ids/985\n",
      "Parsing configuarion 1000000, 50, prophet in /storage/research_data/sommer2020cadr/maci-docker-compose/maci_data/binary_files/24/ids/1183\n",
      "Parsing configuarion 1000000, 10, cadr_spray in /storage/research_data/sommer2020cadr/maci-docker-compose/maci_data/binary_files/24/ids/1017\n",
      "Parsing configuarion 1000000, 50, dtlsr in /storage/research_data/sommer2020cadr/maci-docker-compose/maci_data/binary_files/24/ids/940\n",
      "Parsing configuarion 1000000, 100, dtlsr in /storage/research_data/sommer2020cadr/maci-docker-compose/maci_data/binary_files/24/ids/937\n",
      "Parsing configuarion 1000000, 10, prophet in /storage/research_data/sommer2020cadr/maci-docker-compose/maci_data/binary_files/24/ids/1189\n",
      "Parsing configuarion 1000000, 100, epidemic in /storage/research_data/sommer2020cadr/maci-docker-compose/maci_data/binary_files/24/ids/1110\n",
      "Parsing configuarion 1000, 10, binary_spray in /storage/research_data/sommer2020cadr/maci-docker-compose/maci_data/binary_files/24/ids/1052\n",
      "Parsing configuarion 1000, 100, cadr_responders in /storage/research_data/sommer2020cadr/maci-docker-compose/maci_data/binary_files/24/ids/978\n",
      "Parsing configuarion 1000, 50, dtlsr in /storage/research_data/sommer2020cadr/maci-docker-compose/maci_data/binary_files/24/ids/1155\n",
      "Parsing configuarion 1000000, 100, binary_spray in /storage/research_data/sommer2020cadr/maci-docker-compose/maci_data/binary_files/24/ids/1122\n",
      "Parsing configuarion 1000000, 100, cadr_epidemic in /storage/research_data/sommer2020cadr/maci-docker-compose/maci_data/binary_files/24/ids/891\n",
      "Parsing configuarion 1000000, 10, cadr_responders in /storage/research_data/sommer2020cadr/maci-docker-compose/maci_data/binary_files/24/ids/972\n",
      "Parsing configuarion 1000, 10, dtlsr in /storage/research_data/sommer2020cadr/maci-docker-compose/maci_data/binary_files/24/ids/1158\n",
      "Parsing configuarion 1000, 10, binary_spray in /storage/research_data/sommer2020cadr/maci-docker-compose/maci_data/binary_files/24/ids/1055\n",
      "Parsing configuarion 1000000, 10, cadr_spray in /storage/research_data/sommer2020cadr/maci-docker-compose/maci_data/binary_files/24/ids/1022\n",
      "Parsing configuarion 1000, 50, cadr_spray in /storage/research_data/sommer2020cadr/maci-docker-compose/maci_data/binary_files/24/ids/908\n",
      "Parsing configuarion 1000, 50, dtlsr in /storage/research_data/sommer2020cadr/maci-docker-compose/maci_data/binary_files/24/ids/1152\n",
      "Parsing configuarion 1000, 10, cadr_responders in /storage/research_data/sommer2020cadr/maci-docker-compose/maci_data/binary_files/24/ids/1028\n",
      "Parsing configuarion 1000, 100, cadr_responders in /storage/research_data/sommer2020cadr/maci-docker-compose/maci_data/binary_files/24/ids/975\n",
      "Parsing configuarion 1000000, 50, cadr_epidemic in /storage/research_data/sommer2020cadr/maci-docker-compose/maci_data/binary_files/24/ids/896\n",
      "Parsing configuarion 1000000, 50, cadr_epidemic in /storage/research_data/sommer2020cadr/maci-docker-compose/maci_data/binary_files/24/ids/902\n",
      "Parsing configuarion 1000, 100, epidemic in /storage/research_data/sommer2020cadr/maci-docker-compose/maci_data/binary_files/24/ids/1089\n",
      "Parsing configuarion 1000000, 50, cadr_spray in /storage/research_data/sommer2020cadr/maci-docker-compose/maci_data/binary_files/24/ids/1010\n",
      "Parsing configuarion 1000000, 50, prophet in /storage/research_data/sommer2020cadr/maci-docker-compose/maci_data/binary_files/24/ids/1184\n",
      "Parsing configuarion 1000000, 100, binary_spray in /storage/research_data/sommer2020cadr/maci-docker-compose/maci_data/binary_files/24/ids/1067\n",
      "Parsing configuarion 1000, 100, cadr_epidemic in /storage/research_data/sommer2020cadr/maci-docker-compose/maci_data/binary_files/24/ids/947\n",
      "Parsing configuarion 1000000, 100, prophet in /storage/research_data/sommer2020cadr/maci-docker-compose/maci_data/binary_files/24/ids/1160\n",
      "Parsing configuarion 1000000, 50, epidemic in /storage/research_data/sommer2020cadr/maci-docker-compose/maci_data/binary_files/24/ids/1117\n",
      "Parsing configuarion 1000, 10, dtlsr in /storage/research_data/sommer2020cadr/maci-docker-compose/maci_data/binary_files/24/ids/1141\n",
      "Parsing configuarion 1000000, 50, cadr_responders in /storage/research_data/sommer2020cadr/maci-docker-compose/maci_data/binary_files/24/ids/966\n",
      "Parsing configuarion 1000, 10, epidemic in /storage/research_data/sommer2020cadr/maci-docker-compose/maci_data/binary_files/24/ids/885\n",
      "Parsing configuarion 1000, 10, cadr_spray in /storage/research_data/sommer2020cadr/maci-docker-compose/maci_data/binary_files/24/ids/911\n",
      "Parsing configuarion 1000, 50, binary_spray in /storage/research_data/sommer2020cadr/maci-docker-compose/maci_data/binary_files/24/ids/1046\n",
      "Parsing configuarion 1000, 100, cadr_responders in /storage/research_data/sommer2020cadr/maci-docker-compose/maci_data/binary_files/24/ids/982\n",
      "Parsing configuarion 1000, 50, cadr_spray in /storage/research_data/sommer2020cadr/maci-docker-compose/maci_data/binary_files/24/ids/923\n",
      "Parsing configuarion 1000, 50, cadr_epidemic in /storage/research_data/sommer2020cadr/maci-docker-compose/maci_data/binary_files/24/ids/954\n",
      "Parsing configuarion 1000000, 50, cadr_spray in /storage/research_data/sommer2020cadr/maci-docker-compose/maci_data/binary_files/24/ids/1009\n",
      "Parsing configuarion 1000, 100, epidemic in /storage/research_data/sommer2020cadr/maci-docker-compose/maci_data/binary_files/24/ids/1090\n",
      "Parsing configuarion 1000, 100, cadr_spray in /storage/research_data/sommer2020cadr/maci-docker-compose/maci_data/binary_files/24/ids/1003\n",
      "Parsing configuarion 1000, 50, prophet in /storage/research_data/sommer2020cadr/maci-docker-compose/maci_data/binary_files/24/ids/1197\n",
      "Parsing configuarion 1000000, 50, binary_spray in /storage/research_data/sommer2020cadr/maci-docker-compose/maci_data/binary_files/24/ids/1074\n",
      "Parsing configuarion 1000, 50, prophet in /storage/research_data/sommer2020cadr/maci-docker-compose/maci_data/binary_files/24/ids/1179\n",
      "Parsing configuarion 1000, 100, prophet in /storage/research_data/sommer2020cadr/maci-docker-compose/maci_data/binary_files/24/ids/1193\n",
      "Parsing configuarion 1000000, 100, cadr_spray in /storage/research_data/sommer2020cadr/maci-docker-compose/maci_data/binary_files/24/ids/1007\n",
      "Parsing configuarion 1000000, 50, binary_spray in /storage/research_data/sommer2020cadr/maci-docker-compose/maci_data/binary_files/24/ids/1070\n",
      "Parsing configuarion 1000000, 10, epidemic in /storage/research_data/sommer2020cadr/maci-docker-compose/maci_data/binary_files/24/ids/1100\n",
      "Parsing configuarion 1000, 50, epidemic in /storage/research_data/sommer2020cadr/maci-docker-compose/maci_data/binary_files/24/ids/1094\n",
      "Parsing configuarion 1000, 50, cadr_epidemic in /storage/research_data/sommer2020cadr/maci-docker-compose/maci_data/binary_files/24/ids/950\n",
      "Parsing configuarion 1000000, 50, cadr_responders in /storage/research_data/sommer2020cadr/maci-docker-compose/maci_data/binary_files/24/ids/968\n",
      "Parsing configuarion 1000, 10, cadr_epidemic in /storage/research_data/sommer2020cadr/maci-docker-compose/maci_data/binary_files/24/ids/962\n",
      "Parsing configuarion 1000000, 10, dtlsr in /storage/research_data/sommer2020cadr/maci-docker-compose/maci_data/binary_files/24/ids/1145\n",
      "Parsing configuarion 1000, 50, binary_spray in /storage/research_data/sommer2020cadr/maci-docker-compose/maci_data/binary_files/24/ids/1048\n",
      "Parsing configuarion 1000000, 100, binary_spray in /storage/research_data/sommer2020cadr/maci-docker-compose/maci_data/binary_files/24/ids/1069\n",
      "Parsing configuarion 1000, 10, prophet in /storage/research_data/sommer2020cadr/maci-docker-compose/maci_data/binary_files/24/ids/1164\n",
      "Parsing configuarion 1000000, 100, epidemic in /storage/research_data/sommer2020cadr/maci-docker-compose/maci_data/binary_files/24/ids/1113\n",
      "Parsing configuarion 1000, 100, epidemic in /storage/research_data/sommer2020cadr/maci-docker-compose/maci_data/binary_files/24/ids/1087\n",
      "Parsing configuarion 1000, 100, cadr_epidemic in /storage/research_data/sommer2020cadr/maci-docker-compose/maci_data/binary_files/24/ids/943\n",
      "Parsing configuarion 1000, 10, prophet in /storage/research_data/sommer2020cadr/maci-docker-compose/maci_data/binary_files/24/ids/1180\n",
      "Parsing configuarion 1000000, 50, cadr_spray in /storage/research_data/sommer2020cadr/maci-docker-compose/maci_data/binary_files/24/ids/1014\n",
      "Parsing configuarion 1000, 100, binary_spray in /storage/research_data/sommer2020cadr/maci-docker-compose/maci_data/binary_files/24/ids/1063\n",
      "Parsing configuarion 1000000, 50, epidemic in /storage/research_data/sommer2020cadr/maci-docker-compose/maci_data/binary_files/24/ids/1119\n",
      "Parsing configuarion 1000, 50, cadr_epidemic in /storage/research_data/sommer2020cadr/maci-docker-compose/maci_data/binary_files/24/ids/949\n",
      "Parsing configuarion 1000000, 10, cadr_responders in /storage/research_data/sommer2020cadr/maci-docker-compose/maci_data/binary_files/24/ids/971\n",
      "Parsing configuarion 1000, 50, cadr_spray in /storage/research_data/sommer2020cadr/maci-docker-compose/maci_data/binary_files/24/ids/906\n",
      "Parsing configuarion 1000000, 100, cadr_epidemic in /storage/research_data/sommer2020cadr/maci-docker-compose/maci_data/binary_files/24/ids/892\n",
      "Parsing configuarion 1000, 10, dtlsr in /storage/research_data/sommer2020cadr/maci-docker-compose/maci_data/binary_files/24/ids/1156\n",
      "Parsing configuarion 1000000, 50, cadr_epidemic in /storage/research_data/sommer2020cadr/maci-docker-compose/maci_data/binary_files/24/ids/898\n",
      "Parsing configuarion 1000, 10, binary_spray in /storage/research_data/sommer2020cadr/maci-docker-compose/maci_data/binary_files/24/ids/1051\n",
      "Parsing configuarion 1000, 10, cadr_responders in /storage/research_data/sommer2020cadr/maci-docker-compose/maci_data/binary_files/24/ids/1026\n",
      "Parsing configuarion 1000000, 50, cadr_epidemic in /storage/research_data/sommer2020cadr/maci-docker-compose/maci_data/binary_files/24/ids/895\n",
      "Parsing configuarion 1000000, 10, cadr_epidemic in /storage/research_data/sommer2020cadr/maci-docker-compose/maci_data/binary_files/24/ids/901\n",
      "Parsing configuarion 1000, 100, cadr_responders in /storage/research_data/sommer2020cadr/maci-docker-compose/maci_data/binary_files/24/ids/976\n",
      "Parsing configuarion 1000, 100, dtlsr in /storage/research_data/sommer2020cadr/maci-docker-compose/maci_data/binary_files/24/ids/1151\n",
      "Parsing configuarion 1000, 100, cadr_spray in /storage/research_data/sommer2020cadr/maci-docker-compose/maci_data/binary_files/24/ids/1021\n",
      "Parsing configuarion 1000, 100, binary_spray in /storage/research_data/sommer2020cadr/maci-docker-compose/maci_data/binary_files/24/ids/1080\n",
      "Parsing configuarion 1000000, 100, epidemic in /storage/research_data/sommer2020cadr/maci-docker-compose/maci_data/binary_files/24/ids/1114\n",
      "Parsing configuarion 1000, 10, prophet in /storage/research_data/sommer2020cadr/maci-docker-compose/maci_data/binary_files/24/ids/1163\n",
      "Parsing configuarion 1000, 100, cadr_spray in /storage/research_data/sommer2020cadr/maci-docker-compose/maci_data/binary_files/24/ids/1019\n",
      "Parsing configuarion 1000, 100, binary_spray in /storage/research_data/sommer2020cadr/maci-docker-compose/maci_data/binary_files/24/ids/1064\n",
      "Parsing configuarion 1000000, 100, cadr_spray in /storage/research_data/sommer2020cadr/maci-docker-compose/maci_data/binary_files/24/ids/1013\n",
      "Parsing configuarion 1000, 50, prophet in /storage/research_data/sommer2020cadr/maci-docker-compose/maci_data/binary_files/24/ids/1187\n",
      "Parsing configuarion 1000000, 50, dtlsr in /storage/research_data/sommer2020cadr/maci-docker-compose/maci_data/binary_files/24/ids/939\n",
      "Parsing configuarion 1000, 50, cadr_responders in /storage/research_data/sommer2020cadr/maci-docker-compose/maci_data/binary_files/24/ids/981\n",
      "Parsing configuarion 1000000, 10, dtlsr in /storage/research_data/sommer2020cadr/maci-docker-compose/maci_data/binary_files/24/ids/1045\n",
      "Parsing configuarion 1000, 100, dtlsr in /storage/research_data/sommer2020cadr/maci-docker-compose/maci_data/binary_files/24/ids/1148\n",
      "Parsing configuarion 1000, 10, cadr_spray in /storage/research_data/sommer2020cadr/maci-docker-compose/maci_data/binary_files/24/ids/912\n",
      "Parsing configuarion 1000, 100, cadr_spray in /storage/research_data/sommer2020cadr/maci-docker-compose/maci_data/binary_files/24/ids/965\n",
      "Parsing configuarion 1000, 10, dtlsr in /storage/research_data/sommer2020cadr/maci-docker-compose/maci_data/binary_files/24/ids/1142\n",
      "Parsing configuarion 1000000, 10, binary_spray in /storage/research_data/sommer2020cadr/maci-docker-compose/maci_data/binary_files/24/ids/1077\n",
      "Parsing configuarion 1000000, 100, cadr_responders in /storage/research_data/sommer2020cadr/maci-docker-compose/maci_data/binary_files/24/ids/1000\n",
      "Parsing configuarion 1000, 100, prophet in /storage/research_data/sommer2020cadr/maci-docker-compose/maci_data/binary_files/24/ids/1194\n",
      "Parsing configuarion 1000, 10, epidemic in /storage/research_data/sommer2020cadr/maci-docker-compose/maci_data/binary_files/24/ids/1099\n",
      "Parsing configuarion 1000, 50, epidemic in /storage/research_data/sommer2020cadr/maci-docker-compose/maci_data/binary_files/24/ids/1093\n",
      "Parsing configuarion 1000, 10, cadr_epidemic in /storage/research_data/sommer2020cadr/maci-docker-compose/maci_data/binary_files/24/ids/957\n"
     ]
    }
   ],
   "source": [
    "network_df = parse_bwms(experiment_path)"
   ]
  },
  {
   "cell_type": "code",
   "execution_count": 191,
   "metadata": {
    "tags": []
   },
   "outputs": [
    {
     "name": "stdout",
     "output_type": "stream",
     "text": [
      "Parsing configuarion 1000, 50, binary_spray in /storage/research_data/sommer2020cadr/maci-docker-compose/maci_data/binary_files/24/ids/1047\n",
      "Parsing configuarion 1000, 50, cadr_responders in /storage/research_data/sommer2020cadr/maci-docker-compose/maci_data/binary_files/24/ids/983\n",
      "Parsing configuarion 1000000, 100, prophet in /storage/research_data/sommer2020cadr/maci-docker-compose/maci_data/binary_files/24/ids/1137\n",
      "Parsing configuarion 1000, 10, cadr_spray in /storage/research_data/sommer2020cadr/maci-docker-compose/maci_data/binary_files/24/ids/910\n",
      "Parsing configuarion 1000000, 50, cadr_responders in /storage/research_data/sommer2020cadr/maci-docker-compose/maci_data/binary_files/24/ids/967\n",
      "Parsing configuarion 1000000, 10, binary_spray in /storage/research_data/sommer2020cadr/maci-docker-compose/maci_data/binary_files/24/ids/1075\n",
      "Parsing configuarion 1000, 50, prophet in /storage/research_data/sommer2020cadr/maci-docker-compose/maci_data/binary_files/24/ids/1196\n",
      "Parsing configuarion 1000000, 100, prophet in /storage/research_data/sommer2020cadr/maci-docker-compose/maci_data/binary_files/24/ids/1178\n",
      "Parsing configuarion 1000, 10, cadr_epidemic in /storage/research_data/sommer2020cadr/maci-docker-compose/maci_data/binary_files/24/ids/955\n",
      "Parsing configuarion 1000000, 100, cadr_spray in /storage/research_data/sommer2020cadr/maci-docker-compose/maci_data/binary_files/24/ids/1008\n",
      "Parsing configuarion 1000, 50, epidemic in /storage/research_data/sommer2020cadr/maci-docker-compose/maci_data/binary_files/24/ids/1091\n",
      "Parsing configuarion 1000, 50, dtlsr in /storage/research_data/sommer2020cadr/maci-docker-compose/maci_data/binary_files/24/ids/1153\n",
      "Parsing configuarion 1000000, 50, cadr_epidemic in /storage/research_data/sommer2020cadr/maci-docker-compose/maci_data/binary_files/24/ids/897\n",
      "Parsing configuarion 1000000, 10, cadr_epidemic in /storage/research_data/sommer2020cadr/maci-docker-compose/maci_data/binary_files/24/ids/903\n",
      "Parsing configuarion 1000000, 10, cadr_responders in /storage/research_data/sommer2020cadr/maci-docker-compose/maci_data/binary_files/24/ids/974\n",
      "Parsing configuarion 1000, 50, dtlsr in /storage/research_data/sommer2020cadr/maci-docker-compose/maci_data/binary_files/24/ids/1159\n",
      "Parsing configuarion 1000, 10, cadr_responders in /storage/research_data/sommer2020cadr/maci-docker-compose/maci_data/binary_files/24/ids/1023\n",
      "Parsing configuarion 1000, 10, binary_spray in /storage/research_data/sommer2020cadr/maci-docker-compose/maci_data/binary_files/24/ids/1054\n",
      "Parsing configuarion 1000, 10, cadr_spray in /storage/research_data/sommer2020cadr/maci-docker-compose/maci_data/binary_files/24/ids/909\n",
      "Parsing configuarion 1000, 100, cadr_epidemic in /storage/research_data/sommer2020cadr/maci-docker-compose/maci_data/binary_files/24/ids/946\n",
      "Parsing configuarion 1000000, 50, epidemic in /storage/research_data/sommer2020cadr/maci-docker-compose/maci_data/binary_files/24/ids/1116\n",
      "Parsing configuarion 1000000, 100, prophet in /storage/research_data/sommer2020cadr/maci-docker-compose/maci_data/binary_files/24/ids/1161\n",
      "Parsing configuarion 1000, 100, epidemic in /storage/research_data/sommer2020cadr/maci-docker-compose/maci_data/binary_files/24/ids/1088\n",
      "Parsing configuarion 1000000, 100, binary_spray in /storage/research_data/sommer2020cadr/maci-docker-compose/maci_data/binary_files/24/ids/1066\n",
      "Parsing configuarion 1000000, 50, cadr_spray in /storage/research_data/sommer2020cadr/maci-docker-compose/maci_data/binary_files/24/ids/1011\n",
      "Parsing configuarion 1000000, 50, prophet in /storage/research_data/sommer2020cadr/maci-docker-compose/maci_data/binary_files/24/ids/1185\n",
      "Parsing configuarion 1000000, 100, dtlsr in /storage/research_data/sommer2020cadr/maci-docker-compose/maci_data/binary_files/24/ids/936\n",
      "Parsing configuarion 1000000, 50, dtlsr in /storage/research_data/sommer2020cadr/maci-docker-compose/maci_data/binary_files/24/ids/941\n",
      "Parsing configuarion 1000000, 10, prophet in /storage/research_data/sommer2020cadr/maci-docker-compose/maci_data/binary_files/24/ids/1188\n",
      "Parsing configuarion 1000, 10, prophet in /storage/research_data/sommer2020cadr/maci-docker-compose/maci_data/binary_files/24/ids/1166\n",
      "Parsing configuarion 1000000, 10, epidemic in /storage/research_data/sommer2020cadr/maci-docker-compose/maci_data/binary_files/24/ids/1085\n",
      "Parsing configuarion 1000000, 50, prophet in /storage/research_data/sommer2020cadr/maci-docker-compose/maci_data/binary_files/24/ids/1182\n",
      "Parsing configuarion 1000000, 10, cadr_spray in /storage/research_data/sommer2020cadr/maci-docker-compose/maci_data/binary_files/24/ids/1016\n",
      "Parsing configuarion 1000, 100, binary_spray in /storage/research_data/sommer2020cadr/maci-docker-compose/maci_data/binary_files/24/ids/1061\n",
      "Parsing configuarion 1000, 50, dtlsr in /storage/research_data/sommer2020cadr/maci-docker-compose/maci_data/binary_files/24/ids/1154\n",
      "Parsing configuarion 1000000, 50, cadr_responders in /storage/research_data/sommer2020cadr/maci-docker-compose/maci_data/binary_files/24/ids/973\n",
      "Parsing configuarion 1000000, 100, cadr_epidemic in /storage/research_data/sommer2020cadr/maci-docker-compose/maci_data/binary_files/24/ids/890\n",
      "Parsing configuarion 1000, 10, binary_spray in /storage/research_data/sommer2020cadr/maci-docker-compose/maci_data/binary_files/24/ids/1053\n",
      "Parsing configuarion 1000000, 100, cadr_spray in /storage/research_data/sommer2020cadr/maci-docker-compose/maci_data/binary_files/24/ids/1024\n",
      "Parsing configuarion 1000, 50, cadr_responders in /storage/research_data/sommer2020cadr/maci-docker-compose/maci_data/binary_files/24/ids/979\n",
      "Parsing configuarion 1000, 10, cadr_epidemic in /storage/research_data/sommer2020cadr/maci-docker-compose/maci_data/binary_files/24/ids/958\n",
      "Parsing configuarion 1000, 100, prophet in /storage/research_data/sommer2020cadr/maci-docker-compose/maci_data/binary_files/24/ids/1191\n",
      "Parsing configuarion 1000, 10, cadr_responders in /storage/research_data/sommer2020cadr/maci-docker-compose/maci_data/binary_files/24/ids/1005\n",
      "Parsing configuarion 1000, 100, cadr_epidemic in /storage/research_data/sommer2020cadr/maci-docker-compose/maci_data/binary_files/24/ids/925\n",
      "Parsing configuarion 1000, 50, cadr_epidemic in /storage/research_data/sommer2020cadr/maci-docker-compose/maci_data/binary_files/24/ids/952\n",
      "Parsing configuarion 1000000, 10, epidemic in /storage/research_data/sommer2020cadr/maci-docker-compose/maci_data/binary_files/24/ids/1102\n",
      "Parsing configuarion 1000, 10, epidemic in /storage/research_data/sommer2020cadr/maci-docker-compose/maci_data/binary_files/24/ids/1096\n",
      "Parsing configuarion 1000000, 10, binary_spray in /storage/research_data/sommer2020cadr/maci-docker-compose/maci_data/binary_files/24/ids/1078\n",
      "Parsing configuarion 1000000, 100, cadr_epidemic in /storage/research_data/sommer2020cadr/maci-docker-compose/maci_data/binary_files/24/ids/889\n",
      "Parsing configuarion 1000000, 50, cadr_responders in /storage/research_data/sommer2020cadr/maci-docker-compose/maci_data/binary_files/24/ids/984\n",
      "Parsing configuarion 1000, 100, dtlsr in /storage/research_data/sommer2020cadr/maci-docker-compose/maci_data/binary_files/24/ids/1147\n",
      "Parsing configuarion 1000, 50, cadr_spray in /storage/research_data/sommer2020cadr/maci-docker-compose/maci_data/binary_files/24/ids/964\n",
      "Parsing configuarion 1000000, 10, dtlsr in /storage/research_data/sommer2020cadr/maci-docker-compose/maci_data/binary_files/24/ids/1143\n",
      "Parsing configuarion 1000, 50, cadr_responders in /storage/research_data/sommer2020cadr/maci-docker-compose/maci_data/binary_files/24/ids/980\n",
      "Parsing configuarion 1000000, 50, dtlsr in /storage/research_data/sommer2020cadr/maci-docker-compose/maci_data/binary_files/24/ids/1044\n",
      "Parsing configuarion 1000, 100, dtlsr in /storage/research_data/sommer2020cadr/maci-docker-compose/maci_data/binary_files/24/ids/1149\n",
      "Parsing configuarion 1000, 50, epidemic in /storage/research_data/sommer2020cadr/maci-docker-compose/maci_data/binary_files/24/ids/1092\n",
      "Parsing configuarion 1000, 10, cadr_epidemic in /storage/research_data/sommer2020cadr/maci-docker-compose/maci_data/binary_files/24/ids/956\n",
      "Parsing configuarion 1000000, 100, cadr_responders in /storage/research_data/sommer2020cadr/maci-docker-compose/maci_data/binary_files/24/ids/1001\n",
      "Parsing configuarion 1000, 100, prophet in /storage/research_data/sommer2020cadr/maci-docker-compose/maci_data/binary_files/24/ids/1195\n",
      "Parsing configuarion 1000000, 10, binary_spray in /storage/research_data/sommer2020cadr/maci-docker-compose/maci_data/binary_files/24/ids/1076\n",
      "Parsing configuarion 1000, 10, epidemic in /storage/research_data/sommer2020cadr/maci-docker-compose/maci_data/binary_files/24/ids/1098\n",
      "Parsing configuarion 1000000, 100, cadr_responders in /storage/research_data/sommer2020cadr/maci-docker-compose/maci_data/binary_files/24/ids/993\n",
      "Parsing configuarion 1000, 100, cadr_spray in /storage/research_data/sommer2020cadr/maci-docker-compose/maci_data/binary_files/24/ids/1020\n",
      "Parsing configuarion 1000, 100, cadr_responders in /storage/research_data/sommer2020cadr/maci-docker-compose/maci_data/binary_files/24/ids/977\n",
      "Parsing configuarion 1000000, 100, cadr_epidemic in /storage/research_data/sommer2020cadr/maci-docker-compose/maci_data/binary_files/24/ids/894\n",
      "Parsing configuarion 1000000, 10, cadr_epidemic in /storage/research_data/sommer2020cadr/maci-docker-compose/maci_data/binary_files/24/ids/900\n",
      "Parsing configuarion 1000000, 100, cadr_responders in /storage/research_data/sommer2020cadr/maci-docker-compose/maci_data/binary_files/24/ids/999\n",
      "Parsing configuarion 1000000, 100, prophet in /storage/research_data/sommer2020cadr/maci-docker-compose/maci_data/binary_files/24/ids/1150\n",
      "Parsing configuarion 1000000, 50, cadr_spray in /storage/research_data/sommer2020cadr/maci-docker-compose/maci_data/binary_files/24/ids/1012\n",
      "Parsing configuarion 1000000, 10, prophet in /storage/research_data/sommer2020cadr/maci-docker-compose/maci_data/binary_files/24/ids/1186\n",
      "Parsing configuarion 1000000, 10, dtlsr in /storage/research_data/sommer2020cadr/maci-docker-compose/maci_data/binary_files/24/ids/1065\n",
      "Parsing configuarion 1000000, 100, dtlsr in /storage/research_data/sommer2020cadr/maci-docker-compose/maci_data/binary_files/24/ids/938\n",
      "Parsing configuarion 1000000, 50, prophet in /storage/research_data/sommer2020cadr/maci-docker-compose/maci_data/binary_files/24/ids/1162\n",
      "Parsing configuarion 1000000, 50, binary_spray in /storage/research_data/sommer2020cadr/maci-docker-compose/maci_data/binary_files/24/ids/1081\n",
      "Parsing configuarion 1000000, 50, epidemic in /storage/research_data/sommer2020cadr/maci-docker-compose/maci_data/binary_files/24/ids/1115\n",
      "Parsing configuarion 1000000, 10, cadr_spray in /storage/research_data/sommer2020cadr/maci-docker-compose/maci_data/binary_files/24/ids/1018\n",
      "Parsing configuarion 1000, 100, binary_spray in /storage/research_data/sommer2020cadr/maci-docker-compose/maci_data/binary_files/24/ids/1062\n",
      "Parsing configuarion 1000, 50, prophet in /storage/research_data/sommer2020cadr/maci-docker-compose/maci_data/binary_files/24/ids/1181\n",
      "Parsing configuarion 1000000, 10, cadr_spray in /storage/research_data/sommer2020cadr/maci-docker-compose/maci_data/binary_files/24/ids/1015\n",
      "Parsing configuarion 1000000, 50, epidemic in /storage/research_data/sommer2020cadr/maci-docker-compose/maci_data/binary_files/24/ids/1118\n",
      "Parsing configuarion 1000, 100, cadr_epidemic in /storage/research_data/sommer2020cadr/maci-docker-compose/maci_data/binary_files/24/ids/948\n",
      "Parsing configuarion 1000000, 100, binary_spray in /storage/research_data/sommer2020cadr/maci-docker-compose/maci_data/binary_files/24/ids/1068\n",
      "Parsing configuarion 1000000, 100, epidemic in /storage/research_data/sommer2020cadr/maci-docker-compose/maci_data/binary_files/24/ids/1112\n",
      "Parsing configuarion 1000, 100, epidemic in /storage/research_data/sommer2020cadr/maci-docker-compose/maci_data/binary_files/24/ids/1086\n",
      "Parsing configuarion 1000, 10, prophet in /storage/research_data/sommer2020cadr/maci-docker-compose/maci_data/binary_files/24/ids/1165\n",
      "Parsing configuarion 1000000, 100, dtlsr in /storage/research_data/sommer2020cadr/maci-docker-compose/maci_data/binary_files/24/ids/942\n",
      "Parsing configuarion 1000000, 100, dtlsr in /storage/research_data/sommer2020cadr/maci-docker-compose/maci_data/binary_files/24/ids/935\n",
      "Parsing configuarion 1000000, 10, cadr_epidemic in /storage/research_data/sommer2020cadr/maci-docker-compose/maci_data/binary_files/24/ids/899\n",
      "Parsing configuarion 1000, 10, cadr_responders in /storage/research_data/sommer2020cadr/maci-docker-compose/maci_data/binary_files/24/ids/1027\n",
      "Parsing configuarion 1000, 50, binary_spray in /storage/research_data/sommer2020cadr/maci-docker-compose/maci_data/binary_files/24/ids/1050\n",
      "Parsing configuarion 1000, 50, cadr_spray in /storage/research_data/sommer2020cadr/maci-docker-compose/maci_data/binary_files/24/ids/907\n",
      "Parsing configuarion 1000000, 10, cadr_responders in /storage/research_data/sommer2020cadr/maci-docker-compose/maci_data/binary_files/24/ids/970\n",
      "Parsing configuarion 1000, 10, dtlsr in /storage/research_data/sommer2020cadr/maci-docker-compose/maci_data/binary_files/24/ids/1157\n",
      "Parsing configuarion 1000000, 100, epidemic in /storage/research_data/sommer2020cadr/maci-docker-compose/maci_data/binary_files/24/ids/1120\n",
      "Parsing configuarion 1000000, 10, epidemic in /storage/research_data/sommer2020cadr/maci-docker-compose/maci_data/binary_files/24/ids/1101\n",
      "Parsing configuarion 1000, 50, epidemic in /storage/research_data/sommer2020cadr/maci-docker-compose/maci_data/binary_files/24/ids/1095\n",
      "Parsing configuarion 1000000, 10, prophet in /storage/research_data/sommer2020cadr/maci-docker-compose/maci_data/binary_files/24/ids/1198\n",
      "Parsing configuarion 1000, 50, cadr_epidemic in /storage/research_data/sommer2020cadr/maci-docker-compose/maci_data/binary_files/24/ids/951\n",
      "Parsing configuarion 1000000, 50, binary_spray in /storage/research_data/sommer2020cadr/maci-docker-compose/maci_data/binary_files/24/ids/1071\n",
      "Parsing configuarion 1000, 100, prophet in /storage/research_data/sommer2020cadr/maci-docker-compose/maci_data/binary_files/24/ids/1192\n",
      "Parsing configuarion 1000000, 100, cadr_spray in /storage/research_data/sommer2020cadr/maci-docker-compose/maci_data/binary_files/24/ids/1006\n",
      "Parsing configuarion 1000, 10, cadr_spray in /storage/research_data/sommer2020cadr/maci-docker-compose/maci_data/binary_files/24/ids/914\n",
      "Parsing configuarion 1000000, 50, dtlsr in /storage/research_data/sommer2020cadr/maci-docker-compose/maci_data/binary_files/24/ids/963\n",
      "Parsing configuarion 1000000, 10, dtlsr in /storage/research_data/sommer2020cadr/maci-docker-compose/maci_data/binary_files/24/ids/1144\n",
      "Parsing configuarion 1000, 50, binary_spray in /storage/research_data/sommer2020cadr/maci-docker-compose/maci_data/binary_files/24/ids/1049\n",
      "Parsing configuarion 1000000, 10, cadr_responders in /storage/research_data/sommer2020cadr/maci-docker-compose/maci_data/binary_files/24/ids/969\n",
      "Parsing configuarion 1000000, 10, cadr_epidemic in /storage/research_data/sommer2020cadr/maci-docker-compose/maci_data/binary_files/24/ids/924\n",
      "Parsing configuarion 1000000, 10, epidemic in /storage/research_data/sommer2020cadr/maci-docker-compose/maci_data/binary_files/24/ids/1103\n",
      "Parsing configuarion 1000, 10, epidemic in /storage/research_data/sommer2020cadr/maci-docker-compose/maci_data/binary_files/24/ids/1097\n",
      "Parsing configuarion 1000000, 10, binary_spray in /storage/research_data/sommer2020cadr/maci-docker-compose/maci_data/binary_files/24/ids/1079\n",
      "Parsing configuarion 1000000, 50, binary_spray in /storage/research_data/sommer2020cadr/maci-docker-compose/maci_data/binary_files/24/ids/1073\n",
      "Parsing configuarion 1000000, 10, prophet in /storage/research_data/sommer2020cadr/maci-docker-compose/maci_data/binary_files/24/ids/1190\n",
      "Parsing configuarion 1000, 50, cadr_responders in /storage/research_data/sommer2020cadr/maci-docker-compose/maci_data/binary_files/24/ids/1004\n",
      "Parsing configuarion 1000, 100, dtlsr in /storage/research_data/sommer2020cadr/maci-docker-compose/maci_data/binary_files/24/ids/1146\n",
      "Parsing configuarion 1000000, 100, cadr_responders in /storage/research_data/sommer2020cadr/maci-docker-compose/maci_data/binary_files/24/ids/985\n",
      "Parsing configuarion 1000000, 50, prophet in /storage/research_data/sommer2020cadr/maci-docker-compose/maci_data/binary_files/24/ids/1183\n",
      "Parsing configuarion 1000000, 10, cadr_spray in /storage/research_data/sommer2020cadr/maci-docker-compose/maci_data/binary_files/24/ids/1017\n",
      "Parsing configuarion 1000000, 50, dtlsr in /storage/research_data/sommer2020cadr/maci-docker-compose/maci_data/binary_files/24/ids/940\n",
      "Parsing configuarion 1000000, 100, dtlsr in /storage/research_data/sommer2020cadr/maci-docker-compose/maci_data/binary_files/24/ids/937\n",
      "Parsing configuarion 1000000, 10, prophet in /storage/research_data/sommer2020cadr/maci-docker-compose/maci_data/binary_files/24/ids/1189\n",
      "Parsing configuarion 1000000, 100, epidemic in /storage/research_data/sommer2020cadr/maci-docker-compose/maci_data/binary_files/24/ids/1110\n",
      "Parsing configuarion 1000, 10, binary_spray in /storage/research_data/sommer2020cadr/maci-docker-compose/maci_data/binary_files/24/ids/1052\n",
      "Parsing configuarion 1000, 100, cadr_responders in /storage/research_data/sommer2020cadr/maci-docker-compose/maci_data/binary_files/24/ids/978\n",
      "Parsing configuarion 1000, 50, dtlsr in /storage/research_data/sommer2020cadr/maci-docker-compose/maci_data/binary_files/24/ids/1155\n",
      "Parsing configuarion 1000000, 100, binary_spray in /storage/research_data/sommer2020cadr/maci-docker-compose/maci_data/binary_files/24/ids/1122\n",
      "Parsing configuarion 1000000, 100, cadr_epidemic in /storage/research_data/sommer2020cadr/maci-docker-compose/maci_data/binary_files/24/ids/891\n",
      "Parsing configuarion 1000000, 10, cadr_responders in /storage/research_data/sommer2020cadr/maci-docker-compose/maci_data/binary_files/24/ids/972\n",
      "Parsing configuarion 1000, 10, dtlsr in /storage/research_data/sommer2020cadr/maci-docker-compose/maci_data/binary_files/24/ids/1158\n",
      "Parsing configuarion 1000, 10, binary_spray in /storage/research_data/sommer2020cadr/maci-docker-compose/maci_data/binary_files/24/ids/1055\n",
      "Parsing configuarion 1000000, 10, cadr_spray in /storage/research_data/sommer2020cadr/maci-docker-compose/maci_data/binary_files/24/ids/1022\n",
      "Parsing configuarion 1000, 50, cadr_spray in /storage/research_data/sommer2020cadr/maci-docker-compose/maci_data/binary_files/24/ids/908\n",
      "Parsing configuarion 1000, 50, dtlsr in /storage/research_data/sommer2020cadr/maci-docker-compose/maci_data/binary_files/24/ids/1152\n",
      "Parsing configuarion 1000, 10, cadr_responders in /storage/research_data/sommer2020cadr/maci-docker-compose/maci_data/binary_files/24/ids/1028\n",
      "Parsing configuarion 1000, 100, cadr_responders in /storage/research_data/sommer2020cadr/maci-docker-compose/maci_data/binary_files/24/ids/975\n",
      "Parsing configuarion 1000000, 50, cadr_epidemic in /storage/research_data/sommer2020cadr/maci-docker-compose/maci_data/binary_files/24/ids/896\n",
      "Parsing configuarion 1000000, 50, cadr_epidemic in /storage/research_data/sommer2020cadr/maci-docker-compose/maci_data/binary_files/24/ids/902\n",
      "Parsing configuarion 1000, 100, epidemic in /storage/research_data/sommer2020cadr/maci-docker-compose/maci_data/binary_files/24/ids/1089\n",
      "Parsing configuarion 1000000, 50, cadr_spray in /storage/research_data/sommer2020cadr/maci-docker-compose/maci_data/binary_files/24/ids/1010\n",
      "Parsing configuarion 1000000, 50, prophet in /storage/research_data/sommer2020cadr/maci-docker-compose/maci_data/binary_files/24/ids/1184\n",
      "Parsing configuarion 1000000, 100, binary_spray in /storage/research_data/sommer2020cadr/maci-docker-compose/maci_data/binary_files/24/ids/1067\n",
      "Parsing configuarion 1000, 100, cadr_epidemic in /storage/research_data/sommer2020cadr/maci-docker-compose/maci_data/binary_files/24/ids/947\n",
      "Parsing configuarion 1000000, 100, prophet in /storage/research_data/sommer2020cadr/maci-docker-compose/maci_data/binary_files/24/ids/1160\n",
      "Parsing configuarion 1000000, 50, epidemic in /storage/research_data/sommer2020cadr/maci-docker-compose/maci_data/binary_files/24/ids/1117\n",
      "Parsing configuarion 1000, 10, dtlsr in /storage/research_data/sommer2020cadr/maci-docker-compose/maci_data/binary_files/24/ids/1141\n",
      "Parsing configuarion 1000000, 50, cadr_responders in /storage/research_data/sommer2020cadr/maci-docker-compose/maci_data/binary_files/24/ids/966\n",
      "Parsing configuarion 1000, 10, epidemic in /storage/research_data/sommer2020cadr/maci-docker-compose/maci_data/binary_files/24/ids/885\n",
      "Parsing configuarion 1000, 10, cadr_spray in /storage/research_data/sommer2020cadr/maci-docker-compose/maci_data/binary_files/24/ids/911\n",
      "Parsing configuarion 1000, 50, binary_spray in /storage/research_data/sommer2020cadr/maci-docker-compose/maci_data/binary_files/24/ids/1046\n",
      "Parsing configuarion 1000, 100, cadr_responders in /storage/research_data/sommer2020cadr/maci-docker-compose/maci_data/binary_files/24/ids/982\n",
      "Parsing configuarion 1000, 50, cadr_spray in /storage/research_data/sommer2020cadr/maci-docker-compose/maci_data/binary_files/24/ids/923\n",
      "Parsing configuarion 1000, 50, cadr_epidemic in /storage/research_data/sommer2020cadr/maci-docker-compose/maci_data/binary_files/24/ids/954\n",
      "Parsing configuarion 1000000, 50, cadr_spray in /storage/research_data/sommer2020cadr/maci-docker-compose/maci_data/binary_files/24/ids/1009\n",
      "Parsing configuarion 1000, 100, epidemic in /storage/research_data/sommer2020cadr/maci-docker-compose/maci_data/binary_files/24/ids/1090\n",
      "Parsing configuarion 1000, 100, cadr_spray in /storage/research_data/sommer2020cadr/maci-docker-compose/maci_data/binary_files/24/ids/1003\n",
      "Parsing configuarion 1000, 50, prophet in /storage/research_data/sommer2020cadr/maci-docker-compose/maci_data/binary_files/24/ids/1197\n",
      "Parsing configuarion 1000000, 50, binary_spray in /storage/research_data/sommer2020cadr/maci-docker-compose/maci_data/binary_files/24/ids/1074\n",
      "Parsing configuarion 1000, 50, prophet in /storage/research_data/sommer2020cadr/maci-docker-compose/maci_data/binary_files/24/ids/1179\n",
      "Parsing configuarion 1000, 100, prophet in /storage/research_data/sommer2020cadr/maci-docker-compose/maci_data/binary_files/24/ids/1193\n",
      "Parsing configuarion 1000000, 100, cadr_spray in /storage/research_data/sommer2020cadr/maci-docker-compose/maci_data/binary_files/24/ids/1007\n",
      "Parsing configuarion 1000000, 50, binary_spray in /storage/research_data/sommer2020cadr/maci-docker-compose/maci_data/binary_files/24/ids/1070\n",
      "Parsing configuarion 1000000, 10, epidemic in /storage/research_data/sommer2020cadr/maci-docker-compose/maci_data/binary_files/24/ids/1100\n",
      "Parsing configuarion 1000, 50, epidemic in /storage/research_data/sommer2020cadr/maci-docker-compose/maci_data/binary_files/24/ids/1094\n",
      "Parsing configuarion 1000, 50, cadr_epidemic in /storage/research_data/sommer2020cadr/maci-docker-compose/maci_data/binary_files/24/ids/950\n",
      "Parsing configuarion 1000000, 50, cadr_responders in /storage/research_data/sommer2020cadr/maci-docker-compose/maci_data/binary_files/24/ids/968\n",
      "Parsing configuarion 1000, 10, cadr_epidemic in /storage/research_data/sommer2020cadr/maci-docker-compose/maci_data/binary_files/24/ids/962\n",
      "Parsing configuarion 1000000, 10, dtlsr in /storage/research_data/sommer2020cadr/maci-docker-compose/maci_data/binary_files/24/ids/1145\n",
      "Parsing configuarion 1000, 50, binary_spray in /storage/research_data/sommer2020cadr/maci-docker-compose/maci_data/binary_files/24/ids/1048\n",
      "Parsing configuarion 1000000, 100, binary_spray in /storage/research_data/sommer2020cadr/maci-docker-compose/maci_data/binary_files/24/ids/1069\n",
      "Parsing configuarion 1000, 10, prophet in /storage/research_data/sommer2020cadr/maci-docker-compose/maci_data/binary_files/24/ids/1164\n",
      "Parsing configuarion 1000000, 100, epidemic in /storage/research_data/sommer2020cadr/maci-docker-compose/maci_data/binary_files/24/ids/1113\n",
      "Parsing configuarion 1000, 100, epidemic in /storage/research_data/sommer2020cadr/maci-docker-compose/maci_data/binary_files/24/ids/1087\n",
      "Parsing configuarion 1000, 100, cadr_epidemic in /storage/research_data/sommer2020cadr/maci-docker-compose/maci_data/binary_files/24/ids/943\n",
      "Parsing configuarion 1000, 10, prophet in /storage/research_data/sommer2020cadr/maci-docker-compose/maci_data/binary_files/24/ids/1180\n",
      "Parsing configuarion 1000000, 50, cadr_spray in /storage/research_data/sommer2020cadr/maci-docker-compose/maci_data/binary_files/24/ids/1014\n",
      "Parsing configuarion 1000, 100, binary_spray in /storage/research_data/sommer2020cadr/maci-docker-compose/maci_data/binary_files/24/ids/1063\n",
      "Parsing configuarion 1000000, 50, epidemic in /storage/research_data/sommer2020cadr/maci-docker-compose/maci_data/binary_files/24/ids/1119\n",
      "Parsing configuarion 1000, 50, cadr_epidemic in /storage/research_data/sommer2020cadr/maci-docker-compose/maci_data/binary_files/24/ids/949\n",
      "Parsing configuarion 1000000, 10, cadr_responders in /storage/research_data/sommer2020cadr/maci-docker-compose/maci_data/binary_files/24/ids/971\n",
      "Parsing configuarion 1000, 50, cadr_spray in /storage/research_data/sommer2020cadr/maci-docker-compose/maci_data/binary_files/24/ids/906\n",
      "Parsing configuarion 1000000, 100, cadr_epidemic in /storage/research_data/sommer2020cadr/maci-docker-compose/maci_data/binary_files/24/ids/892\n",
      "Parsing configuarion 1000, 10, dtlsr in /storage/research_data/sommer2020cadr/maci-docker-compose/maci_data/binary_files/24/ids/1156\n",
      "Parsing configuarion 1000000, 50, cadr_epidemic in /storage/research_data/sommer2020cadr/maci-docker-compose/maci_data/binary_files/24/ids/898\n",
      "Parsing configuarion 1000, 10, binary_spray in /storage/research_data/sommer2020cadr/maci-docker-compose/maci_data/binary_files/24/ids/1051\n",
      "Parsing configuarion 1000, 10, cadr_responders in /storage/research_data/sommer2020cadr/maci-docker-compose/maci_data/binary_files/24/ids/1026\n",
      "Parsing configuarion 1000000, 50, cadr_epidemic in /storage/research_data/sommer2020cadr/maci-docker-compose/maci_data/binary_files/24/ids/895\n",
      "Parsing configuarion 1000000, 10, cadr_epidemic in /storage/research_data/sommer2020cadr/maci-docker-compose/maci_data/binary_files/24/ids/901\n",
      "Parsing configuarion 1000, 100, cadr_responders in /storage/research_data/sommer2020cadr/maci-docker-compose/maci_data/binary_files/24/ids/976\n",
      "Parsing configuarion 1000, 100, dtlsr in /storage/research_data/sommer2020cadr/maci-docker-compose/maci_data/binary_files/24/ids/1151\n",
      "Parsing configuarion 1000, 100, cadr_spray in /storage/research_data/sommer2020cadr/maci-docker-compose/maci_data/binary_files/24/ids/1021\n",
      "Parsing configuarion 1000, 100, binary_spray in /storage/research_data/sommer2020cadr/maci-docker-compose/maci_data/binary_files/24/ids/1080\n",
      "Parsing configuarion 1000000, 100, epidemic in /storage/research_data/sommer2020cadr/maci-docker-compose/maci_data/binary_files/24/ids/1114\n",
      "Parsing configuarion 1000, 10, prophet in /storage/research_data/sommer2020cadr/maci-docker-compose/maci_data/binary_files/24/ids/1163\n",
      "Parsing configuarion 1000, 100, cadr_spray in /storage/research_data/sommer2020cadr/maci-docker-compose/maci_data/binary_files/24/ids/1019\n",
      "Parsing configuarion 1000, 100, binary_spray in /storage/research_data/sommer2020cadr/maci-docker-compose/maci_data/binary_files/24/ids/1064\n",
      "Parsing configuarion 1000000, 100, cadr_spray in /storage/research_data/sommer2020cadr/maci-docker-compose/maci_data/binary_files/24/ids/1013\n",
      "Parsing configuarion 1000, 50, prophet in /storage/research_data/sommer2020cadr/maci-docker-compose/maci_data/binary_files/24/ids/1187\n",
      "Parsing configuarion 1000000, 50, dtlsr in /storage/research_data/sommer2020cadr/maci-docker-compose/maci_data/binary_files/24/ids/939\n",
      "Parsing configuarion 1000, 50, cadr_responders in /storage/research_data/sommer2020cadr/maci-docker-compose/maci_data/binary_files/24/ids/981\n",
      "Parsing configuarion 1000000, 10, dtlsr in /storage/research_data/sommer2020cadr/maci-docker-compose/maci_data/binary_files/24/ids/1045\n",
      "Parsing configuarion 1000, 100, dtlsr in /storage/research_data/sommer2020cadr/maci-docker-compose/maci_data/binary_files/24/ids/1148\n",
      "Parsing configuarion 1000, 10, cadr_spray in /storage/research_data/sommer2020cadr/maci-docker-compose/maci_data/binary_files/24/ids/912\n",
      "Parsing configuarion 1000, 100, cadr_spray in /storage/research_data/sommer2020cadr/maci-docker-compose/maci_data/binary_files/24/ids/965\n",
      "Parsing configuarion 1000, 10, dtlsr in /storage/research_data/sommer2020cadr/maci-docker-compose/maci_data/binary_files/24/ids/1142\n",
      "Parsing configuarion 1000000, 10, binary_spray in /storage/research_data/sommer2020cadr/maci-docker-compose/maci_data/binary_files/24/ids/1077\n",
      "Parsing configuarion 1000000, 100, cadr_responders in /storage/research_data/sommer2020cadr/maci-docker-compose/maci_data/binary_files/24/ids/1000\n",
      "Parsing configuarion 1000, 100, prophet in /storage/research_data/sommer2020cadr/maci-docker-compose/maci_data/binary_files/24/ids/1194\n",
      "Parsing configuarion 1000, 10, epidemic in /storage/research_data/sommer2020cadr/maci-docker-compose/maci_data/binary_files/24/ids/1099\n",
      "Parsing configuarion 1000, 50, epidemic in /storage/research_data/sommer2020cadr/maci-docker-compose/maci_data/binary_files/24/ids/1093\n",
      "Parsing configuarion 1000, 10, cadr_epidemic in /storage/research_data/sommer2020cadr/maci-docker-compose/maci_data/binary_files/24/ids/957\n"
     ]
    }
   ],
   "source": [
    "procmem_df = parse_pidstat(experiment_path)"
   ]
  },
  {
   "cell_type": "code",
   "execution_count": 202,
   "metadata": {},
   "outputs": [],
   "source": [
    "merged = procmem_df.merge(network_df, left_index=True, right_index=True).reset_index()"
   ]
  },
  {
   "cell_type": "code",
   "execution_count": 210,
   "metadata": {},
   "outputs": [
    {
     "name": "stderr",
     "output_type": "stream",
     "text": [
      "<ipython-input-210-aaebf3ea4aa5>:3: SettingWithCopyWarning:\n",
      "\n",
      "\n",
      "A value is trying to be set on a copy of a slice from a DataFrame.\n",
      "Try using .loc[row_indexer,col_indexer] = value instead\n",
      "\n",
      "See the caveats in the documentation: https://pandas.pydata.org/pandas-docs/stable/user_guide/indexing.html#returning-a-view-versus-a-copy\n",
      "\n",
      "<ipython-input-210-aaebf3ea4aa5>:5: SettingWithCopyWarning:\n",
      "\n",
      "\n",
      "A value is trying to be set on a copy of a slice from a DataFrame.\n",
      "Try using .loc[row_indexer,col_indexer] = value instead\n",
      "\n",
      "See the caveats in the documentation: https://pandas.pydata.org/pandas-docs/stable/user_guide/indexing.html#returning-a-view-versus-a-copy\n",
      "\n"
     ]
    }
   ],
   "source": [
    "cleared = merged[merged[\"routing\"].isin([\"epidemic\", \"cadr_epidemic\", \"cadr_responders\"])]\n",
    "cleared.replace(name_replacement, inplace=True)\n",
    "cleared['%CPU'] = cleared['%CPU'] / 31\n",
    "\n",
    "cleared[\"dt\"] = pd.to_timedelta(cleared[\"dt\"], unit=\"S\")\n",
    "cleared.set_index(\"dt\", inplace=True)\n",
    "cleared_mean = cleared.groupby([\"routing\"]).resample(\"1T\").mean()\n",
    "cleared_std = cleared.groupby([\"routing\"]).resample(\"1T\").agg(mean_confidence_interval)\n",
    "\n",
    "#cleared.sort_values(\"dt\", inplace=True)\n",
    "cleared_mean = cleared_mean.reset_index()\n",
    "#cleared_std = cleared_std.reset_index()"
   ]
  },
  {
   "cell_type": "code",
   "execution_count": 215,
   "metadata": {},
   "outputs": [
    {
     "data": {
      "application/vnd.plotly.v1+json": {
       "config": {
        "plotlyServerURL": "https://plot.ly"
       },
       "data": [
        {
         "fill": "toself",
         "fillcolor": "rgba(99,110,250,.3)",
         "hoverinfo": "skip",
         "legendgroup": "Epidemic",
         "line": {
          "color": "rgba(255,255,255,0)"
         },
         "showlegend": false,
         "type": "scatter",
         "x": [
          0,
          0.01666666666666667,
          0.03333333333333334,
          0.05,
          0.06666666666666668,
          0.08333333333333333,
          0.1,
          0.11666666666666667,
          0.13333333333333336,
          0.15,
          0.16666666666666666,
          0.18333333333333332,
          0.2,
          0.21666666666666667,
          0.23333333333333334,
          0.25,
          0.2666666666666667,
          0.2833333333333334,
          0.3,
          0.31666666666666665,
          0.3333333333333333,
          0.35,
          0.36666666666666664,
          0.38333333333333336,
          0.4,
          0.4166666666666667,
          0.43333333333333335,
          0.45,
          0.4666666666666667,
          0.48333333333333334,
          0.5,
          0.5166666666666667,
          0.5333333333333334,
          0.55,
          0.5666666666666668,
          0.5833333333333334,
          0.6,
          0.6166666666666667,
          0.6333333333333333,
          0.65,
          0.6666666666666666,
          0.6833333333333333,
          0.7,
          0.7166666666666667,
          0.7333333333333333,
          0.75,
          0.7666666666666667,
          0.7833333333333333,
          0.8,
          0.8166666666666667,
          0.8333333333333334,
          0.85,
          0.8666666666666667,
          0.8833333333333333,
          0.9,
          0.9166666666666666,
          0.9333333333333333,
          0.95,
          0.9666666666666667,
          0.9833333333333333,
          1,
          1.0166666666666668,
          1.0333333333333334,
          1.0333333333333334,
          1.0166666666666668,
          1,
          0.9833333333333333,
          0.9666666666666667,
          0.95,
          0.9333333333333333,
          0.9166666666666666,
          0.9,
          0.8833333333333333,
          0.8666666666666667,
          0.85,
          0.8333333333333334,
          0.8166666666666667,
          0.8,
          0.7833333333333333,
          0.7666666666666667,
          0.75,
          0.7333333333333333,
          0.7166666666666667,
          0.7,
          0.6833333333333333,
          0.6666666666666666,
          0.65,
          0.6333333333333333,
          0.6166666666666667,
          0.6,
          0.5833333333333334,
          0.5666666666666668,
          0.55,
          0.5333333333333334,
          0.5166666666666667,
          0.5,
          0.48333333333333334,
          0.4666666666666667,
          0.45,
          0.43333333333333335,
          0.4166666666666667,
          0.4,
          0.38333333333333336,
          0.36666666666666664,
          0.35,
          0.3333333333333333,
          0.31666666666666665,
          0.3,
          0.2833333333333334,
          0.2666666666666667,
          0.25,
          0.23333333333333334,
          0.21666666666666667,
          0.2,
          0.18333333333333332,
          0.16666666666666666,
          0.15,
          0.13333333333333336,
          0.11666666666666667,
          0.1,
          0.08333333333333333,
          0.06666666666666668,
          0.05,
          0.03333333333333334,
          0.01666666666666667,
          0
         ],
         "xaxis": "x",
         "y": [
          1.8523167141853305,
          4.998471922119816,
          5.654652862384488,
          5.8972034250849195,
          5.857989569335446,
          5.527403547469481,
          5.611790113397288,
          5.717698066773309,
          5.850818711044875,
          5.923631518389586,
          6.329648707274478,
          6.64697625164723,
          6.81687029400172,
          7.292892158476506,
          7.9353505229695145,
          8.242964203013806,
          8.45986118895184,
          8.757975495560299,
          9.743947869712859,
          10.210666586641459,
          10.54420896847513,
          10.94407275695348,
          11.193032214319414,
          12.719723322867985,
          12.934225969135559,
          12.898614166821199,
          13.71120807977917,
          14.254521677478484,
          13.933850869887468,
          15.135891819772494,
          15.639677514451455,
          15.682139369356545,
          16.64838693345534,
          17.367772923312145,
          18.158094357159836,
          18.41142269636922,
          19.380747038039285,
          20.787073059961145,
          20.589121580716032,
          22.117516919021035,
          22.034231043647146,
          22.95743114816411,
          23.731507119583217,
          24.20442468948403,
          24.767311684764667,
          25.63216903069015,
          27.10150544953847,
          28.61333899299201,
          29.29651459821906,
          29.897910158656646,
          30.520502721995264,
          31.40160566013016,
          31.18250846328826,
          33.1448792878748,
          33.324641148540714,
          34.2239265312311,
          33.83002878727132,
          35.23236597768552,
          33.640628084995086,
          34.01666143089825,
          39.0623135013077,
          29.24537617202756,
          6.623953160705682,
          2.174326409186792,
          24.445883590281436,
          34.25852912635327,
          29.828867959782748,
          29.58392352790814,
          30.86544262446502,
          29.572539313087105,
          29.971441927550263,
          29.09517426364567,
          29.000256912842048,
          27.30247254029597,
          27.40970294202038,
          26.75418939270007,
          26.142400952454462,
          25.650882892820373,
          25.0232950571872,
          23.692109962647905,
          22.471369320564328,
          21.784549247134972,
          21.311945561412024,
          20.889901124144384,
          20.246922973699693,
          19.502719852410202,
          19.525044371301547,
          18.17770709311909,
          18.40787496871269,
          17.148370524684726,
          16.316281604706052,
          16.06929058907672,
          15.431594460200401,
          14.818683675863658,
          13.96855131164704,
          13.933783775871126,
          13.491695635424636,
          12.40229536667167,
          12.755115240084239,
          12.294521669324771,
          11.565240313465539,
          11.63069266885727,
          11.447020046307642,
          10.08982835915729,
          9.902429035161214,
          9.530206085288311,
          9.238818001172163,
          8.833911628495027,
          7.96685604565834,
          7.7142312841664396,
          7.507546549674365,
          7.245431197460594,
          6.669686336147149,
          6.255310709582511,
          6.13052016412338,
          5.855839823191474,
          5.496007549710773,
          5.449061934116415,
          5.343813044337804,
          5.276003793412749,
          5.201312939985717,
          5.5271871331735145,
          5.561961091044113,
          5.3243127290133625,
          4.670427002611368,
          1.6541797015852788
         ],
         "yaxis": "y"
        },
        {
         "hovertemplate": "Routing=Epidemic<br>Time (h)=%{x}<br>CPU (%)=%{y}<extra></extra>",
         "legendgroup": "Epidemic",
         "line": {
          "color": "#636EFA",
          "dash": "solid"
         },
         "marker": {
          "symbol": "circle"
         },
         "mode": "lines",
         "name": "Epidemic",
         "orientation": "v",
         "showlegend": true,
         "type": "scatter",
         "x": [
          0,
          0.01666666666666667,
          0.03333333333333334,
          0.05,
          0.06666666666666668,
          0.08333333333333333,
          0.1,
          0.11666666666666667,
          0.13333333333333336,
          0.15,
          0.16666666666666666,
          0.18333333333333332,
          0.2,
          0.21666666666666667,
          0.23333333333333334,
          0.25,
          0.2666666666666667,
          0.2833333333333334,
          0.3,
          0.31666666666666665,
          0.3333333333333333,
          0.35,
          0.36666666666666664,
          0.38333333333333336,
          0.4,
          0.4166666666666667,
          0.43333333333333335,
          0.45,
          0.4666666666666667,
          0.48333333333333334,
          0.5,
          0.5166666666666667,
          0.5333333333333334,
          0.55,
          0.5666666666666668,
          0.5833333333333334,
          0.6,
          0.6166666666666667,
          0.6333333333333333,
          0.65,
          0.6666666666666666,
          0.6833333333333333,
          0.7,
          0.7166666666666667,
          0.7333333333333333,
          0.75,
          0.7666666666666667,
          0.7833333333333333,
          0.8,
          0.8166666666666667,
          0.8333333333333334,
          0.85,
          0.8666666666666667,
          0.8833333333333333,
          0.9,
          0.9166666666666666,
          0.9333333333333333,
          0.95,
          0.9666666666666667,
          0.9833333333333333,
          1,
          1.0166666666666668,
          1.0333333333333334
         ],
         "xaxis": "x",
         "y": [
          1.7532482078853047,
          4.834449462365592,
          5.489482795698925,
          5.729582258064516,
          5.69258835125448,
          5.364358243727599,
          5.443896953405019,
          5.530755555555556,
          5.649940322580645,
          5.70981953405018,
          6.092744265232976,
          6.388748207885305,
          6.536090501792115,
          6.981289247311827,
          7.590390860215054,
          7.875255376344086,
          8.08704623655914,
          8.362415770609319,
          9.288929749103943,
          9.72474229390681,
          10.037207526881721,
          10.423250896057347,
          10.641430286738352,
          12.083371684587814,
          12.282459318996414,
          12.231927240143369,
          13.002864874551971,
          13.504818458781362,
          13.168073118279569,
          14.313793727598565,
          14.78673064516129,
          14.825345340501793,
          15.733535304659497,
          16.399683691756273,
          17.113692473118277,
          17.363852150537635,
          18.264558781362005,
          19.597474014336917,
          19.38341433691756,
          20.82128064516129,
          20.768475448028674,
          21.6021770609319,
          22.3107041218638,
          22.758185125448026,
          23.27593046594982,
          24.05176917562724,
          25.39680770609319,
          26.818317025089605,
          27.473698745519716,
          28.020155555555554,
          28.637346057347667,
          29.40565430107527,
          29.242490501792116,
          31.072568100358424,
          31.20990770609319,
          32.09768422939068,
          31.70128405017921,
          33.04890430107527,
          31.612275806451613,
          31.9227646953405,
          36.66042131383048,
          26.845629881154498,
          4.399139784946237
         ],
         "yaxis": "y"
        },
        {
         "fill": "toself",
         "fillcolor": "rgba(239,85,59,.3)",
         "hoverinfo": "skip",
         "legendgroup": "ProgDTN Epidemic",
         "line": {
          "color": "rgba(255,255,255,0)"
         },
         "showlegend": false,
         "type": "scatter",
         "x": [
          0,
          0.01666666666666667,
          0.03333333333333334,
          0.05,
          0.06666666666666668,
          0.08333333333333333,
          0.1,
          0.11666666666666667,
          0.13333333333333336,
          0.15,
          0.16666666666666666,
          0.18333333333333332,
          0.2,
          0.21666666666666667,
          0.23333333333333334,
          0.25,
          0.2666666666666667,
          0.2833333333333334,
          0.3,
          0.31666666666666665,
          0.3333333333333333,
          0.35,
          0.36666666666666664,
          0.38333333333333336,
          0.4,
          0.4166666666666667,
          0.43333333333333335,
          0.45,
          0.4666666666666667,
          0.48333333333333334,
          0.5,
          0.5166666666666667,
          0.5333333333333334,
          0.55,
          0.5666666666666668,
          0.5833333333333334,
          0.6,
          0.6166666666666667,
          0.6333333333333333,
          0.65,
          0.6666666666666666,
          0.6833333333333333,
          0.7,
          0.7166666666666667,
          0.7333333333333333,
          0.75,
          0.7666666666666667,
          0.7833333333333333,
          0.8,
          0.8166666666666667,
          0.8333333333333334,
          0.85,
          0.8666666666666667,
          0.8833333333333333,
          0.9,
          0.9166666666666666,
          0.9333333333333333,
          0.95,
          0.9666666666666667,
          0.9833333333333333,
          1,
          1.0166666666666668,
          1.0333333333333334,
          1.05,
          1.0666666666666669,
          1.0666666666666669,
          1.05,
          1.0333333333333334,
          1.0166666666666668,
          1,
          0.9833333333333333,
          0.9666666666666667,
          0.95,
          0.9333333333333333,
          0.9166666666666666,
          0.9,
          0.8833333333333333,
          0.8666666666666667,
          0.85,
          0.8333333333333334,
          0.8166666666666667,
          0.8,
          0.7833333333333333,
          0.7666666666666667,
          0.75,
          0.7333333333333333,
          0.7166666666666667,
          0.7,
          0.6833333333333333,
          0.6666666666666666,
          0.65,
          0.6333333333333333,
          0.6166666666666667,
          0.6,
          0.5833333333333334,
          0.5666666666666668,
          0.55,
          0.5333333333333334,
          0.5166666666666667,
          0.5,
          0.48333333333333334,
          0.4666666666666667,
          0.45,
          0.43333333333333335,
          0.4166666666666667,
          0.4,
          0.38333333333333336,
          0.36666666666666664,
          0.35,
          0.3333333333333333,
          0.31666666666666665,
          0.3,
          0.2833333333333334,
          0.2666666666666667,
          0.25,
          0.23333333333333334,
          0.21666666666666667,
          0.2,
          0.18333333333333332,
          0.16666666666666666,
          0.15,
          0.13333333333333336,
          0.11666666666666667,
          0.1,
          0.08333333333333333,
          0.06666666666666668,
          0.05,
          0.03333333333333334,
          0.01666666666666667,
          0
         ],
         "xaxis": "x",
         "y": [
          1.8452191929884614,
          5.637755293612698,
          6.916079726724214,
          7.505470270615939,
          8.30250666307011,
          8.770181787196726,
          9.610432786730122,
          10.444744268834192,
          10.81808685280263,
          11.45046146939094,
          12.4052528114842,
          13.312634391556758,
          14.333950884351726,
          15.652896891090146,
          17.05669052201271,
          17.748855163935712,
          19.159217438600663,
          20.42030972107187,
          22.70351720078582,
          25.702517127295742,
          23.467447553835378,
          24.631919266227936,
          28.016018154728997,
          26.823743628736104,
          29.000348057275893,
          32.32284151149916,
          32.87006184099382,
          37.77636504110454,
          37.24480720586348,
          35.68704082103007,
          37.25476288273916,
          40.3993810989925,
          43.097995992630885,
          45.267370096763145,
          42.776212185928564,
          44.75174645709116,
          45.09320418613056,
          48.41512889353855,
          50.69005213476752,
          53.532416929628255,
          49.61987710443852,
          49.29252410700224,
          50.22395541897151,
          51.72065760295392,
          53.21754984643958,
          48.592301036043445,
          50.4290624278684,
          52.645525349929244,
          54.02134113294691,
          55.66891919277123,
          51.10998218598042,
          54.584001835633735,
          56.9289867330876,
          56.50831941319932,
          59.171861564644544,
          58.323245883641505,
          59.99945866791151,
          60.646388506574766,
          63.47230111154993,
          66.52190405215364,
          77.68707560034787,
          98.69364817527193,
          69.49103218596866,
          58.486248038126234,
          30.153319146747013,
          21.986448595188474,
          49.0115983953131,
          56.924308703307716,
          86.2566973105078,
          69.01071582900525,
          59.05454290125139,
          56.44976412142497,
          53.925260238944944,
          53.2187671385401,
          51.7670182740646,
          52.46805814861712,
          50.19812467282219,
          50.354850901321,
          48.64109923963509,
          45.27169236599091,
          49.20892238428971,
          47.81196567708894,
          46.47166533107435,
          44.60517914919252,
          42.92905810374149,
          46.83916090624858,
          45.65491874113209,
          44.252909097157534,
          43.463136824897404,
          43.71676196366183,
          46.99993504169791,
          44.62885324157656,
          42.59704995950804,
          39.568789362256524,
          39.30941268269379,
          37.55410286783488,
          39.45387219714365,
          37.41935490342645,
          35.218970872333664,
          32.57106113159776,
          31.15479609653266,
          32.21931394108992,
          32.4886399768166,
          28.61615930595958,
          28.06929468921768,
          25.40459423663092,
          23.577722679507623,
          24.280596182188567,
          21.73551335025952,
          20.75124420243702,
          22.469524808188133,
          20.095189250827087,
          18.148105332691568,
          17.06626177286887,
          15.857726914917334,
          15.168200517413815,
          13.964187338300535,
          12.854702162243257,
          11.916994282278369,
          11.165838586365261,
          10.3283159499639,
          9.81280526189271,
          9.571257164857563,
          8.85872384409425,
          8.10866910886062,
          7.751526311840286,
          7.051282059133165,
          6.501394825247112,
          5.273789867677626,
          1.6380657532480973
         ],
         "yaxis": "y"
        },
        {
         "hovertemplate": "Routing=ProgDTN Epidemic<br>Time (h)=%{x}<br>CPU (%)=%{y}<extra></extra>",
         "legendgroup": "ProgDTN Epidemic",
         "line": {
          "color": "#EF553B",
          "dash": "solid"
         },
         "marker": {
          "symbol": "circle"
         },
         "mode": "lines",
         "name": "ProgDTN Epidemic",
         "orientation": "v",
         "showlegend": true,
         "type": "scatter",
         "x": [
          0,
          0.01666666666666667,
          0.03333333333333334,
          0.05,
          0.06666666666666668,
          0.08333333333333333,
          0.1,
          0.11666666666666667,
          0.13333333333333336,
          0.15,
          0.16666666666666666,
          0.18333333333333332,
          0.2,
          0.21666666666666667,
          0.23333333333333334,
          0.25,
          0.2666666666666667,
          0.2833333333333334,
          0.3,
          0.31666666666666665,
          0.3333333333333333,
          0.35,
          0.36666666666666664,
          0.38333333333333336,
          0.4,
          0.4166666666666667,
          0.43333333333333335,
          0.45,
          0.4666666666666667,
          0.48333333333333334,
          0.5,
          0.5166666666666667,
          0.5333333333333334,
          0.55,
          0.5666666666666668,
          0.5833333333333334,
          0.6,
          0.6166666666666667,
          0.6333333333333333,
          0.65,
          0.6666666666666666,
          0.6833333333333333,
          0.7,
          0.7166666666666667,
          0.7333333333333333,
          0.75,
          0.7666666666666667,
          0.7833333333333333,
          0.8,
          0.8166666666666667,
          0.8333333333333334,
          0.85,
          0.8666666666666667,
          0.8833333333333333,
          0.9,
          0.9166666666666666,
          0.9333333333333333,
          0.95,
          0.9666666666666667,
          0.9833333333333333,
          1,
          1.0166666666666668,
          1.0333333333333334,
          1.05,
          1.0666666666666669
         ],
         "xaxis": "x",
         "y": [
          1.7416424731182794,
          5.455772580645162,
          6.708737275985663,
          7.278376164874552,
          8.027016487455198,
          8.439425448028674,
          9.234578315412186,
          10.008000716845878,
          10.31544605734767,
          10.88938870967742,
          11.78554569892473,
          12.614814336917563,
          13.594326523297491,
          14.80854211469534,
          16.112445519713262,
          16.803291039426522,
          18.112739605734767,
          19.28420752688172,
          21.399353225806454,
          24.086020967741938,
          22.1093458781362,
          23.183716308243728,
          26.148307168458782,
          25.200733154121863,
          27.202471146953407,
          30.19606810035842,
          30.743110573476702,
          35.13250250896057,
          34.7320605734767,
          33.420918458781365,
          34.91291200716846,
          37.80917598566308,
          40.25867544802867,
          42.3606211469534,
          40.16515752688172,
          42.030579569892474,
          42.330996774193544,
          45.506089426523296,
          47.65945268817204,
          50.26617598566308,
          46.66831953405018,
          46.37783046594982,
          47.23843225806452,
          48.68778817204301,
          50.02835537634408,
          45.76067956989247,
          47.51712078853046,
          49.558595340501796,
          50.916653405017925,
          52.43892078853047,
          48.190837275985665,
          51.61255053763441,
          53.6419188172043,
          53.35322204301075,
          55.81995985663083,
          55.04513207885305,
          56.60911290322581,
          57.285824372759855,
          59.96103261648745,
          62.78822347670251,
          73.34889571467656,
          92.47517274288987,
          63.20767044463819,
          53.74892321671967,
          26.069883870967743
         ],
         "yaxis": "y"
        },
        {
         "fill": "toself",
         "fillcolor": "rgba(25,211,243,.3)",
         "hoverinfo": "skip",
         "legendgroup": "ProgDTN Emergency",
         "line": {
          "color": "rgba(255,255,255,0)"
         },
         "showlegend": false,
         "type": "scatter",
         "x": [
          0,
          0.01666666666666667,
          0.03333333333333334,
          0.05,
          0.06666666666666668,
          0.08333333333333333,
          0.1,
          0.11666666666666667,
          0.13333333333333336,
          0.15,
          0.16666666666666666,
          0.18333333333333332,
          0.2,
          0.21666666666666667,
          0.23333333333333334,
          0.25,
          0.2666666666666667,
          0.2833333333333334,
          0.3,
          0.31666666666666665,
          0.3333333333333333,
          0.35,
          0.36666666666666664,
          0.38333333333333336,
          0.4,
          0.4166666666666667,
          0.43333333333333335,
          0.45,
          0.4666666666666667,
          0.48333333333333334,
          0.5,
          0.5166666666666667,
          0.5333333333333334,
          0.55,
          0.5666666666666668,
          0.5833333333333334,
          0.6,
          0.6166666666666667,
          0.6333333333333333,
          0.65,
          0.6666666666666666,
          0.6833333333333333,
          0.7,
          0.7166666666666667,
          0.7333333333333333,
          0.75,
          0.7666666666666667,
          0.7833333333333333,
          0.8,
          0.8166666666666667,
          0.8333333333333334,
          0.85,
          0.8666666666666667,
          0.8833333333333333,
          0.9,
          0.9166666666666666,
          0.9333333333333333,
          0.95,
          0.9666666666666667,
          0.9833333333333333,
          1,
          1,
          0.9833333333333333,
          0.9666666666666667,
          0.95,
          0.9333333333333333,
          0.9166666666666666,
          0.9,
          0.8833333333333333,
          0.8666666666666667,
          0.85,
          0.8333333333333334,
          0.8166666666666667,
          0.8,
          0.7833333333333333,
          0.7666666666666667,
          0.75,
          0.7333333333333333,
          0.7166666666666667,
          0.7,
          0.6833333333333333,
          0.6666666666666666,
          0.65,
          0.6333333333333333,
          0.6166666666666667,
          0.6,
          0.5833333333333334,
          0.5666666666666668,
          0.55,
          0.5333333333333334,
          0.5166666666666667,
          0.5,
          0.48333333333333334,
          0.4666666666666667,
          0.45,
          0.43333333333333335,
          0.4166666666666667,
          0.4,
          0.38333333333333336,
          0.36666666666666664,
          0.35,
          0.3333333333333333,
          0.31666666666666665,
          0.3,
          0.2833333333333334,
          0.2666666666666667,
          0.25,
          0.23333333333333334,
          0.21666666666666667,
          0.2,
          0.18333333333333332,
          0.16666666666666666,
          0.15,
          0.13333333333333336,
          0.11666666666666667,
          0.1,
          0.08333333333333333,
          0.06666666666666668,
          0.05,
          0.03333333333333334,
          0.01666666666666667,
          0
         ],
         "xaxis": "x",
         "y": [
          1.3468337360159028,
          1.2386467156000054,
          1.2594142687121233,
          1.2944692829573248,
          1.419379729444095,
          1.4282171163055086,
          1.5041149142888,
          1.4725716913384321,
          1.5738849134425277,
          1.5785510030986725,
          1.6567539424887525,
          1.679767803185583,
          1.7617217478974774,
          1.82272923399436,
          1.847854415959752,
          1.9153248501347588,
          1.9604493436320534,
          1.966068352033334,
          2.0597932073224468,
          2.0713041944215798,
          2.1473188837311485,
          2.1685363044196504,
          2.2847979869632544,
          2.284497685132683,
          2.242607108529615,
          2.2461309355808465,
          2.2818010550255736,
          2.3157973395603735,
          2.324462378641619,
          2.4032949876073575,
          2.459908768764888,
          2.475862736870136,
          2.5847442821175814,
          2.587262184805573,
          2.655566857417058,
          2.7420815766859836,
          2.7219998110342014,
          2.8322082207899144,
          2.841118151574981,
          2.8607831339244205,
          2.9357650693325237,
          3.0328632222313634,
          3.075592070532636,
          3.0526259964647986,
          3.1476703384845437,
          3.1575301089570145,
          3.285174653600287,
          3.2702141201239616,
          3.2343925645198244,
          3.387984224202838,
          3.386990765194591,
          3.5225083376431603,
          3.5583525995361756,
          3.498302433314571,
          3.5655427875188375,
          3.570711759023875,
          3.6588315041492554,
          3.637967940428176,
          3.881127808196546,
          3.8092300331979816,
          3.960102398394027,
          3.5201919476213606,
          3.490801428371115,
          3.561821614344274,
          3.342104142407347,
          3.3609661860140263,
          3.280075974946654,
          3.2723341539387496,
          3.209139621643613,
          3.268542661316074,
          3.2323980741449723,
          3.1117921898034178,
          3.109932143778046,
          2.9739304143730463,
          3.0061156289799813,
          3.0172347450456702,
          2.897434845244499,
          2.8910015054023543,
          2.8071860306160454,
          2.82686153360914,
          2.785226781751114,
          2.70325444480527,
          2.630276204984381,
          2.6144915656691445,
          2.6042605167648447,
          2.503804251092441,
          2.5248706335888067,
          2.437312075279079,
          2.3793793922553585,
          2.3723747939477313,
          2.2772029740020265,
          2.2660223343812693,
          2.2074234512616187,
          2.142962153417322,
          2.1354957707542424,
          2.100695766839991,
          2.0741567403809507,
          2.07672696636842,
          2.1098979396355784,
          2.108028116114239,
          2.0044251342158703,
          1.9821301336956216,
          1.9098811967538,
          1.904009165684598,
          1.8152026898650715,
          1.8097238117257517,
          1.7633629511259008,
          1.7028682388418794,
          1.6800253080894365,
          1.625231533526327,
          1.5539285260691447,
          1.5259338587719071,
          1.4467256005349944,
          1.4393509041325558,
          1.353130358105553,
          1.3785994226287628,
          1.3103785826192225,
          1.2955120268283062,
          1.1835203227774425,
          1.1513656596032886,
          1.1301790908516074,
          1.2182415328013014
         ],
         "yaxis": "y"
        },
        {
         "hovertemplate": "Routing=ProgDTN Emergency<br>Time (h)=%{x}<br>CPU (%)=%{y}<extra></extra>",
         "legendgroup": "ProgDTN Emergency",
         "line": {
          "color": "#19D3F3",
          "dash": "solid"
         },
         "marker": {
          "symbol": "circle"
         },
         "mode": "lines",
         "name": "ProgDTN Emergency",
         "orientation": "v",
         "showlegend": true,
         "type": "scatter",
         "x": [
          0,
          0.01666666666666667,
          0.03333333333333334,
          0.05,
          0.06666666666666668,
          0.08333333333333333,
          0.1,
          0.11666666666666667,
          0.13333333333333336,
          0.15,
          0.16666666666666666,
          0.18333333333333332,
          0.2,
          0.21666666666666667,
          0.23333333333333334,
          0.25,
          0.2666666666666667,
          0.2833333333333334,
          0.3,
          0.31666666666666665,
          0.3333333333333333,
          0.35,
          0.36666666666666664,
          0.38333333333333336,
          0.4,
          0.4166666666666667,
          0.43333333333333335,
          0.45,
          0.4666666666666667,
          0.48333333333333334,
          0.5,
          0.5166666666666667,
          0.5333333333333334,
          0.55,
          0.5666666666666668,
          0.5833333333333334,
          0.6,
          0.6166666666666667,
          0.6333333333333333,
          0.65,
          0.6666666666666666,
          0.6833333333333333,
          0.7,
          0.7166666666666667,
          0.7333333333333333,
          0.75,
          0.7666666666666667,
          0.7833333333333333,
          0.8,
          0.8166666666666667,
          0.8333333333333334,
          0.85,
          0.8666666666666667,
          0.8833333333333333,
          0.9,
          0.9166666666666666,
          0.9333333333333333,
          0.95,
          0.9666666666666667,
          0.9833333333333333,
          1
         ],
         "xaxis": "x",
         "y": [
          1.2825376344086021,
          1.1844129032258064,
          1.205389964157706,
          1.2389948028673836,
          1.3574458781362007,
          1.3692978494623655,
          1.4413571684587814,
          1.4128510247219925,
          1.5066179087875418,
          1.5126383018168335,
          1.5913439006303298,
          1.6168481646273638,
          1.6934766407119022,
          1.7513772710418982,
          1.7753613274008158,
          1.8393439006303298,
          1.8850865776789025,
          1.8906355209492027,
          1.9819011865035225,
          1.99059269558769,
          2.064724508713385,
          2.0864807193177604,
          2.1964130515387468,
          2.1971978123841307,
          2.1596670374490174,
          2.1601438379808986,
          2.1912484109327823,
          2.225646555157308,
          2.2337122660294706,
          2.305359219434488,
          2.3629655515730787,
          2.376532855436081,
          2.4785595380326564,
          2.483320788530466,
          2.5464394663480685,
          2.633476105137395,
          2.6129020310633213,
          2.7182343687773796,
          2.7278048586220627,
          2.7455296694544007,
          2.819509757068897,
          2.9090450019912386,
          2.951226802070888,
          2.929906013540422,
          3.019335921943449,
          3.0274824771007567,
          3.1512046993229785,
          3.1381648745519715,
          3.1041614894464353,
          3.248958183990442,
          3.2493914774990045,
          3.3774532058940663,
          3.4134476304261248,
          3.353721027479092,
          3.4189384707287935,
          3.4253938669852646,
          3.509898845081641,
          3.4900360414177616,
          3.72147471127041,
          3.650015730784548,
          3.740147173007694
         ],
         "yaxis": "y"
        }
       ],
       "layout": {
        "height": 200,
        "legend": {
         "title": {
          "text": "Routing"
         },
         "tracegroupgap": 0
        },
        "margin": {
         "b": 10,
         "l": 10,
         "r": 10,
         "t": 15
        },
        "template": {
         "data": {
          "bar": [
           {
            "error_x": {
             "color": "#2a3f5f"
            },
            "error_y": {
             "color": "#2a3f5f"
            },
            "marker": {
             "line": {
              "color": "#E5ECF6",
              "width": 0.5
             },
             "pattern": {
              "fillmode": "overlay",
              "size": 10,
              "solidity": 0.2
             }
            },
            "type": "bar"
           }
          ],
          "barpolar": [
           {
            "marker": {
             "line": {
              "color": "#E5ECF6",
              "width": 0.5
             },
             "pattern": {
              "fillmode": "overlay",
              "size": 10,
              "solidity": 0.2
             }
            },
            "type": "barpolar"
           }
          ],
          "carpet": [
           {
            "aaxis": {
             "endlinecolor": "#2a3f5f",
             "gridcolor": "white",
             "linecolor": "white",
             "minorgridcolor": "white",
             "startlinecolor": "#2a3f5f"
            },
            "baxis": {
             "endlinecolor": "#2a3f5f",
             "gridcolor": "white",
             "linecolor": "white",
             "minorgridcolor": "white",
             "startlinecolor": "#2a3f5f"
            },
            "type": "carpet"
           }
          ],
          "choropleth": [
           {
            "colorbar": {
             "outlinewidth": 0,
             "ticks": ""
            },
            "type": "choropleth"
           }
          ],
          "contour": [
           {
            "colorbar": {
             "outlinewidth": 0,
             "ticks": ""
            },
            "colorscale": [
             [
              0,
              "#0d0887"
             ],
             [
              0.1111111111111111,
              "#46039f"
             ],
             [
              0.2222222222222222,
              "#7201a8"
             ],
             [
              0.3333333333333333,
              "#9c179e"
             ],
             [
              0.4444444444444444,
              "#bd3786"
             ],
             [
              0.5555555555555556,
              "#d8576b"
             ],
             [
              0.6666666666666666,
              "#ed7953"
             ],
             [
              0.7777777777777778,
              "#fb9f3a"
             ],
             [
              0.8888888888888888,
              "#fdca26"
             ],
             [
              1,
              "#f0f921"
             ]
            ],
            "type": "contour"
           }
          ],
          "contourcarpet": [
           {
            "colorbar": {
             "outlinewidth": 0,
             "ticks": ""
            },
            "type": "contourcarpet"
           }
          ],
          "heatmap": [
           {
            "colorbar": {
             "outlinewidth": 0,
             "ticks": ""
            },
            "colorscale": [
             [
              0,
              "#0d0887"
             ],
             [
              0.1111111111111111,
              "#46039f"
             ],
             [
              0.2222222222222222,
              "#7201a8"
             ],
             [
              0.3333333333333333,
              "#9c179e"
             ],
             [
              0.4444444444444444,
              "#bd3786"
             ],
             [
              0.5555555555555556,
              "#d8576b"
             ],
             [
              0.6666666666666666,
              "#ed7953"
             ],
             [
              0.7777777777777778,
              "#fb9f3a"
             ],
             [
              0.8888888888888888,
              "#fdca26"
             ],
             [
              1,
              "#f0f921"
             ]
            ],
            "type": "heatmap"
           }
          ],
          "heatmapgl": [
           {
            "colorbar": {
             "outlinewidth": 0,
             "ticks": ""
            },
            "colorscale": [
             [
              0,
              "#0d0887"
             ],
             [
              0.1111111111111111,
              "#46039f"
             ],
             [
              0.2222222222222222,
              "#7201a8"
             ],
             [
              0.3333333333333333,
              "#9c179e"
             ],
             [
              0.4444444444444444,
              "#bd3786"
             ],
             [
              0.5555555555555556,
              "#d8576b"
             ],
             [
              0.6666666666666666,
              "#ed7953"
             ],
             [
              0.7777777777777778,
              "#fb9f3a"
             ],
             [
              0.8888888888888888,
              "#fdca26"
             ],
             [
              1,
              "#f0f921"
             ]
            ],
            "type": "heatmapgl"
           }
          ],
          "histogram": [
           {
            "marker": {
             "pattern": {
              "fillmode": "overlay",
              "size": 10,
              "solidity": 0.2
             }
            },
            "type": "histogram"
           }
          ],
          "histogram2d": [
           {
            "colorbar": {
             "outlinewidth": 0,
             "ticks": ""
            },
            "colorscale": [
             [
              0,
              "#0d0887"
             ],
             [
              0.1111111111111111,
              "#46039f"
             ],
             [
              0.2222222222222222,
              "#7201a8"
             ],
             [
              0.3333333333333333,
              "#9c179e"
             ],
             [
              0.4444444444444444,
              "#bd3786"
             ],
             [
              0.5555555555555556,
              "#d8576b"
             ],
             [
              0.6666666666666666,
              "#ed7953"
             ],
             [
              0.7777777777777778,
              "#fb9f3a"
             ],
             [
              0.8888888888888888,
              "#fdca26"
             ],
             [
              1,
              "#f0f921"
             ]
            ],
            "type": "histogram2d"
           }
          ],
          "histogram2dcontour": [
           {
            "colorbar": {
             "outlinewidth": 0,
             "ticks": ""
            },
            "colorscale": [
             [
              0,
              "#0d0887"
             ],
             [
              0.1111111111111111,
              "#46039f"
             ],
             [
              0.2222222222222222,
              "#7201a8"
             ],
             [
              0.3333333333333333,
              "#9c179e"
             ],
             [
              0.4444444444444444,
              "#bd3786"
             ],
             [
              0.5555555555555556,
              "#d8576b"
             ],
             [
              0.6666666666666666,
              "#ed7953"
             ],
             [
              0.7777777777777778,
              "#fb9f3a"
             ],
             [
              0.8888888888888888,
              "#fdca26"
             ],
             [
              1,
              "#f0f921"
             ]
            ],
            "type": "histogram2dcontour"
           }
          ],
          "mesh3d": [
           {
            "colorbar": {
             "outlinewidth": 0,
             "ticks": ""
            },
            "type": "mesh3d"
           }
          ],
          "parcoords": [
           {
            "line": {
             "colorbar": {
              "outlinewidth": 0,
              "ticks": ""
             }
            },
            "type": "parcoords"
           }
          ],
          "pie": [
           {
            "automargin": true,
            "type": "pie"
           }
          ],
          "scatter": [
           {
            "marker": {
             "colorbar": {
              "outlinewidth": 0,
              "ticks": ""
             }
            },
            "type": "scatter"
           }
          ],
          "scatter3d": [
           {
            "line": {
             "colorbar": {
              "outlinewidth": 0,
              "ticks": ""
             }
            },
            "marker": {
             "colorbar": {
              "outlinewidth": 0,
              "ticks": ""
             }
            },
            "type": "scatter3d"
           }
          ],
          "scattercarpet": [
           {
            "marker": {
             "colorbar": {
              "outlinewidth": 0,
              "ticks": ""
             }
            },
            "type": "scattercarpet"
           }
          ],
          "scattergeo": [
           {
            "marker": {
             "colorbar": {
              "outlinewidth": 0,
              "ticks": ""
             }
            },
            "type": "scattergeo"
           }
          ],
          "scattergl": [
           {
            "marker": {
             "colorbar": {
              "outlinewidth": 0,
              "ticks": ""
             }
            },
            "type": "scattergl"
           }
          ],
          "scattermapbox": [
           {
            "marker": {
             "colorbar": {
              "outlinewidth": 0,
              "ticks": ""
             }
            },
            "type": "scattermapbox"
           }
          ],
          "scatterpolar": [
           {
            "marker": {
             "colorbar": {
              "outlinewidth": 0,
              "ticks": ""
             }
            },
            "type": "scatterpolar"
           }
          ],
          "scatterpolargl": [
           {
            "marker": {
             "colorbar": {
              "outlinewidth": 0,
              "ticks": ""
             }
            },
            "type": "scatterpolargl"
           }
          ],
          "scatterternary": [
           {
            "marker": {
             "colorbar": {
              "outlinewidth": 0,
              "ticks": ""
             }
            },
            "type": "scatterternary"
           }
          ],
          "surface": [
           {
            "colorbar": {
             "outlinewidth": 0,
             "ticks": ""
            },
            "colorscale": [
             [
              0,
              "#0d0887"
             ],
             [
              0.1111111111111111,
              "#46039f"
             ],
             [
              0.2222222222222222,
              "#7201a8"
             ],
             [
              0.3333333333333333,
              "#9c179e"
             ],
             [
              0.4444444444444444,
              "#bd3786"
             ],
             [
              0.5555555555555556,
              "#d8576b"
             ],
             [
              0.6666666666666666,
              "#ed7953"
             ],
             [
              0.7777777777777778,
              "#fb9f3a"
             ],
             [
              0.8888888888888888,
              "#fdca26"
             ],
             [
              1,
              "#f0f921"
             ]
            ],
            "type": "surface"
           }
          ],
          "table": [
           {
            "cells": {
             "fill": {
              "color": "#EBF0F8"
             },
             "line": {
              "color": "white"
             }
            },
            "header": {
             "fill": {
              "color": "#C8D4E3"
             },
             "line": {
              "color": "white"
             }
            },
            "type": "table"
           }
          ]
         },
         "layout": {
          "annotationdefaults": {
           "arrowcolor": "#2a3f5f",
           "arrowhead": 0,
           "arrowwidth": 1
          },
          "autotypenumbers": "strict",
          "coloraxis": {
           "colorbar": {
            "outlinewidth": 0,
            "ticks": ""
           }
          },
          "colorscale": {
           "diverging": [
            [
             0,
             "#8e0152"
            ],
            [
             0.1,
             "#c51b7d"
            ],
            [
             0.2,
             "#de77ae"
            ],
            [
             0.3,
             "#f1b6da"
            ],
            [
             0.4,
             "#fde0ef"
            ],
            [
             0.5,
             "#f7f7f7"
            ],
            [
             0.6,
             "#e6f5d0"
            ],
            [
             0.7,
             "#b8e186"
            ],
            [
             0.8,
             "#7fbc41"
            ],
            [
             0.9,
             "#4d9221"
            ],
            [
             1,
             "#276419"
            ]
           ],
           "sequential": [
            [
             0,
             "#0d0887"
            ],
            [
             0.1111111111111111,
             "#46039f"
            ],
            [
             0.2222222222222222,
             "#7201a8"
            ],
            [
             0.3333333333333333,
             "#9c179e"
            ],
            [
             0.4444444444444444,
             "#bd3786"
            ],
            [
             0.5555555555555556,
             "#d8576b"
            ],
            [
             0.6666666666666666,
             "#ed7953"
            ],
            [
             0.7777777777777778,
             "#fb9f3a"
            ],
            [
             0.8888888888888888,
             "#fdca26"
            ],
            [
             1,
             "#f0f921"
            ]
           ],
           "sequentialminus": [
            [
             0,
             "#0d0887"
            ],
            [
             0.1111111111111111,
             "#46039f"
            ],
            [
             0.2222222222222222,
             "#7201a8"
            ],
            [
             0.3333333333333333,
             "#9c179e"
            ],
            [
             0.4444444444444444,
             "#bd3786"
            ],
            [
             0.5555555555555556,
             "#d8576b"
            ],
            [
             0.6666666666666666,
             "#ed7953"
            ],
            [
             0.7777777777777778,
             "#fb9f3a"
            ],
            [
             0.8888888888888888,
             "#fdca26"
            ],
            [
             1,
             "#f0f921"
            ]
           ]
          },
          "colorway": [
           "#636efa",
           "#EF553B",
           "#00cc96",
           "#ab63fa",
           "#FFA15A",
           "#19d3f3",
           "#FF6692",
           "#B6E880",
           "#FF97FF",
           "#FECB52"
          ],
          "font": {
           "color": "#2a3f5f"
          },
          "geo": {
           "bgcolor": "white",
           "lakecolor": "white",
           "landcolor": "#E5ECF6",
           "showlakes": true,
           "showland": true,
           "subunitcolor": "white"
          },
          "hoverlabel": {
           "align": "left"
          },
          "hovermode": "closest",
          "mapbox": {
           "style": "light"
          },
          "paper_bgcolor": "white",
          "plot_bgcolor": "#E5ECF6",
          "polar": {
           "angularaxis": {
            "gridcolor": "white",
            "linecolor": "white",
            "ticks": ""
           },
           "bgcolor": "#E5ECF6",
           "radialaxis": {
            "gridcolor": "white",
            "linecolor": "white",
            "ticks": ""
           }
          },
          "scene": {
           "xaxis": {
            "backgroundcolor": "#E5ECF6",
            "gridcolor": "white",
            "gridwidth": 2,
            "linecolor": "white",
            "showbackground": true,
            "ticks": "",
            "zerolinecolor": "white"
           },
           "yaxis": {
            "backgroundcolor": "#E5ECF6",
            "gridcolor": "white",
            "gridwidth": 2,
            "linecolor": "white",
            "showbackground": true,
            "ticks": "",
            "zerolinecolor": "white"
           },
           "zaxis": {
            "backgroundcolor": "#E5ECF6",
            "gridcolor": "white",
            "gridwidth": 2,
            "linecolor": "white",
            "showbackground": true,
            "ticks": "",
            "zerolinecolor": "white"
           }
          },
          "shapedefaults": {
           "line": {
            "color": "#2a3f5f"
           }
          },
          "ternary": {
           "aaxis": {
            "gridcolor": "white",
            "linecolor": "white",
            "ticks": ""
           },
           "baxis": {
            "gridcolor": "white",
            "linecolor": "white",
            "ticks": ""
           },
           "bgcolor": "#E5ECF6",
           "caxis": {
            "gridcolor": "white",
            "linecolor": "white",
            "ticks": ""
           }
          },
          "title": {
           "x": 0.05
          },
          "xaxis": {
           "automargin": true,
           "gridcolor": "white",
           "linecolor": "white",
           "ticks": "",
           "title": {
            "standoff": 15
           },
           "zerolinecolor": "white",
           "zerolinewidth": 2
          },
          "yaxis": {
           "automargin": true,
           "gridcolor": "white",
           "linecolor": "white",
           "ticks": "",
           "title": {
            "standoff": 15
           },
           "zerolinecolor": "white",
           "zerolinewidth": 2
          }
         }
        },
        "width": 800,
        "xaxis": {
         "anchor": "y",
         "domain": [
          0,
          1
         ],
         "range": [
          0,
          1
         ],
         "title": {
          "text": "Time (h)"
         },
         "type": "linear"
        },
        "yaxis": {
         "anchor": "x",
         "autorange": true,
         "domain": [
          0,
          1
         ],
         "range": [
          -4.290013636060633,
          104.11384090218417
         ],
         "title": {
          "text": "CPU (%)"
         },
         "type": "linear"
        }
       }
      },
      "image/png": "[encoded data removed]",
      "text/html": [
       "<div>                            <div id=\"2ad4ac85-5d85-4e08-b955-f48684f967f4\" class=\"plotly-graph-div\" style=\"height:200px; width:800px;\"></div>            <script type=\"text/javascript\">                require([\"plotly\"], function(Plotly) {                    window.PLOTLYENV=window.PLOTLYENV || {};                                    if (document.getElementById(\"2ad4ac85-5d85-4e08-b955-f48684f967f4\")) {                    Plotly.newPlot(                        \"2ad4ac85-5d85-4e08-b955-f48684f967f4\",                        [{\"fill\":\"toself\",\"fillcolor\":\"rgba(99,110,250,.3)\",\"hoverinfo\":\"skip\",\"legendgroup\":\"Epidemic\",\"line\":{\"color\":\"rgba(255,255,255,0)\"},\"showlegend\":false,\"x\":[0.0,0.01666666666666667,0.03333333333333334,0.05,0.06666666666666668,0.08333333333333333,0.1,0.11666666666666667,0.13333333333333336,0.15,0.16666666666666666,0.18333333333333332,0.2,0.21666666666666667,0.23333333333333334,0.25,0.2666666666666667,0.2833333333333334,0.3,0.31666666666666665,0.3333333333333333,0.35,0.36666666666666664,0.38333333333333336,0.4,0.4166666666666667,0.43333333333333335,0.45,0.4666666666666667,0.48333333333333334,0.5,0.5166666666666667,0.5333333333333334,0.55,0.5666666666666668,0.5833333333333334,0.6,0.6166666666666667,0.6333333333333333,0.65,0.6666666666666666,0.6833333333333333,0.7,0.7166666666666667,0.7333333333333333,0.75,0.7666666666666667,0.7833333333333333,0.8,0.8166666666666667,0.8333333333333334,0.85,0.8666666666666667,0.8833333333333333,0.9,0.9166666666666666,0.9333333333333333,0.95,0.9666666666666667,0.9833333333333333,1.0,1.0166666666666668,1.0333333333333334,1.0333333333333334,1.0166666666666668,1.0,0.9833333333333333,0.9666666666666667,0.95,0.9333333333333333,0.9166666666666666,0.9,0.8833333333333333,0.8666666666666667,0.85,0.8333333333333334,0.8166666666666667,0.8,0.7833333333333333,0.7666666666666667,0.75,0.7333333333333333,0.7166666666666667,0.7,0.6833333333333333,0.6666666666666666,0.65,0.6333333333333333,0.6166666666666667,0.6,0.5833333333333334,0.5666666666666668,0.55,0.5333333333333334,0.5166666666666667,0.5,0.48333333333333334,0.4666666666666667,0.45,0.43333333333333335,0.4166666666666667,0.4,0.38333333333333336,0.36666666666666664,0.35,0.3333333333333333,0.31666666666666665,0.3,0.2833333333333334,0.2666666666666667,0.25,0.23333333333333334,0.21666666666666667,0.2,0.18333333333333332,0.16666666666666666,0.15,0.13333333333333336,0.11666666666666667,0.1,0.08333333333333333,0.06666666666666668,0.05,0.03333333333333334,0.01666666666666667,0.0],\"xaxis\":\"x\",\"y\":[1.8523167141853305,4.998471922119816,5.654652862384488,5.8972034250849195,5.857989569335446,5.527403547469481,5.611790113397288,5.717698066773309,5.850818711044875,5.923631518389586,6.329648707274478,6.64697625164723,6.81687029400172,7.292892158476506,7.9353505229695145,8.242964203013806,8.45986118895184,8.757975495560299,9.743947869712859,10.210666586641459,10.54420896847513,10.94407275695348,11.193032214319414,12.719723322867985,12.934225969135559,12.898614166821199,13.71120807977917,14.254521677478484,13.933850869887468,15.135891819772494,15.639677514451455,15.682139369356545,16.64838693345534,17.367772923312145,18.158094357159836,18.41142269636922,19.380747038039285,20.787073059961145,20.589121580716032,22.117516919021035,22.034231043647146,22.95743114816411,23.731507119583217,24.20442468948403,24.767311684764667,25.63216903069015,27.10150544953847,28.61333899299201,29.29651459821906,29.897910158656646,30.520502721995264,31.40160566013016,31.18250846328826,33.1448792878748,33.324641148540714,34.2239265312311,33.83002878727132,35.23236597768552,33.640628084995086,34.01666143089825,39.0623135013077,29.24537617202756,6.623953160705682,2.174326409186792,24.445883590281436,34.25852912635327,29.828867959782748,29.58392352790814,30.86544262446502,29.572539313087105,29.971441927550263,29.09517426364567,29.000256912842048,27.30247254029597,27.40970294202038,26.75418939270007,26.142400952454462,25.650882892820373,25.0232950571872,23.692109962647905,22.471369320564328,21.784549247134972,21.311945561412024,20.889901124144384,20.246922973699693,19.502719852410202,19.525044371301547,18.17770709311909,18.40787496871269,17.148370524684726,16.316281604706052,16.06929058907672,15.431594460200401,14.818683675863658,13.96855131164704,13.933783775871126,13.491695635424636,12.40229536667167,12.755115240084239,12.294521669324771,11.565240313465539,11.63069266885727,11.447020046307642,10.08982835915729,9.902429035161214,9.530206085288311,9.238818001172163,8.833911628495027,7.96685604565834,7.7142312841664396,7.507546549674365,7.245431197460594,6.669686336147149,6.255310709582511,6.13052016412338,5.855839823191474,5.496007549710773,5.449061934116415,5.343813044337804,5.276003793412749,5.201312939985717,5.5271871331735145,5.561961091044113,5.3243127290133625,4.670427002611368,1.6541797015852788],\"yaxis\":\"y\",\"type\":\"scatter\"},{\"hovertemplate\":\"Routing=Epidemic<br>Time (h)=%{x}<br>CPU (%)=%{y}<extra></extra>\",\"legendgroup\":\"Epidemic\",\"line\":{\"color\":\"#636EFA\",\"dash\":\"solid\"},\"marker\":{\"symbol\":\"circle\"},\"mode\":\"lines\",\"name\":\"Epidemic\",\"orientation\":\"v\",\"showlegend\":true,\"x\":[0.0,0.01666666666666667,0.03333333333333334,0.05,0.06666666666666668,0.08333333333333333,0.1,0.11666666666666667,0.13333333333333336,0.15,0.16666666666666666,0.18333333333333332,0.2,0.21666666666666667,0.23333333333333334,0.25,0.2666666666666667,0.2833333333333334,0.3,0.31666666666666665,0.3333333333333333,0.35,0.36666666666666664,0.38333333333333336,0.4,0.4166666666666667,0.43333333333333335,0.45,0.4666666666666667,0.48333333333333334,0.5,0.5166666666666667,0.5333333333333334,0.55,0.5666666666666668,0.5833333333333334,0.6,0.6166666666666667,0.6333333333333333,0.65,0.6666666666666666,0.6833333333333333,0.7,0.7166666666666667,0.7333333333333333,0.75,0.7666666666666667,0.7833333333333333,0.8,0.8166666666666667,0.8333333333333334,0.85,0.8666666666666667,0.8833333333333333,0.9,0.9166666666666666,0.9333333333333333,0.95,0.9666666666666667,0.9833333333333333,1.0,1.0166666666666668,1.0333333333333334],\"xaxis\":\"x\",\"y\":[1.7532482078853047,4.834449462365592,5.489482795698925,5.729582258064516,5.69258835125448,5.364358243727599,5.443896953405019,5.530755555555556,5.649940322580645,5.70981953405018,6.092744265232976,6.388748207885305,6.536090501792115,6.981289247311827,7.590390860215054,7.875255376344086,8.08704623655914,8.362415770609319,9.288929749103943,9.72474229390681,10.037207526881721,10.423250896057347,10.641430286738352,12.083371684587814,12.282459318996414,12.231927240143369,13.002864874551971,13.504818458781362,13.168073118279569,14.313793727598565,14.78673064516129,14.825345340501793,15.733535304659497,16.399683691756273,17.113692473118277,17.363852150537635,18.264558781362005,19.597474014336917,19.38341433691756,20.82128064516129,20.768475448028674,21.6021770609319,22.3107041218638,22.758185125448026,23.27593046594982,24.05176917562724,25.39680770609319,26.818317025089605,27.473698745519716,28.020155555555554,28.637346057347667,29.40565430107527,29.242490501792116,31.072568100358424,31.20990770609319,32.09768422939068,31.70128405017921,33.04890430107527,31.612275806451613,31.9227646953405,36.66042131383048,26.845629881154498,4.399139784946237],\"yaxis\":\"y\",\"type\":\"scatter\"},{\"fill\":\"toself\",\"fillcolor\":\"rgba(239,85,59,.3)\",\"hoverinfo\":\"skip\",\"legendgroup\":\"ProgDTN Epidemic\",\"line\":{\"color\":\"rgba(255,255,255,0)\"},\"showlegend\":false,\"x\":[0.0,0.01666666666666667,0.03333333333333334,0.05,0.06666666666666668,0.08333333333333333,0.1,0.11666666666666667,0.13333333333333336,0.15,0.16666666666666666,0.18333333333333332,0.2,0.21666666666666667,0.23333333333333334,0.25,0.2666666666666667,0.2833333333333334,0.3,0.31666666666666665,0.3333333333333333,0.35,0.36666666666666664,0.38333333333333336,0.4,0.4166666666666667,0.43333333333333335,0.45,0.4666666666666667,0.48333333333333334,0.5,0.5166666666666667,0.5333333333333334,0.55,0.5666666666666668,0.5833333333333334,0.6,0.6166666666666667,0.6333333333333333,0.65,0.6666666666666666,0.6833333333333333,0.7,0.7166666666666667,0.7333333333333333,0.75,0.7666666666666667,0.7833333333333333,0.8,0.8166666666666667,0.8333333333333334,0.85,0.8666666666666667,0.8833333333333333,0.9,0.9166666666666666,0.9333333333333333,0.95,0.9666666666666667,0.9833333333333333,1.0,1.0166666666666668,1.0333333333333334,1.05,1.0666666666666669,1.0666666666666669,1.05,1.0333333333333334,1.0166666666666668,1.0,0.9833333333333333,0.9666666666666667,0.95,0.9333333333333333,0.9166666666666666,0.9,0.8833333333333333,0.8666666666666667,0.85,0.8333333333333334,0.8166666666666667,0.8,0.7833333333333333,0.7666666666666667,0.75,0.7333333333333333,0.7166666666666667,0.7,0.6833333333333333,0.6666666666666666,0.65,0.6333333333333333,0.6166666666666667,0.6,0.5833333333333334,0.5666666666666668,0.55,0.5333333333333334,0.5166666666666667,0.5,0.48333333333333334,0.4666666666666667,0.45,0.43333333333333335,0.4166666666666667,0.4,0.38333333333333336,0.36666666666666664,0.35,0.3333333333333333,0.31666666666666665,0.3,0.2833333333333334,0.2666666666666667,0.25,0.23333333333333334,0.21666666666666667,0.2,0.18333333333333332,0.16666666666666666,0.15,0.13333333333333336,0.11666666666666667,0.1,0.08333333333333333,0.06666666666666668,0.05,0.03333333333333334,0.01666666666666667,0.0],\"xaxis\":\"x\",\"y\":[1.8452191929884614,5.637755293612698,6.916079726724214,7.505470270615939,8.30250666307011,8.770181787196726,9.610432786730122,10.444744268834192,10.81808685280263,11.45046146939094,12.4052528114842,13.312634391556758,14.333950884351726,15.652896891090146,17.05669052201271,17.748855163935712,19.159217438600663,20.42030972107187,22.70351720078582,25.702517127295742,23.467447553835378,24.631919266227936,28.016018154728997,26.823743628736104,29.000348057275893,32.32284151149916,32.87006184099382,37.77636504110454,37.24480720586348,35.68704082103007,37.25476288273916,40.3993810989925,43.097995992630885,45.267370096763145,42.776212185928564,44.75174645709116,45.09320418613056,48.41512889353855,50.69005213476752,53.532416929628255,49.61987710443852,49.29252410700224,50.22395541897151,51.72065760295392,53.21754984643958,48.592301036043445,50.4290624278684,52.645525349929244,54.02134113294691,55.66891919277123,51.10998218598042,54.584001835633735,56.9289867330876,56.50831941319932,59.171861564644544,58.323245883641505,59.99945866791151,60.646388506574766,63.47230111154993,66.52190405215364,77.68707560034787,98.69364817527193,69.49103218596866,58.486248038126234,30.153319146747013,21.986448595188474,49.0115983953131,56.924308703307716,86.2566973105078,69.01071582900525,59.05454290125139,56.44976412142497,53.925260238944944,53.2187671385401,51.7670182740646,52.46805814861712,50.19812467282219,50.354850901321,48.64109923963509,45.27169236599091,49.20892238428971,47.81196567708894,46.47166533107435,44.60517914919252,42.92905810374149,46.83916090624858,45.65491874113209,44.252909097157534,43.463136824897404,43.71676196366183,46.99993504169791,44.62885324157656,42.59704995950804,39.568789362256524,39.30941268269379,37.55410286783488,39.45387219714365,37.41935490342645,35.218970872333664,32.57106113159776,31.15479609653266,32.21931394108992,32.4886399768166,28.61615930595958,28.06929468921768,25.40459423663092,23.577722679507623,24.280596182188567,21.73551335025952,20.75124420243702,22.469524808188133,20.095189250827087,18.148105332691568,17.06626177286887,15.857726914917334,15.168200517413815,13.964187338300535,12.854702162243257,11.916994282278369,11.165838586365261,10.3283159499639,9.81280526189271,9.571257164857563,8.85872384409425,8.10866910886062,7.751526311840286,7.051282059133165,6.501394825247112,5.273789867677626,1.6380657532480973],\"yaxis\":\"y\",\"type\":\"scatter\"},{\"hovertemplate\":\"Routing=ProgDTN Epidemic<br>Time (h)=%{x}<br>CPU (%)=%{y}<extra></extra>\",\"legendgroup\":\"ProgDTN Epidemic\",\"line\":{\"color\":\"#EF553B\",\"dash\":\"solid\"},\"marker\":{\"symbol\":\"circle\"},\"mode\":\"lines\",\"name\":\"ProgDTN Epidemic\",\"orientation\":\"v\",\"showlegend\":true,\"x\":[0.0,0.01666666666666667,0.03333333333333334,0.05,0.06666666666666668,0.08333333333333333,0.1,0.11666666666666667,0.13333333333333336,0.15,0.16666666666666666,0.18333333333333332,0.2,0.21666666666666667,0.23333333333333334,0.25,0.2666666666666667,0.2833333333333334,0.3,0.31666666666666665,0.3333333333333333,0.35,0.36666666666666664,0.38333333333333336,0.4,0.4166666666666667,0.43333333333333335,0.45,0.4666666666666667,0.48333333333333334,0.5,0.5166666666666667,0.5333333333333334,0.55,0.5666666666666668,0.5833333333333334,0.6,0.6166666666666667,0.6333333333333333,0.65,0.6666666666666666,0.6833333333333333,0.7,0.7166666666666667,0.7333333333333333,0.75,0.7666666666666667,0.7833333333333333,0.8,0.8166666666666667,0.8333333333333334,0.85,0.8666666666666667,0.8833333333333333,0.9,0.9166666666666666,0.9333333333333333,0.95,0.9666666666666667,0.9833333333333333,1.0,1.0166666666666668,1.0333333333333334,1.05,1.0666666666666669],\"xaxis\":\"x\",\"y\":[1.7416424731182794,5.455772580645162,6.708737275985663,7.278376164874552,8.027016487455198,8.439425448028674,9.234578315412186,10.008000716845878,10.31544605734767,10.88938870967742,11.78554569892473,12.614814336917563,13.594326523297491,14.80854211469534,16.112445519713262,16.803291039426522,18.112739605734767,19.28420752688172,21.399353225806454,24.086020967741938,22.1093458781362,23.183716308243728,26.148307168458782,25.200733154121863,27.202471146953407,30.19606810035842,30.743110573476702,35.13250250896057,34.7320605734767,33.420918458781365,34.91291200716846,37.80917598566308,40.25867544802867,42.3606211469534,40.16515752688172,42.030579569892474,42.330996774193544,45.506089426523296,47.65945268817204,50.26617598566308,46.66831953405018,46.37783046594982,47.23843225806452,48.68778817204301,50.02835537634408,45.76067956989247,47.51712078853046,49.558595340501796,50.916653405017925,52.43892078853047,48.190837275985665,51.61255053763441,53.6419188172043,53.35322204301075,55.81995985663083,55.04513207885305,56.60911290322581,57.285824372759855,59.96103261648745,62.78822347670251,73.34889571467656,92.47517274288987,63.20767044463819,53.74892321671967,26.069883870967743],\"yaxis\":\"y\",\"type\":\"scatter\"},{\"fill\":\"toself\",\"fillcolor\":\"rgba(25,211,243,.3)\",\"hoverinfo\":\"skip\",\"legendgroup\":\"ProgDTN Emergency\",\"line\":{\"color\":\"rgba(255,255,255,0)\"},\"showlegend\":false,\"x\":[0.0,0.01666666666666667,0.03333333333333334,0.05,0.06666666666666668,0.08333333333333333,0.1,0.11666666666666667,0.13333333333333336,0.15,0.16666666666666666,0.18333333333333332,0.2,0.21666666666666667,0.23333333333333334,0.25,0.2666666666666667,0.2833333333333334,0.3,0.31666666666666665,0.3333333333333333,0.35,0.36666666666666664,0.38333333333333336,0.4,0.4166666666666667,0.43333333333333335,0.45,0.4666666666666667,0.48333333333333334,0.5,0.5166666666666667,0.5333333333333334,0.55,0.5666666666666668,0.5833333333333334,0.6,0.6166666666666667,0.6333333333333333,0.65,0.6666666666666666,0.6833333333333333,0.7,0.7166666666666667,0.7333333333333333,0.75,0.7666666666666667,0.7833333333333333,0.8,0.8166666666666667,0.8333333333333334,0.85,0.8666666666666667,0.8833333333333333,0.9,0.9166666666666666,0.9333333333333333,0.95,0.9666666666666667,0.9833333333333333,1.0,1.0,0.9833333333333333,0.9666666666666667,0.95,0.9333333333333333,0.9166666666666666,0.9,0.8833333333333333,0.8666666666666667,0.85,0.8333333333333334,0.8166666666666667,0.8,0.7833333333333333,0.7666666666666667,0.75,0.7333333333333333,0.7166666666666667,0.7,0.6833333333333333,0.6666666666666666,0.65,0.6333333333333333,0.6166666666666667,0.6,0.5833333333333334,0.5666666666666668,0.55,0.5333333333333334,0.5166666666666667,0.5,0.48333333333333334,0.4666666666666667,0.45,0.43333333333333335,0.4166666666666667,0.4,0.38333333333333336,0.36666666666666664,0.35,0.3333333333333333,0.31666666666666665,0.3,0.2833333333333334,0.2666666666666667,0.25,0.23333333333333334,0.21666666666666667,0.2,0.18333333333333332,0.16666666666666666,0.15,0.13333333333333336,0.11666666666666667,0.1,0.08333333333333333,0.06666666666666668,0.05,0.03333333333333334,0.01666666666666667,0.0],\"xaxis\":\"x\",\"y\":[1.3468337360159028,1.2386467156000054,1.2594142687121233,1.2944692829573248,1.419379729444095,1.4282171163055086,1.5041149142888,1.4725716913384321,1.5738849134425277,1.5785510030986725,1.6567539424887525,1.679767803185583,1.7617217478974774,1.82272923399436,1.847854415959752,1.9153248501347588,1.9604493436320534,1.966068352033334,2.0597932073224468,2.0713041944215798,2.1473188837311485,2.1685363044196504,2.2847979869632544,2.284497685132683,2.242607108529615,2.2461309355808465,2.2818010550255736,2.3157973395603735,2.324462378641619,2.4032949876073575,2.459908768764888,2.475862736870136,2.5847442821175814,2.587262184805573,2.655566857417058,2.7420815766859836,2.7219998110342014,2.8322082207899144,2.841118151574981,2.8607831339244205,2.9357650693325237,3.0328632222313634,3.075592070532636,3.0526259964647986,3.1476703384845437,3.1575301089570145,3.285174653600287,3.2702141201239616,3.2343925645198244,3.387984224202838,3.386990765194591,3.5225083376431603,3.5583525995361756,3.498302433314571,3.5655427875188375,3.570711759023875,3.6588315041492554,3.637967940428176,3.881127808196546,3.8092300331979816,3.960102398394027,3.5201919476213606,3.490801428371115,3.561821614344274,3.342104142407347,3.3609661860140263,3.280075974946654,3.2723341539387496,3.209139621643613,3.268542661316074,3.2323980741449723,3.1117921898034178,3.109932143778046,2.9739304143730463,3.0061156289799813,3.0172347450456702,2.897434845244499,2.8910015054023543,2.8071860306160454,2.82686153360914,2.785226781751114,2.70325444480527,2.630276204984381,2.6144915656691445,2.6042605167648447,2.503804251092441,2.5248706335888067,2.437312075279079,2.3793793922553585,2.3723747939477313,2.2772029740020265,2.2660223343812693,2.2074234512616187,2.142962153417322,2.1354957707542424,2.100695766839991,2.0741567403809507,2.07672696636842,2.1098979396355784,2.108028116114239,2.0044251342158703,1.9821301336956216,1.9098811967538,1.904009165684598,1.8152026898650715,1.8097238117257517,1.7633629511259008,1.7028682388418794,1.6800253080894365,1.625231533526327,1.5539285260691447,1.5259338587719071,1.4467256005349944,1.4393509041325558,1.353130358105553,1.3785994226287628,1.3103785826192225,1.2955120268283062,1.1835203227774425,1.1513656596032886,1.1301790908516074,1.2182415328013014],\"yaxis\":\"y\",\"type\":\"scatter\"},{\"hovertemplate\":\"Routing=ProgDTN Emergency<br>Time (h)=%{x}<br>CPU (%)=%{y}<extra></extra>\",\"legendgroup\":\"ProgDTN Emergency\",\"line\":{\"color\":\"#19D3F3\",\"dash\":\"solid\"},\"marker\":{\"symbol\":\"circle\"},\"mode\":\"lines\",\"name\":\"ProgDTN Emergency\",\"orientation\":\"v\",\"showlegend\":true,\"x\":[0.0,0.01666666666666667,0.03333333333333334,0.05,0.06666666666666668,0.08333333333333333,0.1,0.11666666666666667,0.13333333333333336,0.15,0.16666666666666666,0.18333333333333332,0.2,0.21666666666666667,0.23333333333333334,0.25,0.2666666666666667,0.2833333333333334,0.3,0.31666666666666665,0.3333333333333333,0.35,0.36666666666666664,0.38333333333333336,0.4,0.4166666666666667,0.43333333333333335,0.45,0.4666666666666667,0.48333333333333334,0.5,0.5166666666666667,0.5333333333333334,0.55,0.5666666666666668,0.5833333333333334,0.6,0.6166666666666667,0.6333333333333333,0.65,0.6666666666666666,0.6833333333333333,0.7,0.7166666666666667,0.7333333333333333,0.75,0.7666666666666667,0.7833333333333333,0.8,0.8166666666666667,0.8333333333333334,0.85,0.8666666666666667,0.8833333333333333,0.9,0.9166666666666666,0.9333333333333333,0.95,0.9666666666666667,0.9833333333333333,1.0],\"xaxis\":\"x\",\"y\":[1.2825376344086021,1.1844129032258064,1.205389964157706,1.2389948028673836,1.3574458781362007,1.3692978494623655,1.4413571684587814,1.4128510247219925,1.5066179087875418,1.5126383018168335,1.5913439006303298,1.6168481646273638,1.6934766407119022,1.7513772710418982,1.7753613274008158,1.8393439006303298,1.8850865776789025,1.8906355209492027,1.9819011865035225,1.99059269558769,2.064724508713385,2.0864807193177604,2.1964130515387468,2.1971978123841307,2.1596670374490174,2.1601438379808986,2.1912484109327823,2.225646555157308,2.2337122660294706,2.305359219434488,2.3629655515730787,2.376532855436081,2.4785595380326564,2.483320788530466,2.5464394663480685,2.633476105137395,2.6129020310633213,2.7182343687773796,2.7278048586220627,2.7455296694544007,2.819509757068897,2.9090450019912386,2.951226802070888,2.929906013540422,3.019335921943449,3.0274824771007567,3.1512046993229785,3.1381648745519715,3.1041614894464353,3.248958183990442,3.2493914774990045,3.3774532058940663,3.4134476304261248,3.353721027479092,3.4189384707287935,3.4253938669852646,3.509898845081641,3.4900360414177616,3.72147471127041,3.650015730784548,3.740147173007694],\"yaxis\":\"y\",\"type\":\"scatter\"}],                        {\"template\":{\"data\":{\"bar\":[{\"error_x\":{\"color\":\"#2a3f5f\"},\"error_y\":{\"color\":\"#2a3f5f\"},\"marker\":{\"line\":{\"color\":\"#E5ECF6\",\"width\":0.5},\"pattern\":{\"fillmode\":\"overlay\",\"size\":10,\"solidity\":0.2}},\"type\":\"bar\"}],\"barpolar\":[{\"marker\":{\"line\":{\"color\":\"#E5ECF6\",\"width\":0.5},\"pattern\":{\"fillmode\":\"overlay\",\"size\":10,\"solidity\":0.2}},\"type\":\"barpolar\"}],\"carpet\":[{\"aaxis\":{\"endlinecolor\":\"#2a3f5f\",\"gridcolor\":\"white\",\"linecolor\":\"white\",\"minorgridcolor\":\"white\",\"startlinecolor\":\"#2a3f5f\"},\"baxis\":{\"endlinecolor\":\"#2a3f5f\",\"gridcolor\":\"white\",\"linecolor\":\"white\",\"minorgridcolor\":\"white\",\"startlinecolor\":\"#2a3f5f\"},\"type\":\"carpet\"}],\"choropleth\":[{\"colorbar\":{\"outlinewidth\":0,\"ticks\":\"\"},\"type\":\"choropleth\"}],\"contour\":[{\"colorbar\":{\"outlinewidth\":0,\"ticks\":\"\"},\"colorscale\":[[0.0,\"#0d0887\"],[0.1111111111111111,\"#46039f\"],[0.2222222222222222,\"#7201a8\"],[0.3333333333333333,\"#9c179e\"],[0.4444444444444444,\"#bd3786\"],[0.5555555555555556,\"#d8576b\"],[0.6666666666666666,\"#ed7953\"],[0.7777777777777778,\"#fb9f3a\"],[0.8888888888888888,\"#fdca26\"],[1.0,\"#f0f921\"]],\"type\":\"contour\"}],\"contourcarpet\":[{\"colorbar\":{\"outlinewidth\":0,\"ticks\":\"\"},\"type\":\"contourcarpet\"}],\"heatmap\":[{\"colorbar\":{\"outlinewidth\":0,\"ticks\":\"\"},\"colorscale\":[[0.0,\"#0d0887\"],[0.1111111111111111,\"#46039f\"],[0.2222222222222222,\"#7201a8\"],[0.3333333333333333,\"#9c179e\"],[0.4444444444444444,\"#bd3786\"],[0.5555555555555556,\"#d8576b\"],[0.6666666666666666,\"#ed7953\"],[0.7777777777777778,\"#fb9f3a\"],[0.8888888888888888,\"#fdca26\"],[1.0,\"#f0f921\"]],\"type\":\"heatmap\"}],\"heatmapgl\":[{\"colorbar\":{\"outlinewidth\":0,\"ticks\":\"\"},\"colorscale\":[[0.0,\"#0d0887\"],[0.1111111111111111,\"#46039f\"],[0.2222222222222222,\"#7201a8\"],[0.3333333333333333,\"#9c179e\"],[0.4444444444444444,\"#bd3786\"],[0.5555555555555556,\"#d8576b\"],[0.6666666666666666,\"#ed7953\"],[0.7777777777777778,\"#fb9f3a\"],[0.8888888888888888,\"#fdca26\"],[1.0,\"#f0f921\"]],\"type\":\"heatmapgl\"}],\"histogram\":[{\"marker\":{\"pattern\":{\"fillmode\":\"overlay\",\"size\":10,\"solidity\":0.2}},\"type\":\"histogram\"}],\"histogram2d\":[{\"colorbar\":{\"outlinewidth\":0,\"ticks\":\"\"},\"colorscale\":[[0.0,\"#0d0887\"],[0.1111111111111111,\"#46039f\"],[0.2222222222222222,\"#7201a8\"],[0.3333333333333333,\"#9c179e\"],[0.4444444444444444,\"#bd3786\"],[0.5555555555555556,\"#d8576b\"],[0.6666666666666666,\"#ed7953\"],[0.7777777777777778,\"#fb9f3a\"],[0.8888888888888888,\"#fdca26\"],[1.0,\"#f0f921\"]],\"type\":\"histogram2d\"}],\"histogram2dcontour\":[{\"colorbar\":{\"outlinewidth\":0,\"ticks\":\"\"},\"colorscale\":[[0.0,\"#0d0887\"],[0.1111111111111111,\"#46039f\"],[0.2222222222222222,\"#7201a8\"],[0.3333333333333333,\"#9c179e\"],[0.4444444444444444,\"#bd3786\"],[0.5555555555555556,\"#d8576b\"],[0.6666666666666666,\"#ed7953\"],[0.7777777777777778,\"#fb9f3a\"],[0.8888888888888888,\"#fdca26\"],[1.0,\"#f0f921\"]],\"type\":\"histogram2dcontour\"}],\"mesh3d\":[{\"colorbar\":{\"outlinewidth\":0,\"ticks\":\"\"},\"type\":\"mesh3d\"}],\"parcoords\":[{\"line\":{\"colorbar\":{\"outlinewidth\":0,\"ticks\":\"\"}},\"type\":\"parcoords\"}],\"pie\":[{\"automargin\":true,\"type\":\"pie\"}],\"scatter\":[{\"marker\":{\"colorbar\":{\"outlinewidth\":0,\"ticks\":\"\"}},\"type\":\"scatter\"}],\"scatter3d\":[{\"line\":{\"colorbar\":{\"outlinewidth\":0,\"ticks\":\"\"}},\"marker\":{\"colorbar\":{\"outlinewidth\":0,\"ticks\":\"\"}},\"type\":\"scatter3d\"}],\"scattercarpet\":[{\"marker\":{\"colorbar\":{\"outlinewidth\":0,\"ticks\":\"\"}},\"type\":\"scattercarpet\"}],\"scattergeo\":[{\"marker\":{\"colorbar\":{\"outlinewidth\":0,\"ticks\":\"\"}},\"type\":\"scattergeo\"}],\"scattergl\":[{\"marker\":{\"colorbar\":{\"outlinewidth\":0,\"ticks\":\"\"}},\"type\":\"scattergl\"}],\"scattermapbox\":[{\"marker\":{\"colorbar\":{\"outlinewidth\":0,\"ticks\":\"\"}},\"type\":\"scattermapbox\"}],\"scatterpolar\":[{\"marker\":{\"colorbar\":{\"outlinewidth\":0,\"ticks\":\"\"}},\"type\":\"scatterpolar\"}],\"scatterpolargl\":[{\"marker\":{\"colorbar\":{\"outlinewidth\":0,\"ticks\":\"\"}},\"type\":\"scatterpolargl\"}],\"scatterternary\":[{\"marker\":{\"colorbar\":{\"outlinewidth\":0,\"ticks\":\"\"}},\"type\":\"scatterternary\"}],\"surface\":[{\"colorbar\":{\"outlinewidth\":0,\"ticks\":\"\"},\"colorscale\":[[0.0,\"#0d0887\"],[0.1111111111111111,\"#46039f\"],[0.2222222222222222,\"#7201a8\"],[0.3333333333333333,\"#9c179e\"],[0.4444444444444444,\"#bd3786\"],[0.5555555555555556,\"#d8576b\"],[0.6666666666666666,\"#ed7953\"],[0.7777777777777778,\"#fb9f3a\"],[0.8888888888888888,\"#fdca26\"],[1.0,\"#f0f921\"]],\"type\":\"surface\"}],\"table\":[{\"cells\":{\"fill\":{\"color\":\"#EBF0F8\"},\"line\":{\"color\":\"white\"}},\"header\":{\"fill\":{\"color\":\"#C8D4E3\"},\"line\":{\"color\":\"white\"}},\"type\":\"table\"}]},\"layout\":{\"annotationdefaults\":{\"arrowcolor\":\"#2a3f5f\",\"arrowhead\":0,\"arrowwidth\":1},\"autotypenumbers\":\"strict\",\"coloraxis\":{\"colorbar\":{\"outlinewidth\":0,\"ticks\":\"\"}},\"colorscale\":{\"diverging\":[[0,\"#8e0152\"],[0.1,\"#c51b7d\"],[0.2,\"#de77ae\"],[0.3,\"#f1b6da\"],[0.4,\"#fde0ef\"],[0.5,\"#f7f7f7\"],[0.6,\"#e6f5d0\"],[0.7,\"#b8e186\"],[0.8,\"#7fbc41\"],[0.9,\"#4d9221\"],[1,\"#276419\"]],\"sequential\":[[0.0,\"#0d0887\"],[0.1111111111111111,\"#46039f\"],[0.2222222222222222,\"#7201a8\"],[0.3333333333333333,\"#9c179e\"],[0.4444444444444444,\"#bd3786\"],[0.5555555555555556,\"#d8576b\"],[0.6666666666666666,\"#ed7953\"],[0.7777777777777778,\"#fb9f3a\"],[0.8888888888888888,\"#fdca26\"],[1.0,\"#f0f921\"]],\"sequentialminus\":[[0.0,\"#0d0887\"],[0.1111111111111111,\"#46039f\"],[0.2222222222222222,\"#7201a8\"],[0.3333333333333333,\"#9c179e\"],[0.4444444444444444,\"#bd3786\"],[0.5555555555555556,\"#d8576b\"],[0.6666666666666666,\"#ed7953\"],[0.7777777777777778,\"#fb9f3a\"],[0.8888888888888888,\"#fdca26\"],[1.0,\"#f0f921\"]]},\"colorway\":[\"#636efa\",\"#EF553B\",\"#00cc96\",\"#ab63fa\",\"#FFA15A\",\"#19d3f3\",\"#FF6692\",\"#B6E880\",\"#FF97FF\",\"#FECB52\"],\"font\":{\"color\":\"#2a3f5f\"},\"geo\":{\"bgcolor\":\"white\",\"lakecolor\":\"white\",\"landcolor\":\"#E5ECF6\",\"showlakes\":true,\"showland\":true,\"subunitcolor\":\"white\"},\"hoverlabel\":{\"align\":\"left\"},\"hovermode\":\"closest\",\"mapbox\":{\"style\":\"light\"},\"paper_bgcolor\":\"white\",\"plot_bgcolor\":\"#E5ECF6\",\"polar\":{\"angularaxis\":{\"gridcolor\":\"white\",\"linecolor\":\"white\",\"ticks\":\"\"},\"bgcolor\":\"#E5ECF6\",\"radialaxis\":{\"gridcolor\":\"white\",\"linecolor\":\"white\",\"ticks\":\"\"}},\"scene\":{\"xaxis\":{\"backgroundcolor\":\"#E5ECF6\",\"gridcolor\":\"white\",\"gridwidth\":2,\"linecolor\":\"white\",\"showbackground\":true,\"ticks\":\"\",\"zerolinecolor\":\"white\"},\"yaxis\":{\"backgroundcolor\":\"#E5ECF6\",\"gridcolor\":\"white\",\"gridwidth\":2,\"linecolor\":\"white\",\"showbackground\":true,\"ticks\":\"\",\"zerolinecolor\":\"white\"},\"zaxis\":{\"backgroundcolor\":\"#E5ECF6\",\"gridcolor\":\"white\",\"gridwidth\":2,\"linecolor\":\"white\",\"showbackground\":true,\"ticks\":\"\",\"zerolinecolor\":\"white\"}},\"shapedefaults\":{\"line\":{\"color\":\"#2a3f5f\"}},\"ternary\":{\"aaxis\":{\"gridcolor\":\"white\",\"linecolor\":\"white\",\"ticks\":\"\"},\"baxis\":{\"gridcolor\":\"white\",\"linecolor\":\"white\",\"ticks\":\"\"},\"bgcolor\":\"#E5ECF6\",\"caxis\":{\"gridcolor\":\"white\",\"linecolor\":\"white\",\"ticks\":\"\"}},\"title\":{\"x\":0.05},\"xaxis\":{\"automargin\":true,\"gridcolor\":\"white\",\"linecolor\":\"white\",\"ticks\":\"\",\"title\":{\"standoff\":15},\"zerolinecolor\":\"white\",\"zerolinewidth\":2},\"yaxis\":{\"automargin\":true,\"gridcolor\":\"white\",\"linecolor\":\"white\",\"ticks\":\"\",\"title\":{\"standoff\":15},\"zerolinecolor\":\"white\",\"zerolinewidth\":2}}},\"xaxis\":{\"anchor\":\"y\",\"domain\":[0.0,1.0],\"title\":{\"text\":\"Time (h)\"},\"range\":[0,1]},\"yaxis\":{\"anchor\":\"x\",\"domain\":[0.0,1.0],\"title\":{\"text\":\"CPU (%)\"}},\"legend\":{\"title\":{\"text\":\"Routing\"},\"tracegroupgap\":0},\"margin\":{\"b\":10,\"l\":10,\"r\":10,\"t\":15},\"width\":800,\"height\":200},                        {\"responsive\": true}                    ).then(function(){\n",
       "                            \n",
       "var gd = document.getElementById('2ad4ac85-5d85-4e08-b955-f48684f967f4');\n",
       "var x = new MutationObserver(function (mutations, observer) {{\n",
       "        var display = window.getComputedStyle(gd).display;\n",
       "        if (!display || display === 'none') {{\n",
       "            console.log([gd, 'removed!']);\n",
       "            Plotly.purge(gd);\n",
       "            observer.disconnect();\n",
       "        }}\n",
       "}});\n",
       "\n",
       "// Listen for the removal of the full notebook cells\n",
       "var notebookContainer = gd.closest('#notebook-container');\n",
       "if (notebookContainer) {{\n",
       "    x.observe(notebookContainer, {childList: true});\n",
       "}}\n",
       "\n",
       "// Listen for the clearing of the current output cell\n",
       "var outputEl = gd.closest('.output');\n",
       "if (outputEl) {{\n",
       "    x.observe(outputEl, {childList: true});\n",
       "}}\n",
       "\n",
       "                        })                };                });            </script>        </div>"
      ]
     },
     "metadata": {},
     "output_type": "display_data"
    }
   ],
   "source": [
    "fig = error_band_line(\n",
    "    data_frame=cleared_mean,\n",
    "    x=cleared_mean[\"dt\"].dt.total_seconds() / 3600, \n",
    "    y=\"%CPU\",\n",
    "    error_y=cleared_std[\"%CPU\"],\n",
    "    error_y_mode=\"band\",\n",
    "    color=\"routing\",\n",
    "    color_discrete_map=routing_color_map,\n",
    "    category_orders={\n",
    "        \"routing\": [\"Epidemic\", \"ProgDTN Epidemic\", \"ProgDTN Emergency\"],\n",
    "    },\n",
    "    labels={\n",
    "        \"x\": \"Time (h)\",\n",
    "        \"routing\": \"Routing\",\n",
    "        \"%CPU\": \"CPU (%)\"\n",
    "    },\n",
    ")\n",
    "\n",
    "fig.layout.margin = go.layout.Margin(l=10, r=10, b=10, t=15)\n",
    "fig.update_layout(width=800, height=200, xaxis_range=[0,1])\n",
    "\n",
    "fig.write_image(\"/storage/research_data/sommer2020cadr/maci-docker-compose/maci_data/evaluation/paper/figures/cpu.pdf\")\n",
    "fig.show()"
   ]
  }
 ],
 "metadata": {
  "kernelspec": {
   "display_name": "Python 3",
   "language": "python",
   "name": "python3"
  },
  "language_info": {
   "codemirror_mode": {
    "name": "ipython",
    "version": 3
   },
   "file_extension": ".py",
   "mimetype": "text/x-python",
   "name": "python",
   "nbconvert_exporter": "python",
   "pygments_lexer": "ipython3",
   "version": "3.8.10"
  }
 },
 "nbformat": 4,
 "nbformat_minor": 4
}
