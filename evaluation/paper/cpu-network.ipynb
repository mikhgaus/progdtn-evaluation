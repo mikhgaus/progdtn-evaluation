{
 "cells": [
  {
   "cell_type": "code",
   "execution_count": 2,
   "metadata": {},
   "outputs": [],
   "source": [
    "%load_ext autoreload\n",
    "%autoreload 2\n",
    "\n",
    "import pathlib\n",
    "\n",
    "import pandas as pd\n",
    "pd.set_option('display.float_format', lambda x: '%.1f' % x)\n",
    "\n",
    "import seaborn as sns\n",
    "import matplotlib.pyplot as plt\n",
    "plt.rcParams[\"font.size\"] = \"20\"\n",
    "\n",
    "from data_handlers.network import parse_bwms\n",
    "from data_handlers.procmem import parse_pidstat"
   ]
  },
  {
   "cell_type": "code",
   "execution_count": 3,
   "metadata": {},
   "outputs": [],
   "source": [
    "experiment_path = pathlib.Path(f\"/home/jovyan/work/binary_files\")"
   ]
  },
  {
   "cell_type": "code",
   "execution_count": 4,
   "metadata": {},
   "outputs": [],
   "source": [
    "network_df = parse_bwms(experiment_path)"
   ]
  },
  {
   "cell_type": "code",
   "execution_count": 5,
   "metadata": {},
   "outputs": [
    {
     "data": {
      "text/plain": [
       "array(['binary_spray', 'prophet', 'dtlsr', 'epidemic', 'context_epidemic',\n",
       "       'context_spray', 'context_complex'], dtype=object)"
      ]
     },
     "execution_count": 5,
     "metadata": {},
     "output_type": "execute_result"
    }
   ],
   "source": [
    "network_df.reset_index().routing.unique()"
   ]
  },
  {
   "cell_type": "code",
   "execution_count": 6,
   "metadata": {},
   "outputs": [],
   "source": [
    "procmem_df = parse_pidstat(experiment_path)"
   ]
  },
  {
   "cell_type": "code",
   "execution_count": 7,
   "metadata": {},
   "outputs": [
    {
     "data": {
      "text/plain": [
       "array(['binary_spray', 'prophet', 'dtlsr', 'epidemic', 'context_epidemic',\n",
       "       'context_spray', 'context_complex'], dtype=object)"
      ]
     },
     "execution_count": 7,
     "metadata": {},
     "output_type": "execute_result"
    }
   ],
   "source": [
    "procmem_df.reset_index().routing.unique()"
   ]
  },
  {
   "cell_type": "code",
   "execution_count": 8,
   "metadata": {},
   "outputs": [],
   "source": [
    "merged = procmem_df.merge(network_df, left_index=True, right_index=True).reset_index()"
   ]
  },
  {
   "cell_type": "code",
   "execution_count": 9,
   "metadata": {},
   "outputs": [
    {
     "name": "stderr",
     "output_type": "stream",
     "text": [
      "/opt/conda/lib/python3.7/site-packages/ipykernel_launcher.py:2: SettingWithCopyWarning: \n",
      "A value is trying to be set on a copy of a slice from a DataFrame.\n",
      "Try using .loc[row_indexer,col_indexer] = value instead\n",
      "\n",
      "See the caveats in the documentation: https://pandas.pydata.org/pandas-docs/stable/user_guide/indexing.html#returning-a-view-versus-a-copy\n",
      "  \n",
      "/opt/conda/lib/python3.7/site-packages/pandas/core/indexing.py:966: SettingWithCopyWarning: \n",
      "A value is trying to be set on a copy of a slice from a DataFrame.\n",
      "Try using .loc[row_indexer,col_indexer] = value instead\n",
      "\n",
      "See the caveats in the documentation: https://pandas.pydata.org/pandas-docs/stable/user_guide/indexing.html#returning-a-view-versus-a-copy\n",
      "  self.obj[item] = s\n"
     ]
    }
   ],
   "source": [
    "cleared = merged[(merged['routing'] != \"context_complex\") & (merged['routing'] != \"dtlsr\") & (merged['routing'] != \"prophet\")]\n",
    "cleared['%CPU'] = (cleared['%CPU'] - cleared['%CPU'].min()) / (cleared['%CPU'].max() - cleared['%CPU'].min())\n",
    "cleared.loc[cleared['routing'] == 'epidemic', 'routing'] = 'a'\n",
    "cleared.loc[cleared['routing'] == 'context_epidemic', 'routing'] = 'b'\n",
    "cleared.loc[cleared['routing'] == 'binary_spray', 'routing'] = 'c'\n",
    "cleared.loc[cleared['routing'] == 'context_spray', 'routing'] = 'd'"
   ]
  },
  {
   "cell_type": "code",
   "execution_count": null,
   "metadata": {},
   "outputs": [
    {
     "name": "stdout",
     "output_type": "stream",
     "text": [
      "Starting a\n",
      "Plotting bandwidth for Epidemic\n",
      "Plotting CPU for Epidemic\n",
      "Starting b\n",
      "Plotting bandwidth for Software Defined Epidemic\n"
     ]
    }
   ],
   "source": [
    "fig, axs = plt.subplots(nrows=2, ncols=2)\n",
    "plt.subplots_adjust(wspace=.3, hspace=.4)\n",
    "\n",
    "fig.set_size_inches(15,10)\n",
    "\n",
    "color_mbit = 'C0'\n",
    "color_cpu = 'C1'\n",
    "\n",
    "for ax, (name, routing_df) in zip(list(axs[0]) + list(axs[1]), cleared.groupby(['routing'])):\n",
    "    print(f\"Starting {name}\")\n",
    "    ax.tick_params(axis='y', labelcolor=color_mbit)\n",
    "    ax.set_xlim(-10, 3700)\n",
    "    ax.set_ylim(0.01, 320)\n",
    "    \n",
    "    if name == \"c\":\n",
    "        name = \"Binary Spray & Wait\"\n",
    "    if name == \"b\":\n",
    "        name = \"Software Defined Epidemic\"\n",
    "    if name == \"d\":\n",
    "        name = \"Software Defined Binary Spray & Wait\"\n",
    "    if name == \"a\":\n",
    "        name = \"Epidemic\"\n",
    "    ax.set_title(name, fontsize=20)\n",
    "    \n",
    "    ax2 = ax.twinx()\n",
    "    ax2.tick_params(axis='y', labelcolor=color_cpu)\n",
    "    ax2.set_ylim(.01, .2)\n",
    "                    \n",
    "    routing_df = routing_df.reset_index()\n",
    "    \n",
    "    #routing_df = routing_df.sample(1000)\n",
    "\n",
    "    print(f\"Plotting bandwidth for {name}\")\n",
    "    sns.lineplot(\n",
    "        x=routing_df['dt'],\n",
    "        y=routing_df['Mbit/s'].rolling(100).mean(),\n",
    "        ax=ax,\n",
    "        color=color_mbit\n",
    "    )\n",
    "\n",
    "    print(f\"Plotting CPU for {name}\")\n",
    "    sns.lineplot(\n",
    "        x=routing_df['dt'],\n",
    "        y=routing_df['%CPU'].rolling(100).mean(),\n",
    "        ax=ax2,\n",
    "        color=color_cpu\n",
    "    )\n",
    "\n",
    "    if ax.figbox.x0 == 0.125: #Just some magic number. You can find it with print(ax.figbox)\n",
    "        ax.set_ylabel('Mbit/s', color=color_mbit)\n",
    "        ax2.set_ylabel('')\n",
    "    if ax.figbox.x0 == 0.5630434782608696: #Just some magic number. You can find it with print(ax.figbox)\n",
    "        ax.set_ylabel('', color=color_mbit)\n",
    "        ax2.set_ylabel('%CPU', color=color_cpu)\n",
    "\n",
    "    if ax.figbox.y0 == 0.125: #Just some magic number. You can find it with print(ax.figbox)\n",
    "        ax.set_xlabel('Time (s)')\n",
    "    if ax.figbox.y0 == 0.5654166666666667: #Just some magic number. You can find it with print(ax.figbox)\n",
    "        ax.set_xlabel('')\n",
    "        \n",
    "    ttl = ax.title\n",
    "    ttl.set_position([.5, 1.05])\n",
    "                        \n",
    "plt.savefig('cpu_network.pdf')\n",
    "#plt.show()"
   ]
  }
 ],
 "metadata": {
  "kernelspec": {
   "display_name": "Python 3",
   "language": "python",
   "name": "python3"
  },
  "language_info": {
   "codemirror_mode": {
    "name": "ipython",
    "version": 3
   },
   "file_extension": ".py",
   "mimetype": "text/x-python",
   "name": "python",
   "nbconvert_exporter": "python",
   "pygments_lexer": "ipython3",
   "version": "3.7.6"
  }
 },
 "nbformat": 4,
 "nbformat_minor": 4
}
