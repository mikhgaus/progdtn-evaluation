{
 "cells": [
  {
   "cell_type": "code",
   "execution_count": 1,
   "metadata": {},
   "outputs": [],
   "source": [
    "EXPERIMENT_ID = \"epidemic\""
   ]
  },
  {
   "cell_type": "code",
   "execution_count": 2,
   "metadata": {},
   "outputs": [],
   "source": [
    "%load_ext autoreload\n",
    "%autoreload 2\n",
    "\n",
    "import pathlib\n",
    "\n",
    "import pandas as pd\n",
    "pd.set_option('display.float_format', lambda x: '%.1f' % x)\n",
    "\n",
    "import seaborn as sns\n",
    "import matplotlib.pyplot as plt\n",
    "plt.rcParams[\"font.size\"] = \"20\"\n",
    "\n",
    "from data_handlers.network import parse_bwms\n",
    "from data_handlers.procmem import parse_pidstat"
   ]
  },
  {
   "cell_type": "code",
   "execution_count": 3,
   "metadata": {},
   "outputs": [],
   "source": [
    "experiment_path = pathlib.Path(f\"/home/jovyan/work/binary_files/{EXPERIMENT_ID}\")"
   ]
  },
  {
   "cell_type": "code",
   "execution_count": 4,
   "metadata": {},
   "outputs": [],
   "source": [
    "network_df = parse_bwms(experiment_path)"
   ]
  },
  {
   "cell_type": "code",
   "execution_count": 5,
   "metadata": {},
   "outputs": [],
   "source": [
    "procmem_df = parse_pidstat(experiment_path)"
   ]
  },
  {
   "cell_type": "code",
   "execution_count": 6,
   "metadata": {},
   "outputs": [],
   "source": [
    "df_groups = ['id', 'routing', 'node', 'dt']"
   ]
  },
  {
   "cell_type": "code",
   "execution_count": 7,
   "metadata": {},
   "outputs": [],
   "source": [
    "clean_network = network_df.groupby(['id', 'routing', 'dt']).sum()\n",
    "clean_network['Mbit/s'] = clean_network['bytes_out/s'] / 1024 / 1024 * 8"
   ]
  },
  {
   "cell_type": "code",
   "execution_count": 8,
   "metadata": {},
   "outputs": [
    {
     "data": {
      "text/html": [
       "<div>\n",
       "<style scoped>\n",
       "    .dataframe tbody tr th:only-of-type {\n",
       "        vertical-align: middle;\n",
       "    }\n",
       "\n",
       "    .dataframe tbody tr th {\n",
       "        vertical-align: top;\n",
       "    }\n",
       "\n",
       "    .dataframe thead th {\n",
       "        text-align: right;\n",
       "    }\n",
       "</style>\n",
       "<table border=\"1\" class=\"dataframe\">\n",
       "  <thead>\n",
       "    <tr style=\"text-align: right;\">\n",
       "      <th></th>\n",
       "      <th></th>\n",
       "      <th></th>\n",
       "      <th>level_0</th>\n",
       "      <th>index</th>\n",
       "      <th>bytes_out/s</th>\n",
       "      <th>Mbit/s</th>\n",
       "    </tr>\n",
       "    <tr>\n",
       "      <th>id</th>\n",
       "      <th>routing</th>\n",
       "      <th>dt</th>\n",
       "      <th></th>\n",
       "      <th></th>\n",
       "      <th></th>\n",
       "      <th></th>\n",
       "    </tr>\n",
       "  </thead>\n",
       "  <tbody>\n",
       "    <tr>\n",
       "      <th rowspan=\"5\" valign=\"top\">1</th>\n",
       "      <th rowspan=\"5\" valign=\"top\">epidemic</th>\n",
       "      <th>0.0</th>\n",
       "      <td>0</td>\n",
       "      <td>2</td>\n",
       "      <td>0.0</td>\n",
       "      <td>0.0</td>\n",
       "    </tr>\n",
       "    <tr>\n",
       "      <th>0.0</th>\n",
       "      <td>1</td>\n",
       "      <td>2</td>\n",
       "      <td>0.0</td>\n",
       "      <td>0.0</td>\n",
       "    </tr>\n",
       "    <tr>\n",
       "      <th>0.0</th>\n",
       "      <td>2</td>\n",
       "      <td>2</td>\n",
       "      <td>0.0</td>\n",
       "      <td>0.0</td>\n",
       "    </tr>\n",
       "    <tr>\n",
       "      <th>0.0</th>\n",
       "      <td>3</td>\n",
       "      <td>2</td>\n",
       "      <td>0.0</td>\n",
       "      <td>0.0</td>\n",
       "    </tr>\n",
       "    <tr>\n",
       "      <th>0.1</th>\n",
       "      <td>4</td>\n",
       "      <td>2</td>\n",
       "      <td>0.0</td>\n",
       "      <td>0.0</td>\n",
       "    </tr>\n",
       "    <tr>\n",
       "      <th>...</th>\n",
       "      <th>...</th>\n",
       "      <th>...</th>\n",
       "      <td>...</td>\n",
       "      <td>...</td>\n",
       "      <td>...</td>\n",
       "      <td>...</td>\n",
       "    </tr>\n",
       "    <tr>\n",
       "      <th rowspan=\"5\" valign=\"top\">5</th>\n",
       "      <th rowspan=\"5\" valign=\"top\">epidemic</th>\n",
       "      <th>3615.0</th>\n",
       "      <td>180692</td>\n",
       "      <td>10844</td>\n",
       "      <td>6578688.0</td>\n",
       "      <td>50.2</td>\n",
       "    </tr>\n",
       "    <tr>\n",
       "      <th>3615.1</th>\n",
       "      <td>180693</td>\n",
       "      <td>10844</td>\n",
       "      <td>66.0</td>\n",
       "      <td>0.0</td>\n",
       "    </tr>\n",
       "    <tr>\n",
       "      <th>3615.2</th>\n",
       "      <td>180694</td>\n",
       "      <td>10844</td>\n",
       "      <td>163740.0</td>\n",
       "      <td>1.2</td>\n",
       "    </tr>\n",
       "    <tr>\n",
       "      <th>3615.2</th>\n",
       "      <td>180695</td>\n",
       "      <td>10844</td>\n",
       "      <td>117786.0</td>\n",
       "      <td>0.9</td>\n",
       "    </tr>\n",
       "    <tr>\n",
       "      <th>3615.2</th>\n",
       "      <td>180696</td>\n",
       "      <td>10844</td>\n",
       "      <td>146576.0</td>\n",
       "      <td>1.1</td>\n",
       "    </tr>\n",
       "  </tbody>\n",
       "</table>\n",
       "<p>903057 rows × 4 columns</p>\n",
       "</div>"
      ],
      "text/plain": [
       "                    level_0  index  bytes_out/s  Mbit/s\n",
       "id routing  dt                                         \n",
       "1  epidemic 0.0           0      2          0.0     0.0\n",
       "            0.0           1      2          0.0     0.0\n",
       "            0.0           2      2          0.0     0.0\n",
       "            0.0           3      2          0.0     0.0\n",
       "            0.1           4      2          0.0     0.0\n",
       "...                     ...    ...          ...     ...\n",
       "5  epidemic 3615.0   180692  10844    6578688.0    50.2\n",
       "            3615.1   180693  10844         66.0     0.0\n",
       "            3615.2   180694  10844     163740.0     1.2\n",
       "            3615.2   180695  10844     117786.0     0.9\n",
       "            3615.2   180696  10844     146576.0     1.1\n",
       "\n",
       "[903057 rows x 4 columns]"
      ]
     },
     "execution_count": 8,
     "metadata": {},
     "output_type": "execute_result"
    }
   ],
   "source": [
    "clean_network"
   ]
  },
  {
   "cell_type": "code",
   "execution_count": 9,
   "metadata": {},
   "outputs": [],
   "source": [
    "clean_procmem = procmem_df.groupby(['id', 'routing', 'dt']).sum()\n",
    "clean_procmem = clean_procmem[['%CPU', 'RSS']]"
   ]
  },
  {
   "cell_type": "code",
   "execution_count": 10,
   "metadata": {},
   "outputs": [],
   "source": [
    "merged = clean_network.merge(clean_procmem, left_index=True, right_index=True)"
   ]
  },
  {
   "cell_type": "code",
   "execution_count": 11,
   "metadata": {},
   "outputs": [
    {
     "data": {
      "image/png": "[encoded data removed]",
      "text/plain": [
       "<Figure size 1080x720 with 5 Axes>"
      ]
     },
     "metadata": {},
     "output_type": "display_data"
    }
   ],
   "source": [
    "fig, axs = plt.subplots(nrows=2, ncols=2)\n",
    "plt.subplots_adjust(wspace=.1, hspace=.3)\n",
    "\n",
    "fig.set_size_inches(15,10)\n",
    "\n",
    "color_mbit = 'C0'\n",
    "color_cpu = 'C1'\n",
    "\n",
    "for ax, (name, routing_df) in zip(list(axs[0]) + list(axs[1]), clean_procmem.groupby(['routing'])):\n",
    "    #ax.tick_params(axis='y', labelcolor=color_mbit)\n",
    "    #ax.set_xlim(-10, 210)\n",
    "    #ax.set_ylim(0.01, 101)\n",
    "    #ax.set_title(name)\n",
    "    \n",
    "    ax2 = ax.twinx()\n",
    "    ax2.tick_params(axis='y', labelcolor=color_cpu)\n",
    "    #ax2.set_ylim(0.01, 200)\n",
    "                    \n",
    "    routing_df = routing_df.reset_index()\n",
    "\n",
    "    #sns.lineplot(\n",
    "    #    x=routing_df['dt'],\n",
    "    #    y=routing_df['Mbit/s'].rolling(1000).mean(),\n",
    "    #    ax=ax,\n",
    "    #    color=color_mbit\n",
    "    #)\n",
    "\n",
    "    sns.lineplot(\n",
    "        x=routing_df['dt'],\n",
    "        y=routing_df['%CPU'].rolling(10).mean(),\n",
    "        ax=ax2,\n",
    "        color=color_cpu\n",
    "    )\n",
    "\n",
    "    #ax.set_ylabel('Mbit/s', color=color_mbit)\n",
    "    ax2.set_ylabel('%CPU', color=color_cpu)\n",
    "                        \n",
    "plt.savefig('cpu_network.pdf')\n",
    "#plt.show()"
   ]
  }
 ],
 "metadata": {
  "kernelspec": {
   "display_name": "Python 3",
   "language": "python",
   "name": "python3"
  },
  "language_info": {
   "codemirror_mode": {
    "name": "ipython",
    "version": 3
   },
   "file_extension": ".py",
   "mimetype": "text/x-python",
   "name": "python",
   "nbconvert_exporter": "python",
   "pygments_lexer": "ipython3",
   "version": "3.7.6"
  }
 },
 "nbformat": 4,
 "nbformat_minor": 4
}
