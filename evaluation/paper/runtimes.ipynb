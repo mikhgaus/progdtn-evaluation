{
 "cells": [
  {
   "cell_type": "code",
   "execution_count": 1,
   "metadata": {},
   "outputs": [],
   "source": [
    "%load_ext autoreload\n",
    "%autoreload 2\n",
    "\n",
    "import pathlib\n",
    "from datetime import timedelta\n",
    "from typing import List, Dict\n",
    "import random\n",
    "\n",
    "import pandas as pd\n",
    "pd.set_option('display.max_rows', None)\n",
    "import numpy as np\n",
    "\n",
    "import matplotlib.pyplot as plt\n",
    "import matplotlib\n",
    "import seaborn as sns\n",
    "sns.set()\n",
    "colors = ['C0', 'C1', 'C2', 'C3', 'C4', 'C5', 'C6', 'C7', 'C8', 'C9']\n",
    "sns.set_palette(sns.color_palette(colors))\n",
    "\n",
    "from data_handlers.runtimes import *\n",
    "from data_handlers.preprocessors import node_types"
   ]
  },
  {
   "cell_type": "code",
   "execution_count": 2,
   "metadata": {},
   "outputs": [],
   "source": [
    "experiment_path = pathlib.Path(f\"/home/jovyan/work/binary_files/142/\")\n",
    "\n",
    "color_mapping = {\n",
    "    'Epidemic': 'C0',\n",
    "    'Software Defined Complex': 'C1',\n",
    "}\n",
    "\n",
    "groups = [\n",
    "    [\"Epidemic\", \"Software Defined Complex\"]\n",
    "]\n",
    "\n",
    "order = [\"Epidemic\", 'Software Defined Complex']"
   ]
  },
  {
   "cell_type": "code",
   "execution_count": 3,
   "metadata": {},
   "outputs": [],
   "source": [
    "def progress_bar(current, maximum):\n",
    "    executed_percent = int(round((current / maximum) * 100))\n",
    "    print(f\"\\r[\", end=\"\")\n",
    "    print(f\"#\" * executed_percent, end=\"\")\n",
    "    print(f\"_\" * (100 - executed_percent), end=\"\")\n",
    "    print(f\"]\", end=\"\")\n",
    "    \n",
    "    if executed_percent == 100:\n",
    "        print(f\" Done\", end=\"\")\n",
    "    else:\n",
    "        print(f\" {executed_percent}%\", end=\"\")"
   ]
  },
  {
   "cell_type": "markdown",
   "metadata": {},
   "source": [
    "# Parse Experiments"
   ]
  },
  {
   "cell_type": "code",
   "execution_count": 4,
   "metadata": {},
   "outputs": [
    {
     "name": "stdout",
     "output_type": "stream",
     "text": [
      "Parsing /home/jovyan/work/binary_files/142/ids/1739\n",
      "Parsing done\n"
     ]
    }
   ],
   "source": [
    "raw_events = parse_bundle_events(experiment_path)"
   ]
  },
  {
   "cell_type": "code",
   "execution_count": 5,
   "metadata": {},
   "outputs": [],
   "source": [
    "types = node_types(scenario_path=\"/home/jovyan/work/scenarios/responders/responders.xml\")\n",
    "type_frame = pd.DataFrame(types.items(), columns=[\"node\", \"node_type\"])"
   ]
  },
  {
   "cell_type": "code",
   "execution_count": 6,
   "metadata": {},
   "outputs": [],
   "source": [
    "merged_df = raw_events.merge(type_frame, how=\"left\", on=\"node\")"
   ]
  },
  {
   "cell_type": "code",
   "execution_count": 7,
   "metadata": {},
   "outputs": [],
   "source": [
    "# REPLACE NAMES\n",
    "# SHOULD BE MOVED TO PARSING!\n",
    "merged_df.loc[merged_df['routing'] == 'epidemic', 'routing'] = 'Epidemic'\n",
    "merged_df.loc[merged_df['routing'] == 'context_complex', 'routing'] = 'Software Defined Complex'"
   ]
  },
  {
   "cell_type": "code",
   "execution_count": 8,
   "metadata": {},
   "outputs": [],
   "source": [
    "# FILL ALL NAs WITH THE ACTUAL SIZE OF THE BUNDLE.\n",
    "# SHOULE BE MOVED TO PARSING AFTERWARDS!\n",
    "event_frame = merged_df\n",
    "event_frame[\"bundle_size\"] = event_frame.groupby(\"bundle\")[\"bundle_size\"].transform(lambda x: x.fillna(x.mean()))"
   ]
  },
  {
   "cell_type": "code",
   "execution_count": 9,
   "metadata": {},
   "outputs": [],
   "source": [
    "# SET SOME RANDOM SIZE FOR META DATA BUNDLES.\n",
    "# SHOULD BE REPLACED WITH ACTUALL VALUES IN PARSING AS SOON AS AVAILABLE!\n",
    "event_frame['bundle_size'] = event_frame['bundle_size'].mask(event_frame['bundle_size'].isna(), np.random.uniform(100, 1000, size=len(event_frame)))"
   ]
  },
  {
   "cell_type": "code",
   "execution_count": 10,
   "metadata": {},
   "outputs": [
    {
     "data": {
      "text/html": [
       "<div>\n",
       "<style scoped>\n",
       "    .dataframe tbody tr th:only-of-type {\n",
       "        vertical-align: middle;\n",
       "    }\n",
       "\n",
       "    .dataframe tbody tr th {\n",
       "        vertical-align: top;\n",
       "    }\n",
       "\n",
       "    .dataframe thead th {\n",
       "        text-align: right;\n",
       "    }\n",
       "</style>\n",
       "<table border=\"1\" class=\"dataframe\">\n",
       "  <thead>\n",
       "    <tr style=\"text-align: right;\">\n",
       "      <th></th>\n",
       "      <th>routing</th>\n",
       "      <th>sim_instance_id</th>\n",
       "      <th>payload_size</th>\n",
       "      <th>bundles_per_node</th>\n",
       "      <th>timestamp</th>\n",
       "      <th>event</th>\n",
       "      <th>node</th>\n",
       "      <th>bundle</th>\n",
       "      <th>bundle_size</th>\n",
       "      <th>meta</th>\n",
       "      <th>node_type</th>\n",
       "    </tr>\n",
       "  </thead>\n",
       "  <tbody>\n",
       "    <tr>\n",
       "      <th>0</th>\n",
       "      <td>Epidemic</td>\n",
       "      <td>1739</td>\n",
       "      <td>1000000</td>\n",
       "      <td>10</td>\n",
       "      <td>2021-07-26 09:40:42.875108</td>\n",
       "      <td>creation</td>\n",
       "      <td>n21</td>\n",
       "      <td>dtn://n21/-680607642874-0</td>\n",
       "      <td>1000000.0</td>\n",
       "      <td>False</td>\n",
       "      <td>NaN</td>\n",
       "    </tr>\n",
       "    <tr>\n",
       "      <th>1</th>\n",
       "      <td>Epidemic</td>\n",
       "      <td>1739</td>\n",
       "      <td>1000000</td>\n",
       "      <td>10</td>\n",
       "      <td>2021-07-26 09:40:42.884794</td>\n",
       "      <td>sending</td>\n",
       "      <td>n21</td>\n",
       "      <td>dtn://n21/-680607642874-0</td>\n",
       "      <td>1000000.0</td>\n",
       "      <td>False</td>\n",
       "      <td>NaN</td>\n",
       "    </tr>\n",
       "    <tr>\n",
       "      <th>2</th>\n",
       "      <td>Epidemic</td>\n",
       "      <td>1739</td>\n",
       "      <td>1000000</td>\n",
       "      <td>10</td>\n",
       "      <td>2021-07-26 09:40:42.884796</td>\n",
       "      <td>sending</td>\n",
       "      <td>n21</td>\n",
       "      <td>dtn://n21/-680607642874-0</td>\n",
       "      <td>1000000.0</td>\n",
       "      <td>False</td>\n",
       "      <td>NaN</td>\n",
       "    </tr>\n",
       "    <tr>\n",
       "      <th>3</th>\n",
       "      <td>Epidemic</td>\n",
       "      <td>1739</td>\n",
       "      <td>1000000</td>\n",
       "      <td>10</td>\n",
       "      <td>2021-07-26 09:40:42.884811</td>\n",
       "      <td>sending</td>\n",
       "      <td>n21</td>\n",
       "      <td>dtn://n21/-680607642874-0</td>\n",
       "      <td>1000000.0</td>\n",
       "      <td>False</td>\n",
       "      <td>NaN</td>\n",
       "    </tr>\n",
       "    <tr>\n",
       "      <th>4</th>\n",
       "      <td>Epidemic</td>\n",
       "      <td>1739</td>\n",
       "      <td>1000000</td>\n",
       "      <td>10</td>\n",
       "      <td>2021-07-26 09:40:42.884820</td>\n",
       "      <td>sending</td>\n",
       "      <td>n21</td>\n",
       "      <td>dtn://n21/-680607642874-0</td>\n",
       "      <td>1000000.0</td>\n",
       "      <td>False</td>\n",
       "      <td>NaN</td>\n",
       "    </tr>\n",
       "  </tbody>\n",
       "</table>\n",
       "</div>"
      ],
      "text/plain": [
       "    routing sim_instance_id  payload_size  bundles_per_node  \\\n",
       "0  Epidemic            1739       1000000                10   \n",
       "1  Epidemic            1739       1000000                10   \n",
       "2  Epidemic            1739       1000000                10   \n",
       "3  Epidemic            1739       1000000                10   \n",
       "4  Epidemic            1739       1000000                10   \n",
       "\n",
       "                   timestamp     event node                     bundle  \\\n",
       "0 2021-07-26 09:40:42.875108  creation  n21  dtn://n21/-680607642874-0   \n",
       "1 2021-07-26 09:40:42.884794   sending  n21  dtn://n21/-680607642874-0   \n",
       "2 2021-07-26 09:40:42.884796   sending  n21  dtn://n21/-680607642874-0   \n",
       "3 2021-07-26 09:40:42.884811   sending  n21  dtn://n21/-680607642874-0   \n",
       "4 2021-07-26 09:40:42.884820   sending  n21  dtn://n21/-680607642874-0   \n",
       "\n",
       "   bundle_size   meta node_type  \n",
       "0    1000000.0  False       NaN  \n",
       "1    1000000.0  False       NaN  \n",
       "2    1000000.0  False       NaN  \n",
       "3    1000000.0  False       NaN  \n",
       "4    1000000.0  False       NaN  "
      ]
     },
     "execution_count": 10,
     "metadata": {},
     "output_type": "execute_result"
    }
   ],
   "source": [
    "event_frame.head()"
   ]
  },
  {
   "cell_type": "markdown",
   "metadata": {},
   "source": [
    "## Run statistics"
   ]
  },
  {
   "cell_type": "markdown",
   "metadata": {},
   "source": [
    "# Compute and plot Total Number of Forwards"
   ]
  },
  {
   "cell_type": "code",
   "execution_count": 11,
   "metadata": {},
   "outputs": [],
   "source": [
    "def bundle_distribution(event_frame: pd.DataFrame) -> DataFrame:\n",
    "    simulation_data = event_frame.set_index(\"timestamp\")\n",
    "    instances = simulation_data[simulation_data.event == \"reception\"].groupby([\"sim_instance_id\", \"meta\"])\n",
    "    runtimes = []\n",
    "    \n",
    "    big_fat_dataframe = DataFrame()\n",
    "    for _, instance in instances:\n",
    "        if instance[\"meta\"][0] == True:\n",
    "            continue\n",
    "\n",
    "        simulation_start = instance.index[0]\n",
    "        instance[\"since_start\"] = instance.index - simulation_start\n",
    "        instance = instance.set_index(\"since_start\")\n",
    "        new_bundles = instance.groupby(pd.Grouper(freq='1Min')).apply(len).to_frame()\n",
    "        new_bundles = new_bundles.rename(columns={0: \"reception_count\"})\n",
    "        \n",
    "        while len(new_bundles) <= 15:\n",
    "            new_bundles = new_bundles.append({\"reception_count\": 0}, ignore_index=True)\n",
    "        \n",
    "        new_bundles[\"sim_instance_id\"] = instance[\"sim_instance_id\"][0]\n",
    "        new_bundles[\"routing\"] = instance[\"routing\"][0]\n",
    "        new_bundles[\"bundles_per_node\"] = instance[\"bundles_per_node\"][0]\n",
    "        new_bundles[\"reception_accumulated\"] = new_bundles[\"reception_count\"].cumsum()\n",
    "        \n",
    "        big_fat_dataframe = big_fat_dataframe.append(new_bundles)\n",
    "        \n",
    "    return big_fat_dataframe"
   ]
  },
  {
   "cell_type": "code",
   "execution_count": 12,
   "metadata": {},
   "outputs": [
    {
     "data": {
      "image/png": "[encoded data removed]",
      "text/plain": [
       "<Figure size 1224x720 with 1 Axes>"
      ]
     },
     "metadata": {},
     "output_type": "display_data"
    }
   ],
   "source": [
    "def plot_accumulated(big_fat_dataframe):\n",
    "    for routing, instance_df in big_fat_dataframe.groupby(\"routing\"):\n",
    "        fig, ax = plt.subplots(figsize=(17, 10))\n",
    "        ax = sns.lineplot(\n",
    "            x=instance_df.index,\n",
    "            y='reception_accumulated',\n",
    "            data=instance_df,\n",
    "            hue=\"bundles_per_node\",\n",
    "            #palette=color_mapping,\n",
    "            ax=ax\n",
    "        )\n",
    "\n",
    "        ax.set(xlabel='Time (min)', ylabel='Transmitted Bundles', title=routing)\n",
    "    \n",
    "    fig.savefig(\"/home/jovyan/work/evaluation/paper/figures/transmissions.pdf\")\n",
    "\n",
    "plot_accumulated(bundle_distribution(event_frame))"
   ]
  },
  {
   "cell_type": "markdown",
   "metadata": {},
   "source": [
    "# Compute and plot Average End-to-End Delay"
   ]
  },
  {
   "cell_type": "code",
   "execution_count": 13,
   "metadata": {},
   "outputs": [],
   "source": [
    "def bundle_runtimes(event_frame: pd.DataFrame) -> DataFrame:\n",
    "    simulation_data = event_frame #.set_index(\"timestamp\")\n",
    "    creation_instances = simulation_data[simulation_data.event == \"creation\"]\n",
    "    \n",
    "    delivery_instances = simulation_data[simulation_data.event == \"delivery\"].groupby([\"sim_instance_id\", \"bundle\"])\n",
    "    \n",
    "    big_fat_dataframe = pd.DataFrame()\n",
    "    _len = len(delivery_instances)\n",
    "    i = 0\n",
    "    for name, instance in delivery_instances:\n",
    "        if instance[\"meta\"].any() == True:\n",
    "            continue\n",
    "        \n",
    "        sim_instance_id, bundle = name\n",
    "        \n",
    "        instance = instance.sort_values(\"timestamp\")\n",
    "        delivery_row = instance.iloc[0]\n",
    "        delivery_time = delivery_row[\"timestamp\"]\n",
    "        \n",
    "        creation_row = creation_instances[creation_instances.bundle == bundle]\n",
    "        if creation_row.empty:\n",
    "            continue\n",
    "        creation_time = creation_row[\"timestamp\"].iloc[0]\n",
    "        runtime = delivery_time - creation_time\n",
    "        if runtime < pd.Timedelta(100,'ms'):\n",
    "            continue\n",
    "        \n",
    "        runtime_dict = {\n",
    "            \"sim_instance_id\": sim_instance_id,\n",
    "            \"bundle\": bundle,\n",
    "            \"runtime\": (runtime.to_pytimedelta() / timedelta(milliseconds=1)) / 1000,\n",
    "            \"routing\": creation_row[\"routing\"].values[0],\n",
    "            \"bundles_per_node\": creation_row[\"bundles_per_node\"].values[0],\n",
    "            \"payload_size\": creation_row[\"payload_size\"].values[0]\n",
    "        }\n",
    "        \n",
    "        big_fat_dataframe = big_fat_dataframe.append(runtime_dict, ignore_index=True)\n",
    "    \n",
    "    return big_fat_dataframe"
   ]
  },
  {
   "cell_type": "code",
   "execution_count": 14,
   "metadata": {},
   "outputs": [],
   "source": [
    "experiment_runtimes = bundle_runtimes(event_frame)"
   ]
  },
  {
   "cell_type": "code",
   "execution_count": 15,
   "metadata": {},
   "outputs": [
    {
     "data": {
      "image/png": "[encoded data removed]",
      "text/plain": [
       "<Figure size 432x288 with 1 Axes>"
      ]
     },
     "metadata": {},
     "output_type": "display_data"
    }
   ],
   "source": [
    "def plot_runtimes(df):\n",
    "    ax = sns.boxplot(x=\"bundles_per_node\", y=\"runtime\", data=df, hue=\"routing\")\n",
    "\n",
    "    ax.set(xlabel=\"Bundles/Node\" , ylabel='Runtime (s)')\n",
    "    ax.set_xticklabels(\n",
    "        \"\"\n",
    "    )\n",
    "\n",
    "    plt.tight_layout()\n",
    "    plt.savefig(\"/home/jovyan/work/evaluation/paper/figures/runtimes.pdf\")\n",
    "\n",
    "plot_runtimes(experiment_runtimes)"
   ]
  },
  {
   "cell_type": "markdown",
   "metadata": {},
   "source": [
    "# Compute and plot delivery ratio"
   ]
  },
  {
   "cell_type": "code",
   "execution_count": 16,
   "metadata": {},
   "outputs": [],
   "source": [
    "def bundles_delivered(event_frame: pd.DataFrame) -> DataFrame:\n",
    "    creation_instances = event_frame[event_frame.event == \"creation\"].groupby([\"sim_instance_id\"])\n",
    "    \n",
    "    delivery_instances = event_frame[event_frame.event == \"delivery\"]\n",
    "    \n",
    "    big_fat_dataframe = pd.DataFrame()\n",
    "    for sim_instance_id, instance in creation_instances:\n",
    "        for _, row in instance.iterrows():\n",
    "            bundle = row[\"bundle\"]\n",
    "            \n",
    "            if \"dtn://coordinator/\" in bundle:\n",
    "                was_delivered = len(delivery_instances[delivery_instances[\"bundle\"] == bundle]) >= 30\n",
    "            else:\n",
    "                was_delivered = not delivery_instances[delivery_instances[\"bundle\"] == bundle].empty\n",
    "                \n",
    "            #if was_delivered:\n",
    "            #    print(bundle, instance[instance[\"bundle\"] == bundle][\"timestamp\"])\n",
    "                \n",
    "            row_dict = {\n",
    "                \"sim_instance_id\": sim_instance_id,\n",
    "                \"bundle\": bundle,\n",
    "                \"delivered\": was_delivered,\n",
    "                \"routing\": row[\"routing\"],\n",
    "                \"payload_size\": row[\"payload_size\"],\n",
    "                \"bundles_per_node\": row[\"bundles_per_node\"],\n",
    "            }\n",
    "            big_fat_dataframe = big_fat_dataframe.append([row_dict], ignore_index=True)\n",
    "            \n",
    "    print(len(event_frame[event_frame.event == \"creation\"]), len(delivery_instances))\n",
    "            \n",
    "    return big_fat_dataframe   "
   ]
  },
  {
   "cell_type": "code",
   "execution_count": 17,
   "metadata": {},
   "outputs": [],
   "source": [
    "def delivery_percentage(big_fat_dataframe) -> DataFrame:\n",
    "    small_dataframe = pd.DataFrame()\n",
    "    for name, bundles in big_fat_dataframe.groupby([\"routing\", \"sim_instance_id\"]):\n",
    "        routing, sim_instance_id = name\n",
    "        total_bundles = len(bundles.index)\n",
    "        delivered_bundles = len(bundles[bundles.delivered == True].index)\n",
    "        payload_size = bundles[\"payload_size\"].values[0]\n",
    "        bundles_per_node = bundles[\"bundles_per_node\"].values[0]\n",
    "        row_dict = {\n",
    "            \"routing\": routing,\n",
    "            \"sim_instance_id\": sim_instance_id,\n",
    "            \"delivery_percentage\": (float(delivered_bundles) / float(total_bundles)) * 100,\n",
    "            \"payload_size\": payload_size,\n",
    "            \"bundles_per_node\": bundles_per_node,\n",
    "        }\n",
    "        small_dataframe = small_dataframe.append([row_dict], ignore_index=True)\n",
    "    \n",
    "    return small_dataframe"
   ]
  },
  {
   "cell_type": "code",
   "execution_count": 18,
   "metadata": {},
   "outputs": [
    {
     "name": "stdout",
     "output_type": "stream",
     "text": [
      "260 1270\n"
     ]
    }
   ],
   "source": [
    "delivery_df = bundles_delivered(event_frame)\n",
    "delivery_percentage_df = delivery_percentage(delivery_df)"
   ]
  },
  {
   "cell_type": "code",
   "execution_count": 19,
   "metadata": {},
   "outputs": [],
   "source": [
    "def plot_delivery_percentage(df):\n",
    "\n",
    "    ax = sns.barplot(x=\"bundles_per_node\", y=\"delivery_percentage\", data=df, hue=\"routing\")\n",
    "    ax.set(xlabel=\"Bundles/Node\" , ylabel='Delivery Ratio (%)', ylim=[0,100])\n",
    "    ax.set_xticklabels(\n",
    "        \"\"\n",
    "    )\n",
    "\n",
    "    plt.tight_layout()\n",
    "    plt.savefig(\"/home/jovyan/work/evaluation/paper/figures/delivery-ratio.pdf\")"
   ]
  },
  {
   "cell_type": "code",
   "execution_count": 20,
   "metadata": {},
   "outputs": [
    {
     "data": {
      "image/png": "[encoded data removed]",
      "text/plain": [
       "<Figure size 432x288 with 1 Axes>"
      ]
     },
     "metadata": {},
     "output_type": "display_data"
    }
   ],
   "source": [
    "plot_delivery_percentage(delivery_percentage_df)"
   ]
  }
 ],
 "metadata": {
  "kernelspec": {
   "display_name": "Python 3",
   "language": "python",
   "name": "python3"
  },
  "language_info": {
   "codemirror_mode": {
    "name": "ipython",
    "version": 3
   },
   "file_extension": ".py",
   "mimetype": "text/x-python",
   "name": "python",
   "nbconvert_exporter": "python",
   "pygments_lexer": "ipython3",
   "version": "3.8.6"
  }
 },
 "nbformat": 4,
 "nbformat_minor": 4
}
