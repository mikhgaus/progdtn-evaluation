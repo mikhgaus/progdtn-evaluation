{
 "cells": [
  {
   "cell_type": "code",
   "execution_count": null,
   "metadata": {
    "pycharm": {
     "is_executing": true
    }
   },
   "outputs": [],
   "source": [
    "EXPERIMENT_ID = \"epidemic\""
   ]
  },
  {
   "cell_type": "code",
   "execution_count": 2,
   "metadata": {},
   "outputs": [],
   "source": [
    "%load_ext autoreload\n",
    "%autoreload 2\n",
    "\n",
    "import pathlib\n",
    "\n",
    "import matplotlib.pyplot as plt\n",
    "import matplotlib\n",
    "\n",
    "import pandas as pd\n",
    "pd.set_option('display.max_rows', None)\n",
    "\n",
    "import numpy as np\n",
    "\n",
    "from typing import List, Dict\n",
    "\n",
    "plt.rcParams[\"font.size\"] = \"15\"\n",
    "matplotlib.rc('figure', figsize=[6,4])\n",
    "\n",
    "from data_handlers.runtimes import *\n",
    "from data_handlers.preprocessors import node_types"
   ]
  },
  {
   "cell_type": "code",
   "execution_count": 3,
   "metadata": {},
   "outputs": [],
   "source": [
    "experiment_path = pathlib.Path(f\"/research_data/{EXPERIMENT_ID}\")"
   ]
  },
  {
   "cell_type": "code",
   "execution_count": 16,
   "metadata": {},
   "outputs": [],
   "source": [
    "event_frame: pd.DataFrame\n",
    "#event_frame = parse_bundle_events(experiment_path)\n",
    "event_frame = pd.read_csv(\"/research_data/cadr.csv\", dtype={\"routing\": str, \"sim_instance_id\": int, \"event\": str, \"node\": str, \"from_to\": str, \"bundle\": str}, parse_dates=[\"timestamp\"])"
   ]
  },
  {
   "cell_type": "code",
   "execution_count": 5,
   "metadata": {},
   "outputs": [],
   "source": [
    "groups = event_frame.groupby(\"bundle\")\n",
    "#groups.apply(lambda x: print(x[x[\"bundle\"] == \"dtn://n29/-648560019-0\"]))"
   ]
  },
  {
   "cell_type": "code",
   "execution_count": 6,
   "metadata": {
    "collapsed": false,
    "jupyter": {
     "outputs_hidden": false
    },
    "pycharm": {
     "name": "#%%\n"
    }
   },
   "outputs": [],
   "source": [
    "bundles: List[str]\n",
    "successful: List[str]\n",
    "unsuccessful: List[str]\n",
    "runtimes_df: pd.DataFrame\n",
    "\n",
    "bundles, successful, unsuccessful, runtimes_df = compute_bundle_runtimes(event_frame=event_frame)"
   ]
  },
  {
   "cell_type": "code",
   "execution_count": 7,
   "metadata": {},
   "outputs": [
    {
     "data": {
      "text/plain": "<Figure size 432x288 with 1 Axes>",
      "image/png": "[encoded data removed]"
     },
     "metadata": {
      "needs_background": "light"
     },
     "output_type": "display_data"
    }
   ],
   "source": [
    "for routing, routing_df in list(runtimes_df.groupby(['routing'])):\n",
    "    \n",
    "    plot = routing_df.boxplot(\n",
    "        column='duration_s', \n",
    "        #by=['Size (MiB)'],\n",
    "        rot=90,\n",
    "        #positions=[\n",
    "        #    0, 1, 2, 3,\n",
    "        #    5, 6, 7, 8,\n",
    "        #    10, 11, 12, 13,\n",
    "        #    15, 16, 17, 18,\n",
    "        #    20, 21, 22, 23,\n",
    "        #    25, 26, 27, 28\n",
    "        #]\n",
    "    )\n",
    "    \n",
    "    plt.title(\"\")\n",
    "    plt.suptitle(\"\")\n",
    "    \n",
    "    #plt.xlabel(\"\")\n",
    "    #plot.set_xticklabels([\"DTN7\", \"Forban\", \"IBR-DTN\", \"Serval\"]*6, minor=False)\n",
    "\n",
    "    plt.ylabel(\"Transmission Time (s)\")\n",
    "    #plt.yscale('log')\n",
    "    #plot.get_yaxis().set_major_formatter(matplotlib.ticker.ScalarFormatter())\n",
    "    #plot.yaxis.set_label_coords(-0.15, 0.5)\n",
    "    \n",
    "    #plot.annotate('64 KiB', (0,0), (8, -60), xycoords='axes fraction', textcoords='offset points', va='top')\n",
    "    #plot.annotate('1 MiB', (0,0), (68, -60), xycoords='axes fraction', textcoords='offset points', va='top')\n",
    "    #plot.annotate('5 MiB', (0,0), (129, -60), xycoords='axes fraction', textcoords='offset points', va='top')\n",
    "    #plot.annotate('25 MiB', (0,0), (186, -60), xycoords='axes fraction', textcoords='offset points', va='top')\n",
    "    #plot.annotate('50 MiB', (0,0), (246, -60), xycoords='axes fraction', textcoords='offset points', va='top')\n",
    "    #plot.annotate('100 MiB', (0,0), (301, -60), xycoords='axes fraction', textcoords='offset points', va='top')\n",
    "    \n",
    "    #plt.savefig(\"plots/chain-runtimes-{}.pdf\".format(node_num), bbox_inches='tight')\n",
    "plt.show()"
   ]
  },
  {
   "cell_type": "code",
   "execution_count": 8,
   "metadata": {
    "collapsed": false,
    "jupyter": {
     "outputs_hidden": false
    },
    "pycharm": {
     "name": "#%%\n"
    }
   },
   "outputs": [
    {
     "name": "stdout",
     "output_type": "stream",
     "text": [
      "Node n12 is a backbone\n",
      "Node n13 is a backbone\n",
      "Node n14 is a backbone\n",
      "Node n15 is a backbone\n",
      "Node n16 is a backbone\n",
      "Node n17 is a sensor\n",
      "Node n18 is a sensor\n",
      "Node n19 is a sensor\n",
      "Node n20 is a sensor\n",
      "Node n21 is a sensor\n",
      "Node n22 is a sensor\n",
      "Node n23 is a sensor\n",
      "Node n24 is a sensor\n",
      "Node n25 is a sensor\n",
      "Node n26 is a sensor\n",
      "Node n27 is a sensor\n",
      "Node n28 is a sensor\n",
      "Node n29 is a sensor\n",
      "Node n30 is a sensor\n",
      "Node n31 is a sensor\n",
      "Node n32 is a sensor\n",
      "Node n33 is a sensor\n",
      "Node n34 is a sensor\n",
      "Node n35 is a sensor\n",
      "Node n36 is a sensor\n",
      "Node n37 is a sensor\n",
      "Node n38 is a sensor\n",
      "Node n39 is a sensor\n",
      "Node n40 is a sensor\n",
      "Node n41 is a sensor\n",
      "Node n42 is a sensor\n",
      "Node n43 is a sensor\n",
      "Node n44 is a sensor\n",
      "Node n45 is a sensor\n",
      "Node n46 is a sensor\n",
      "Node n47 is a sensor\n",
      "Node n48 is a sensor\n",
      "Node n49 is a sensor\n",
      "Node n50 is a sensor\n",
      "Node n51 is a sensor\n",
      "Node n2 is a visitor\n",
      "Node n3 is a visitor\n",
      "Node n4 is a visitor\n",
      "Node n5 is a visitor\n",
      "Node n6 is a visitor\n",
      "Node n7 is a visitor\n",
      "Node n8 is a visitor\n",
      "Node n9 is a visitor\n",
      "Node n10 is a visitor\n",
      "Node n11 is a visitor\n"
     ]
    }
   ],
   "source": [
    "types: Dict[str, str] = node_types(scenario_path=\"/home/msommer/devel/cadr-evaluation/scenarios/wanderwege/wanderwege.xml\")\n",
    "touched_nodes: Dict[str, List[str]] = {}\n",
    "touched_node_types: Dict[str, List[str]] = {}\n",
    "number_of_nodes: Dict[str, int] = {}\n",
    "\n",
    "for bundle in bundles:\n",
    "    bundle_nodes = event_frame[event_frame.bundle == bundle].node.unique().tolist()\n",
    "    touched_nodes[bundle] = bundle_nodes\n",
    "    number_of_nodes[bundle] = len(bundle_nodes)\n",
    "    bundle_node_types = set()\n",
    "    for node in bundle_nodes:\n",
    "        bundle_node_types.add(types[node])\n",
    "    touched_node_types[bundle] = list(bundle_node_types)"
   ]
  },
  {
   "cell_type": "code",
   "execution_count": 9,
   "outputs": [],
   "source": [
    "def bundle_distribution(instance_data: pd.DataFrame) -> None:\n",
    "    bundle_creations: pd.DataFrame = instance_data[instance_data.event == \"creation\"]\n",
    "    total_bundles: int = len(bundle_creations)\n",
    "    print(f\"Total bundles: {total_bundles}\")\n",
    "\n",
    "    simulation_start: np.datetime64 = instance_data[instance_data.event == \"start\"][\"timestamp\"].iloc[0]\n",
    "    print(f\"Simulation Start: {simulation_start}\")\n",
    "    simulation_end: np.datetime64 = simulation_start + np.timedelta64(1, \"h\")\n",
    "    print(f\"Simulation End: {simulation_end}\")\n",
    "\n",
    "    time_increments = np.timedelta64(60, 's')\n",
    "\n",
    "    nodes_data = instance_data.groupby(\"node\")\n",
    "\n",
    "    nodes_bundles: Dict[str, List[int]] = {}\n",
    "\n",
    "    for node, data in nodes_data:\n",
    "        node_bundles: List[int] = bundles_per_node(node_data=data, simulation_start=simulation_start, simulation_end=simulation_end, time_increments=time_increments)\n",
    "        nodes_bundles[node] = node_bundles\n",
    "\n",
    "    print(nodes_bundles)\n",
    "\n",
    "def bundles_per_node(node_data: pd.DataFrame, simulation_start: np.datetime64, simulation_end: np.datetime64, time_increments: np.timedelta64 = 60) -> List[int]:\n",
    "    t_low: np.datetime64 = simulation_start\n",
    "    t_high: np.datetime64 = t_low + time_increments\n",
    "    bundles = 0\n",
    "    bundle_time_series: List[int] = []\n",
    "\n",
    "    receive_events = node_data[node_data.event == \"reception\"]\n",
    "\n",
    "    while t_high <= simulation_end:\n",
    "        in_time_window = receive_events[(t_low < receive_events.timestamp) & (receive_events.timestamp <= t_high)]\n",
    "        receptions_during_interval = len(in_time_window)\n",
    "        bundles += receptions_during_interval\n",
    "        bundle_time_series.append(bundles)\n",
    "\n",
    "        t_low = t_high\n",
    "        t_high += time_increments\n",
    "\n",
    "    return bundle_time_series"
   ],
   "metadata": {
    "collapsed": false,
    "pycharm": {
     "name": "#%%\n"
    }
   }
  },
  {
   "cell_type": "code",
   "execution_count": 10,
   "outputs": [],
   "source": [
    "#event_frame.groupby(\"sim_instance_id\").apply(bundle_distribution)"
   ],
   "metadata": {
    "collapsed": false,
    "pycharm": {
     "name": "#%%\n"
    }
   }
  },
  {
   "cell_type": "code",
   "execution_count": 19,
   "outputs": [],
   "source": [
    "time_frame = event_frame.set_index(\"timestamp\")"
   ],
   "metadata": {
    "collapsed": false,
    "pycharm": {
     "name": "#%%\n"
    }
   }
  },
  {
   "cell_type": "code",
   "execution_count": null,
   "outputs": [],
   "source": [
    "len(time_frame[time_frame.sim_instance_id == 2])"
   ],
   "metadata": {
    "collapsed": false,
    "pycharm": {
     "name": "#%%\n",
     "is_executing": true
    }
   }
  }
 ],
 "metadata": {
  "kernelspec": {
   "display_name": "Python 3",
   "language": "python",
   "name": "python3"
  },
  "language_info": {
   "codemirror_mode": {
    "name": "ipython",
    "version": 3
   },
   "file_extension": ".py",
   "mimetype": "text/x-python",
   "name": "python",
   "nbconvert_exporter": "python",
   "pygments_lexer": "ipython3",
   "version": "3.7.6"
  }
 },
 "nbformat": 4,
 "nbformat_minor": 4
}