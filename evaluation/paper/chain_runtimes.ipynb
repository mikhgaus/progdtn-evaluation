{
 "cells": [
  {
   "cell_type": "code",
   "execution_count": 2,
   "metadata": {},
   "outputs": [],
   "source": [
    "EXPERIMENT_ID = \"1\""
   ]
  },
  {
   "cell_type": "code",
   "execution_count": 3,
   "metadata": {},
   "outputs": [],
   "source": [
    "%load_ext autoreload\n",
    "%autoreload 2\n",
    "\n",
    "import pathlib\n",
    "\n",
    "import matplotlib.pyplot as plt\n",
    "import matplotlib\n",
    "plt.rcParams[\"font.size\"] = \"15\"\n",
    "matplotlib.rc('figure', figsize=[6,4])\n",
    "\n",
    "from data_handlers.runtimes import *"
   ]
  },
  {
   "cell_type": "code",
   "execution_count": 4,
   "metadata": {},
   "outputs": [],
   "source": [
    "experiment_path = pathlib.Path(f\"/home/jovyan/work/binary_files/{EXPERIMENT_ID}\")"
   ]
  },
  {
   "cell_type": "code",
   "execution_count": 5,
   "metadata": {},
   "outputs": [
    {
     "name": "stdout",
     "output_type": "stream",
     "text": [
      "[[{'dtn://n50/-644947423-0': [{'timestamp': datetime.datetime(2020, 6, 8, 16, 4, 14, 488660), 'event': 'receiving'}]}, {}, {'dtn://n50/-644947423-0': [{'timestamp': datetime.datetime(2020, 6, 8, 16, 3, 54, 171400), 'event': 'receiving'}]}, {'dtn://n29/-644947345-0': [{'timestamp': datetime.datetime(2020, 6, 8, 16, 2, 25, 368943), 'event': 'receiving'}], 'dtn://n27/-644947388-0': [{'timestamp': datetime.datetime(2020, 6, 8, 16, 3, 8, 365229), 'event': 'receiving'}]}, {'dtn://n50/-644947423-0': [{'timestamp': datetime.datetime(2020, 6, 8, 16, 4, 4, 329816), 'event': 'receiving'}]}, {'dtn://n29/-644947345-0': [{'timestamp': datetime.datetime(2020, 6, 8, 16, 2, 25, 349460), 'event': 'receiving'}], 'dtn://n27/-644947388-0': [{'timestamp': datetime.datetime(2020, 6, 8, 16, 3, 8, 486961), 'event': 'receiving'}], 'dtn://n36/-644947407-0': [{'timestamp': datetime.datetime(2020, 6, 8, 16, 3, 27, 325813), 'event': 'receiving'}, {'timestamp': datetime.datetime(2020, 6, 8, 16, 3, 27, 326748), 'event': 'sending'}], 'dtn://n49/-644947387-0': [{'timestamp': datetime.datetime(2020, 6, 8, 16, 3, 50, 145800), 'event': 'receiving'}]}, {'dtn://n29/-644947345-0': [{'timestamp': datetime.datetime(2020, 6, 8, 16, 2, 25, 323920), 'event': 'receiving'}], 'dtn://n27/-644947388-0': [{'timestamp': datetime.datetime(2020, 6, 8, 16, 3, 8, 434581), 'event': 'receiving'}], 'dtn://n49/-644947387-0': [{'timestamp': datetime.datetime(2020, 6, 8, 16, 3, 23, 683974), 'event': 'receiving'}]}, {}, {'dtn://n20/-644947456-0': [{'timestamp': datetime.datetime(2020, 6, 8, 16, 4, 16, 981724), 'event': 'receiving'}], 'dtn://n22/-644947497-0': [{'timestamp': datetime.datetime(2020, 6, 8, 16, 5, 23, 536929), 'event': 'receiving'}]}, {'dtn://n29/-644947345-0': [{'timestamp': datetime.datetime(2020, 6, 8, 16, 2, 25, 335222), 'event': 'receiving'}], 'dtn://n27/-644947388-0': [{'timestamp': datetime.datetime(2020, 6, 8, 16, 3, 8, 473646), 'event': 'receiving'}], 'dtn://n36/-644947407-0': [{'timestamp': datetime.datetime(2020, 6, 8, 16, 3, 27, 339919), 'event': 'receiving'}], 'dtn://n49/-644947387-0': [{'timestamp': datetime.datetime(2020, 6, 8, 16, 3, 44, 779029), 'event': 'receiving'}]}, {'dtn://n29/-644947345-0': [{'timestamp': datetime.datetime(2020, 6, 8, 16, 2, 25, 322182), 'event': 'receiving'}], 'dtn://n27/-644947388-0': [{'timestamp': datetime.datetime(2020, 6, 8, 16, 3, 8, 461379), 'event': 'receiving'}], 'dtn://n36/-644947407-0': [{'timestamp': datetime.datetime(2020, 6, 8, 16, 3, 27, 354254), 'event': 'receiving'}], 'dtn://n49/-644947387-0': [{'timestamp': datetime.datetime(2020, 6, 8, 16, 3, 39, 405126), 'event': 'receiving'}]}, {'dtn://n51/-644947515-0': [{'timestamp': datetime.datetime(2020, 6, 8, 16, 5, 15, 672825), 'event': 'receiving'}, {'timestamp': datetime.datetime(2020, 6, 8, 16, 5, 15, 673408), 'event': 'sending'}]}, {'dtn://n20/-644947456-0': [{'timestamp': datetime.datetime(2020, 6, 8, 16, 4, 16, 996620), 'event': 'receiving'}], 'dtn://n22/-644947497-0': [{'timestamp': datetime.datetime(2020, 6, 8, 16, 5, 13, 349661), 'event': 'receiving'}]}, {}, {'dtn://n20/-644947456-0': [{'timestamp': datetime.datetime(2020, 6, 8, 16, 4, 17, 25659), 'event': 'receiving'}]}, {'dtn://n29/-644947345-0': [{'timestamp': datetime.datetime(2020, 6, 8, 16, 2, 25, 396983), 'event': 'receiving'}], 'dtn://n27/-644947388-0': [{'timestamp': datetime.datetime(2020, 6, 8, 16, 3, 8, 336053), 'event': 'receiving'}]}, {'dtn://n29/-644947345-0': [{'timestamp': datetime.datetime(2020, 6, 8, 16, 2, 25, 340093), 'event': 'receiving'}], 'dtn://n27/-644947388-0': [{'timestamp': datetime.datetime(2020, 6, 8, 16, 3, 8, 434143), 'event': 'receiving'}]}, {'dtn://n29/-644947345-0': [{'timestamp': datetime.datetime(2020, 6, 8, 16, 2, 25, 354840), 'event': 'receiving'}], 'dtn://n49/-644947387-0': [{'timestamp': datetime.datetime(2020, 6, 8, 16, 3, 7, 727645), 'event': 'receiving'}, {'timestamp': datetime.datetime(2020, 6, 8, 16, 3, 7, 728267), 'event': 'sending'}], 'dtn://n27/-644947388-0': [{'timestamp': datetime.datetime(2020, 6, 8, 16, 3, 8, 378875), 'event': 'receiving'}]}, {'dtn://n29/-644947345-0': [{'timestamp': datetime.datetime(2020, 6, 8, 16, 2, 25, 323177), 'event': 'receiving'}], 'dtn://n27/-644947388-0': [{'timestamp': datetime.datetime(2020, 6, 8, 16, 3, 8, 464122), 'event': 'receiving'}], 'dtn://n36/-644947407-0': [{'timestamp': datetime.datetime(2020, 6, 8, 16, 3, 27, 431513), 'event': 'receiving'}], 'dtn://n49/-644947387-0': [{'timestamp': datetime.datetime(2020, 6, 8, 16, 3, 38, 963766), 'event': 'receiving'}]}, {}, {'dtn://n26/-644947426-0': [{'timestamp': datetime.datetime(2020, 6, 8, 16, 3, 46, 72769), 'event': 'receiving'}], 'dtn://n24/-644947433-0': [{'timestamp': datetime.datetime(2020, 6, 8, 16, 3, 53, 986025), 'event': 'receiving'}, {'timestamp': datetime.datetime(2020, 6, 8, 16, 3, 53, 986679), 'event': 'sending'}]}, {'dtn://n20/-644947456-0': [{'timestamp': datetime.datetime(2020, 6, 8, 16, 4, 17, 25620), 'event': 'receiving'}], 'dtn://n38/-644947483-0': [{'timestamp': datetime.datetime(2020, 6, 8, 16, 5, 32, 814144), 'event': 'receiving'}]}, {'dtn://n51/-644947515-0': [{'timestamp': datetime.datetime(2020, 6, 8, 16, 5, 50, 42700), 'event': 'receiving'}]}, {}, {'dtn://n51/-644947515-0': [{'timestamp': datetime.datetime(2020, 6, 8, 16, 5, 27, 66642), 'event': 'receiving'}]}, {'dtn://n20/-644947456-0': [{'timestamp': datetime.datetime(2020, 6, 8, 16, 4, 17, 25549), 'event': 'receiving'}], 'dtn://n38/-644947483-0': [{'timestamp': datetime.datetime(2020, 6, 8, 16, 5, 0, 292138), 'event': 'receiving'}], 'dtn://n45/-644947503-0': [{'timestamp': datetime.datetime(2020, 6, 8, 16, 5, 3, 613728), 'event': 'receiving'}, {'timestamp': datetime.datetime(2020, 6, 8, 16, 5, 3, 614551), 'event': 'sending'}]}, {'dtn://n20/-644947456-0': [{'timestamp': datetime.datetime(2020, 6, 8, 16, 4, 16, 942641), 'event': 'receiving'}, {'timestamp': datetime.datetime(2020, 6, 8, 16, 4, 16, 943620), 'event': 'sending'}], 'dtn://n22/-644947497-0': [{'timestamp': datetime.datetime(2020, 6, 8, 16, 6, 0, 74586), 'event': 'receiving'}]}, {'dtn://n20/-644947456-0': [{'timestamp': datetime.datetime(2020, 6, 8, 16, 4, 16, 996832), 'event': 'receiving'}]}, {'dtn://n20/-644947456-0': [{'timestamp': datetime.datetime(2020, 6, 8, 16, 4, 16, 958013), 'event': 'receiving'}], 'dtn://n22/-644947497-0': [{'timestamp': datetime.datetime(2020, 6, 8, 16, 5, 42, 923122), 'event': 'receiving'}]}, {'dtn://n20/-644947456-0': [{'timestamp': datetime.datetime(2020, 6, 8, 16, 4, 17, 10038), 'event': 'receiving'}]}, {}, {}, {'dtn://n20/-644947456-0': [{'timestamp': datetime.datetime(2020, 6, 8, 16, 4, 17, 39280), 'event': 'receiving'}]}, {'dtn://n51/-644947515-0': [{'timestamp': datetime.datetime(2020, 6, 8, 16, 5, 38, 627198), 'event': 'receiving'}]}, {'dtn://n20/-644947456-0': [{'timestamp': datetime.datetime(2020, 6, 8, 16, 4, 17, 37708), 'event': 'receiving'}], 'dtn://n38/-644947483-0': [{'timestamp': datetime.datetime(2020, 6, 8, 16, 4, 44, 28893), 'event': 'receiving'}, {'timestamp': datetime.datetime(2020, 6, 8, 16, 4, 44, 29430), 'event': 'sending'}], 'dtn://n45/-644947503-0': [{'timestamp': datetime.datetime(2020, 6, 8, 16, 5, 3, 674467), 'event': 'receiving'}]}, {'dtn://n29/-644947345-0': [{'timestamp': datetime.datetime(2020, 6, 8, 16, 2, 25, 337536), 'event': 'receiving'}], 'dtn://n27/-644947388-0': [{'timestamp': datetime.datetime(2020, 6, 8, 16, 3, 8, 478220), 'event': 'receiving'}], 'dtn://n36/-644947407-0': [{'timestamp': datetime.datetime(2020, 6, 8, 16, 3, 27, 443750), 'event': 'receiving'}], 'dtn://n49/-644947387-0': [{'timestamp': datetime.datetime(2020, 6, 8, 16, 3, 44, 444691), 'event': 'receiving'}]}, {'dtn://n20/-644947456-0': [{'timestamp': datetime.datetime(2020, 6, 8, 16, 4, 17, 10179), 'event': 'receiving'}], 'dtn://n22/-644947497-0': [{'timestamp': datetime.datetime(2020, 6, 8, 16, 4, 57, 548204), 'event': 'receiving'}, {'timestamp': datetime.datetime(2020, 6, 8, 16, 4, 57, 548785), 'event': 'sending'}], 'dtn://n47/-644947507-0': [{'timestamp': datetime.datetime(2020, 6, 8, 16, 5, 7, 736856), 'event': 'receiving'}]}, {'dtn://n29/-644947345-0': [{'timestamp': datetime.datetime(2020, 6, 8, 16, 2, 25, 306631), 'event': 'receiving'}, {'timestamp': datetime.datetime(2020, 6, 8, 16, 2, 25, 307658), 'event': 'sending'}], 'dtn://n27/-644947388-0': [{'timestamp': datetime.datetime(2020, 6, 8, 16, 3, 8, 448343), 'event': 'receiving'}], 'dtn://n36/-644947407-0': [{'timestamp': datetime.datetime(2020, 6, 8, 16, 3, 27, 416279), 'event': 'receiving'}], 'dtn://n49/-644947387-0': [{'timestamp': datetime.datetime(2020, 6, 8, 16, 3, 29, 94461), 'event': 'receiving'}]}, {'dtn://n50/-644947423-0': [{'timestamp': datetime.datetime(2020, 6, 8, 16, 3, 44, 10024), 'event': 'receiving'}, {'timestamp': datetime.datetime(2020, 6, 8, 16, 3, 44, 11068), 'event': 'sending'}]}, {'dtn://n26/-644947426-0': [{'timestamp': datetime.datetime(2020, 6, 8, 16, 3, 46, 55820), 'event': 'receiving'}, {'timestamp': datetime.datetime(2020, 6, 8, 16, 3, 46, 56809), 'event': 'sending'}], 'dtn://n24/-644947433-0': [{'timestamp': datetime.datetime(2020, 6, 8, 16, 3, 54, 1281), 'event': 'receiving'}]}, {'dtn://n29/-644947345-0': [{'timestamp': datetime.datetime(2020, 6, 8, 16, 2, 25, 355759), 'event': 'receiving'}], 'dtn://n27/-644947388-0': [{'timestamp': datetime.datetime(2020, 6, 8, 16, 3, 8, 436497), 'event': 'receiving'}], 'dtn://n49/-644947387-0': [{'timestamp': datetime.datetime(2020, 6, 8, 16, 3, 23, 524416), 'event': 'receiving'}]}, {'dtn://n20/-644947456-0': [{'timestamp': datetime.datetime(2020, 6, 8, 16, 4, 17, 25703), 'event': 'receiving'}], 'dtn://n47/-644947507-0': [{'timestamp': datetime.datetime(2020, 6, 8, 16, 5, 7, 751102), 'event': 'receiving'}]}, {'dtn://n29/-644947345-0': [{'timestamp': datetime.datetime(2020, 6, 8, 16, 2, 25, 382785), 'event': 'receiving'}], 'dtn://n27/-644947388-0': [{'timestamp': datetime.datetime(2020, 6, 8, 16, 3, 8, 322240), 'event': 'receiving'}, {'timestamp': datetime.datetime(2020, 6, 8, 16, 3, 8, 323112), 'event': 'sending'}]}, {'dtn://n20/-644947456-0': [{'timestamp': datetime.datetime(2020, 6, 8, 16, 4, 17, 24493), 'event': 'receiving'}], 'dtn://n47/-644947507-0': [{'timestamp': datetime.datetime(2020, 6, 8, 16, 5, 7, 721830), 'event': 'receiving'}, {'timestamp': datetime.datetime(2020, 6, 8, 16, 5, 7, 722765), 'event': 'sending'}]}, {}, {'dtn://n29/-644947345-0': [{'timestamp': datetime.datetime(2020, 6, 8, 16, 2, 25, 340920), 'event': 'receiving'}], 'dtn://n27/-644947388-0': [{'timestamp': datetime.datetime(2020, 6, 8, 16, 3, 8, 419628), 'event': 'receiving'}], 'dtn://n49/-644947387-0': [{'timestamp': datetime.datetime(2020, 6, 8, 16, 3, 17, 751272), 'event': 'receiving'}]}, {'dtn://n20/-644947456-0': [{'timestamp': datetime.datetime(2020, 6, 8, 16, 4, 17, 10213), 'event': 'receiving'}], 'dtn://n38/-644947483-0': [{'timestamp': datetime.datetime(2020, 6, 8, 16, 5, 16, 560711), 'event': 'receiving'}]}, {'dtn://n20/-644947456-0': [{'timestamp': datetime.datetime(2020, 6, 8, 16, 4, 16, 970179), 'event': 'receiving'}], 'dtn://n22/-644947497-0': [{'timestamp': datetime.datetime(2020, 6, 8, 16, 5, 33, 183795), 'event': 'receiving'}]}, {'dtn://n29/-644947345-0': [{'timestamp': datetime.datetime(2020, 6, 8, 16, 2, 25, 369076), 'event': 'receiving'}], 'dtn://n27/-644947388-0': [{'timestamp': datetime.datetime(2020, 6, 8, 16, 3, 8, 419842), 'event': 'receiving'}], 'dtn://n49/-644947387-0': [{'timestamp': datetime.datetime(2020, 6, 8, 16, 3, 18, 205870), 'event': 'receiving'}]}, {'dtn://n20/-644947456-0': [{'timestamp': datetime.datetime(2020, 6, 8, 16, 4, 16, 972612), 'event': 'receiving'}], 'dtn://n22/-644947497-0': [{'timestamp': datetime.datetime(2020, 6, 8, 16, 6, 1, 737295), 'event': 'receiving'}]}]]\n"
     ]
    }
   ],
   "source": [
    "runtimes_df = parse_bundle_times(experiment_path)"
   ]
  },
  {
   "cell_type": "code",
   "execution_count": null,
   "metadata": {},
   "outputs": [],
   "source": [
    "for routing, routing_df in list(runtimes_df.groupby(['routing'])):\n",
    "    routing_df['duration_s'] = routing_df['duration']/1000\n",
    "    \n",
    "    plot = routing_df.boxplot(\n",
    "        column='duration_s', \n",
    "        by=['Size (MiB)'], \n",
    "        rot=90,\n",
    "        #positions=[\n",
    "        #    0, 1, 2, 3,\n",
    "        #    5, 6, 7, 8,\n",
    "        #    10, 11, 12, 13,\n",
    "        #    15, 16, 17, 18,\n",
    "        #    20, 21, 22, 23,\n",
    "        #    25, 26, 27, 28\n",
    "        #]\n",
    "    )\n",
    "    \n",
    "    plt.title(\"\")\n",
    "    plt.suptitle(\"\")\n",
    "    \n",
    "    #plt.xlabel(\"\")\n",
    "    #plot.set_xticklabels([\"DTN7\", \"Forban\", \"IBR-DTN\", \"Serval\"]*6, minor=False)\n",
    "\n",
    "    plt.ylabel(\"Transmission Time (s)\")\n",
    "    #plt.yscale('log')\n",
    "    #plot.get_yaxis().set_major_formatter(matplotlib.ticker.ScalarFormatter())\n",
    "    #plot.yaxis.set_label_coords(-0.15, 0.5)\n",
    "    \n",
    "    #plot.annotate('64 KiB', (0,0), (8, -60), xycoords='axes fraction', textcoords='offset points', va='top')\n",
    "    #plot.annotate('1 MiB', (0,0), (68, -60), xycoords='axes fraction', textcoords='offset points', va='top')\n",
    "    #plot.annotate('5 MiB', (0,0), (129, -60), xycoords='axes fraction', textcoords='offset points', va='top')\n",
    "    #plot.annotate('25 MiB', (0,0), (186, -60), xycoords='axes fraction', textcoords='offset points', va='top')\n",
    "    #plot.annotate('50 MiB', (0,0), (246, -60), xycoords='axes fraction', textcoords='offset points', va='top')\n",
    "    #plot.annotate('100 MiB', (0,0), (301, -60), xycoords='axes fraction', textcoords='offset points', va='top')\n",
    "    \n",
    "    #plt.savefig(\"plots/chain-runtimes-{}.pdf\".format(node_num), bbox_inches='tight')\n",
    "plt.show()"
   ]
  }
 ],
 "metadata": {
  "kernelspec": {
   "display_name": "Python 3",
   "language": "python",
   "name": "python3"
  },
  "language_info": {
   "codemirror_mode": {
    "name": "ipython",
    "version": 3
   },
   "file_extension": ".py",
   "mimetype": "text/x-python",
   "name": "python",
   "nbconvert_exporter": "python",
   "pygments_lexer": "ipython3",
   "version": "3.7.6"
  }
 },
 "nbformat": 4,
 "nbformat_minor": 4
}
